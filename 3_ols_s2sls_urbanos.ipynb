{
  "cells": [
    {
      "cell_type": "markdown",
      "metadata": {
        "id": "bf0vtLyrJnMS"
      },
      "source": [
        "# OLS e REGRESSÃO ESPACIAL (IMÓVEIS URBANOS)"
      ]
    },
    {
      "cell_type": "markdown",
      "metadata": {
        "id": "Np1mCFdMGgMa"
      },
      "source": [
        "## Instalação de Pacotes Necessários"
      ]
    },
    {
      "cell_type": "code",
      "execution_count": null,
      "metadata": {
        "id": "J90uWu-vJnMb"
      },
      "outputs": [],
      "source": [
        "%time\n",
        "import os\n",
        "import numpy as np\n",
        "from numpy import mean\n",
        "from numpy import std\n",
        "import seaborn as sns\n",
        "import statsmodels.api as sm\n",
        "\n",
        "!pip install --upgrade pandas\n",
        "import pandas as pd\n",
        "from pandas import read_csv\n",
        "\n",
        "import matplotlib.pyplot as plt\n",
        "%matplotlib inline\n",
        "\n",
        "import math as math\n",
        "\n",
        "from sklearn.preprocessing import MinMaxScaler\n",
        "from sklearn.model_selection import train_test_split\n",
        "from sklearn.metrics import r2_score\n",
        "from sklearn.metrics import mean_squared_error, r2_score, make_scorer\n",
        "\n",
        "!pip install --upgrade scipy\n",
        "import scipy as scipy\n",
        "from scipy import stats\n",
        "from scipy.stats import t\n",
        "\n",
        "!pip install --upgrade shap\n",
        "import shap as shap\n",
        "shap.initjs()"
      ]
    },
    {
      "cell_type": "code",
      "source": [
        "!pip install --upgrade geopandas\n",
        "import geopandas\n",
        "\n",
        "!pip install --upgrade pysal\n",
        "import pysal\n",
        "from pysal.model import spreg\n",
        "from pysal.lib import weights\n",
        "from pysal.lib import cg as geometry\n",
        "\n",
        "!pip install --upgrade contextily\n",
        "import contextily\n",
        "\n",
        "import matplotlib.pyplot as plt\n",
        "from sklearn.cluster import DBSCAN\n",
        "\n",
        "from spreg import OLS\n",
        "\n",
        "from pointpats import centrography"
      ],
      "metadata": {
        "id": "nJBB3YPlfwCm"
      },
      "execution_count": null,
      "outputs": []
    },
    {
      "cell_type": "markdown",
      "metadata": {
        "id": "9oEFjCaNc9VE"
      },
      "source": [
        "## Importação de Dados Geolocalizados"
      ]
    },
    {
      "cell_type": "code",
      "execution_count": null,
      "metadata": {
        "id": "kAv-3akyEufC"
      },
      "outputs": [],
      "source": [
        "!pip install --upgrade gspread"
      ]
    },
    {
      "cell_type": "code",
      "execution_count": null,
      "metadata": {
        "id": "QPO_dfUQFU_8"
      },
      "outputs": [],
      "source": [
        "# autorização de acesso ao Google Drive \n",
        "\n",
        "from google.colab import auth\n",
        "auth.authenticate_user()\n",
        "\n",
        "import gspread\n",
        "from google.auth import default\n",
        "creds, _ = default()\n",
        "\n",
        "gc = gspread.authorize(creds)"
      ]
    },
    {
      "cell_type": "code",
      "execution_count": null,
      "metadata": {
        "id": "AwB3jIZcmSBZ"
      },
      "outputs": [],
      "source": [
        "planilha = gc.open('nome_basededados')\n",
        "pagina = planilha.sheet1\n",
        "pagina.row_values(1)"
      ]
    },
    {
      "cell_type": "code",
      "execution_count": null,
      "metadata": {
        "id": "6n0evdndoFYj"
      },
      "outputs": [],
      "source": [
        "df_Uniao = pd.DataFrame(pagina.get_all_records())"
      ]
    },
    {
      "cell_type": "code",
      "execution_count": null,
      "metadata": {
        "id": "GDCpi-CPHUD6"
      },
      "outputs": [],
      "source": [
        "df_Uniao.head(5)"
      ]
    },
    {
      "cell_type": "code",
      "execution_count": null,
      "metadata": {
        "id": "NKW1gNFQ1CzV"
      },
      "outputs": [],
      "source": [
        "df_Uniao.columns"
      ]
    },
    {
      "cell_type": "code",
      "execution_count": null,
      "metadata": {
        "id": "DFERU6z-JLvC"
      },
      "outputs": [],
      "source": [
        "df_Uniao.shape"
      ]
    },
    {
      "cell_type": "code",
      "execution_count": null,
      "metadata": {
        "id": "q_-YGhovKTsV"
      },
      "outputs": [],
      "source": [
        "df_Uniao.isna().sum()"
      ]
    },
    {
      "cell_type": "code",
      "execution_count": null,
      "metadata": {
        "id": "HypwoORUKcQS"
      },
      "outputs": [],
      "source": [
        "df_Uniao = df_Uniao.dropna()"
      ]
    },
    {
      "cell_type": "code",
      "execution_count": null,
      "metadata": {
        "id": "4E-w3Q4-KfvS"
      },
      "outputs": [],
      "source": [
        "df_Uniao = df_Uniao.reset_index(drop=True)"
      ]
    },
    {
      "cell_type": "code",
      "execution_count": null,
      "metadata": {
        "id": "U5PCANzqKnKt"
      },
      "outputs": [],
      "source": [
        "df_Uniao.dtypes"
      ]
    },
    {
      "cell_type": "code",
      "execution_count": null,
      "metadata": {
        "id": "9lRstVwFKqa1"
      },
      "outputs": [],
      "source": [
        "df_Uniao = df_Uniao.astype({\"% Superior Completo\": float})\n",
        "df_Uniao = df_Uniao.astype({\"% Rede Geral de Distribuicao de Agua\": float})\n",
        "df_Uniao = df_Uniao.astype({\"% Microcomputador com Acesso a Internet\": float})\n",
        "df_Uniao = df_Uniao.astype({\"Rendimento Domiciliar Medio\": float})\n",
        "\n",
        "df_Uniao.dtypes"
      ]
    },
    {
      "cell_type": "code",
      "execution_count": null,
      "metadata": {
        "id": "oupT_O0OK0kK"
      },
      "outputs": [],
      "source": [
        "df_Uniao.describe()"
      ]
    },
    {
      "cell_type": "code",
      "execution_count": null,
      "metadata": {
        "id": "VP7pYRtUb9ba"
      },
      "outputs": [],
      "source": [
        "df_Uniao[df_Uniao[\"Fonte\"]  == \"ME\"].count()"
      ]
    },
    {
      "cell_type": "code",
      "execution_count": null,
      "metadata": {
        "id": "9Zocl9SVUB_M"
      },
      "outputs": [],
      "source": [
        "df_Uniao[df_Uniao[\"Fonte\"]  == \"EB\"].count()"
      ]
    },
    {
      "cell_type": "code",
      "execution_count": null,
      "metadata": {
        "id": "j-3dwqKLbthj"
      },
      "outputs": [],
      "source": [
        "df_Uniao.drop([2730,4341,4581], axis=0, inplace=True)"
      ]
    },
    {
      "cell_type": "markdown",
      "metadata": {
        "id": "lQ_fdqLFlB2M"
      },
      "source": [
        "# Abordagem 2\n",
        "\n",
        "Transformação da área do terreno (área projetada horizontal do imóvel) e do valor total atualizado com logaritmo neperiano (sem remoção de *outliers*), logaritmo neperiano do valor total atualizado como variável dependente."
      ]
    },
    {
      "cell_type": "code",
      "execution_count": null,
      "metadata": {
        "id": "7wtbNeJpLebB"
      },
      "outputs": [],
      "source": [
        "df_Uniao.columns"
      ]
    },
    {
      "cell_type": "code",
      "execution_count": null,
      "metadata": {
        "id": "My3QoK-k4lZr"
      },
      "outputs": [],
      "source": [
        "df_Uniao.describe()"
      ]
    },
    {
      "cell_type": "code",
      "execution_count": null,
      "metadata": {
        "id": "yAHbd1WASDqY"
      },
      "outputs": [],
      "source": [
        "df_Uniao['CUB*AreaConstruida'] = df_Uniao['CUBJan22'] * df_Uniao['AreaConstruidaTratada']"
      ]
    },
    {
      "cell_type": "code",
      "execution_count": null,
      "metadata": {
        "id": "ieXSPFKe4yQy"
      },
      "outputs": [],
      "source": [
        "df_Uniao.columns"
      ]
    },
    {
      "cell_type": "code",
      "source": [
        "var = 'ValorTotalAtualizado'\n",
        "\n",
        "print(np.log(df_Uniao[var].min()))\n",
        "print(np.log(df_Uniao[var].max()))"
      ],
      "metadata": {
        "id": "X5vYt8EAH906"
      },
      "execution_count": null,
      "outputs": []
    },
    {
      "cell_type": "code",
      "execution_count": null,
      "metadata": {
        "id": "iWtTzh7q5ZFJ"
      },
      "outputs": [],
      "source": [
        "# U1\n",
        "\n",
        "col_list = df_Uniao.columns.tolist()\n",
        "\n",
        "listaaremover = ['Fonte', 'Id', 'Município', 'UF', 'TipologiaMunicipalIBGE', 'IVS_2010', 'TaxaHomicidios_2019',\n",
        "       'TipoImovel', 'CUBJan22', 'VidaUtil', 'AreaConstruidaTratada',\n",
        "       'AreaProjetadaTratada', 'IndiceFipeZapAvaliacao', 'IndiceFipeZapJan22',\n",
        "       'ValorTotalAtualizado', 'ValorUnitarioAtualizado', 'CodigoAP', 'NomeAP',\n",
        "       '% Superior Completo', '% Rede Geral de Distribuicao de Agua',\n",
        "       '% Microcomputador com Acesso a Internet', 'xcoord', 'ycoord', 'LatLong',\n",
        "       'qtd_equipamento', 'qtd_hospital',\n",
        "       'qtd_parque', 'qtd_delegacia', 'qtd_escola',\n",
        "       'qtd_universidade', 'qtd_atracaoturistica', 'qtd_supermercado',\n",
        "       'qtd_restaurante', 'qtd_padaria', 'qtd_cafeteria', 'qtd_loja', 'qtd_parada_onibus', 'qtd_estacao_vlt',\n",
        "       'qtd_estacao_metro', 'qtd_estacao_trem', 'qtd_aeroporto',\n",
        "       'acessibilidade', 'GoogleTrends2022', 'GrauUrbanizacaoIBGE', 'Rendimento Domiciliar Medio', 'qtd_shopping', 'qtd_estabelecimento', 'IdadeAparente']\n",
        "\n",
        "for e in listaaremover:\n",
        "  col_list.remove(e)\n",
        "\n",
        "X_final_log_N1 = df_Uniao[col_list]\n",
        "\n",
        "y_final_log_N1 = np.log(df_Uniao['ValorTotalAtualizado'])\n",
        "\n",
        "y_final_log_N1 = y_final_log_N1[:,np.newaxis]"
      ]
    },
    {
      "cell_type": "code",
      "execution_count": null,
      "metadata": {
        "id": "Nvt1vf3mEsSA"
      },
      "outputs": [],
      "source": [
        "# U2\n",
        "\n",
        "col_list = df_Uniao.columns.tolist()\n",
        "\n",
        "listaaremover = ['Fonte', 'Id', 'Município', 'UF', 'TipologiaMunicipalIBGE', 'IVS_2010', 'TaxaHomicidios_2019',\n",
        "       'TipoImovel', 'CUBJan22', 'VidaUtil', 'AreaConstruidaTratada',\n",
        "       'AreaProjetadaTratada', 'IndiceFipeZapAvaliacao', 'IndiceFipeZapJan22',\n",
        "       'ValorTotalAtualizado', 'ValorUnitarioAtualizado', 'CodigoAP', 'NomeAP',\n",
        "       '% Superior Completo', '% Rede Geral de Distribuicao de Agua',\n",
        "       '% Microcomputador com Acesso a Internet', 'xcoord', 'ycoord', 'LatLong',\n",
        "       'qtd_equipamento', 'qtd_hospital',\n",
        "       'qtd_parque', 'qtd_delegacia', 'qtd_escola',\n",
        "       'qtd_universidade', 'qtd_atracaoturistica', 'qtd_supermercado',\n",
        "       'qtd_restaurante', 'qtd_padaria', 'qtd_cafeteria', 'qtd_loja', 'qtd_parada_onibus', 'qtd_estacao_vlt',\n",
        "       'qtd_estacao_metro', 'qtd_estacao_trem', 'qtd_aeroporto',\n",
        "       'acessibilidade', 'GoogleTrends2022', 'GrauUrbanizacaoIBGE', 'Rendimento Domiciliar Medio', 'qtd_shopping', 'qtd_estabelecimento']\n",
        "\n",
        "for e in listaaremover:\n",
        "  col_list.remove(e)\n",
        "\n",
        "X_final_log_N2 = df_Uniao[col_list]\n",
        "\n",
        "y_final_log_N2 = np.log(df_Uniao['ValorTotalAtualizado'])\n",
        "\n",
        "y_final_log_N2 = y_final_log_N2[:,np.newaxis]"
      ]
    },
    {
      "cell_type": "code",
      "execution_count": null,
      "metadata": {
        "id": "CjWogmpNshye"
      },
      "outputs": [],
      "source": [
        "# U3\n",
        "\n",
        "col_list = df_Uniao.columns.tolist()\n",
        "\n",
        "listaaremover = ['Fonte', 'Id', 'Município', 'UF', 'TipologiaMunicipalIBGE', 'IVS_2010', 'TaxaHomicidios_2019',\n",
        "       'TipoImovel', 'CUBJan22', 'VidaUtil', 'AreaConstruidaTratada',\n",
        "       'AreaProjetadaTratada', 'IndiceFipeZapAvaliacao', 'IndiceFipeZapJan22',\n",
        "       'ValorTotalAtualizado', 'ValorUnitarioAtualizado', 'CodigoAP', 'NomeAP',\n",
        "       '% Superior Completo', '% Rede Geral de Distribuicao de Agua',\n",
        "       '% Microcomputador com Acesso a Internet', 'xcoord', 'ycoord', 'LatLong', 'qtd_hospital',\n",
        "       'qtd_parque', 'qtd_delegacia', 'qtd_escola',\n",
        "       'qtd_universidade', 'qtd_atracaoturistica', 'qtd_supermercado',\n",
        "       'qtd_restaurante', 'qtd_padaria', 'qtd_cafeteria', 'qtd_loja', 'qtd_parada_onibus', 'qtd_estacao_vlt',\n",
        "       'qtd_estacao_metro', 'qtd_estacao_trem', 'qtd_aeroporto',\n",
        "       'acessibilidade', 'GoogleTrends2022', 'GrauUrbanizacaoIBGE']\n",
        "\n",
        "for e in listaaremover:\n",
        "  col_list.remove(e)\n",
        "\n",
        "X_final_log_N3 = df_Uniao[col_list]\n",
        "\n",
        "y_final_log_N3 = np.log(df_Uniao['ValorTotalAtualizado'])\n",
        "\n",
        "y_final_log_N3 = y_final_log_N3[:,np.newaxis]"
      ]
    },
    {
      "cell_type": "code",
      "execution_count": null,
      "metadata": {
        "id": "leydCKtPxBix"
      },
      "outputs": [],
      "source": [
        "X_final_log_N3.dtypes"
      ]
    },
    {
      "cell_type": "markdown",
      "source": [
        "## Testes de Normalidade"
      ],
      "metadata": {
        "id": "iSd1wroWdkVd"
      }
    },
    {
      "cell_type": "code",
      "source": [
        "# Teste de Shapiro-Wilk \n",
        "\n",
        "col_list = df_Uniao.columns.tolist()\n",
        "\n",
        "listaaremover_testesnormalidade = ['Fonte', 'Id', 'Município', 'UF', 'TipologiaMunicipalIBGE', 'IVS_2010', 'TaxaHomicidios_2019',\n",
        "       'TipoImovel', 'CUBJan22', 'VidaUtil', 'AreaConstruidaTratada',\n",
        "       'AreaProjetadaTratada', 'IndiceFipeZapAvaliacao', 'IndiceFipeZapJan22',\n",
        "       'ValorTotalAtualizado', 'ValorUnitarioAtualizado', 'CodigoAP', 'NomeAP',\n",
        "       '% Superior Completo', '% Rede Geral de Distribuicao de Agua',\n",
        "       '% Microcomputador com Acesso a Internet', 'xcoord', 'ycoord', 'LatLong', 'qtd_hospital',\n",
        "       'qtd_parque', 'qtd_delegacia', 'qtd_escola',\n",
        "       'qtd_universidade', 'qtd_atracaoturistica', 'qtd_supermercado',\n",
        "       'qtd_restaurante', 'qtd_padaria', 'qtd_cafeteria', 'qtd_loja', 'qtd_parada_onibus', 'qtd_estacao_vlt',\n",
        "       'qtd_estacao_metro', 'qtd_estacao_trem', 'qtd_aeroporto',\n",
        "       'acessibilidade', 'GoogleTrends2022', 'GrauUrbanizacaoIBGE', 'Vocacao']\n",
        "\n",
        "for e in listaaremover_testesnormalidade:\n",
        "  col_list.remove(e)\n",
        "\n",
        "X_testesnormalidade = df_Uniao[col_list]\n",
        "\n",
        "logArea_normalidade = np.log(df_Uniao.loc[:,'AreaProjetadaTratada'])\n",
        "\n",
        "X_testesnormalidade['logArea'] = logArea_normalidade\n",
        "\n",
        "for variavel in X_testesnormalidade.columns:\n",
        "  shapiro_test = stats.shapiro(X_testesnormalidade[variavel])\n",
        "  print(variavel)\n",
        "  print(shapiro_test)"
      ],
      "metadata": {
        "id": "b9TV1xFMdTAd"
      },
      "execution_count": null,
      "outputs": []
    },
    {
      "cell_type": "code",
      "source": [
        "# Teste de Jarque-Bera\n",
        "\n",
        "for variavel in X_testesnormalidade.columns:\n",
        "  jarque_bera_test = stats.jarque_bera(X_testesnormalidade[variavel])\n",
        "  print(variavel)\n",
        "  print(jarque_bera_test)"
      ],
      "metadata": {
        "id": "9YIiaYw8dw4j"
      },
      "execution_count": null,
      "outputs": []
    },
    {
      "cell_type": "markdown",
      "source": [
        "Há evidências de que as variáveis têm assimetria e curtose significativamente\n",
        "diferentes de uma distribuição normal. Portanto, não se aplicará a transformação StandardScaler()."
      ],
      "metadata": {
        "id": "YpI5mNntd112"
      }
    },
    {
      "cell_type": "markdown",
      "metadata": {
        "id": "Hk2newApuSPP"
      },
      "source": [
        "## Partição em Conjuntos de Treinamento e de Teste"
      ]
    },
    {
      "cell_type": "code",
      "execution_count": null,
      "metadata": {
        "id": "Ii4qaTyUnGwo"
      },
      "outputs": [],
      "source": [
        "logArea = np.log(df_Uniao.loc[:,'AreaProjetadaTratada'])\n",
        "\n",
        "X_final_log_N1.loc[:,'logArea'] = logArea\n",
        "X_final_log_N2.loc[:,'logArea'] = logArea\n",
        "X_final_log_N3.loc[:,'logArea'] = logArea"
      ]
    },
    {
      "cell_type": "code",
      "execution_count": null,
      "metadata": {
        "id": "kSE5afWd7afb"
      },
      "outputs": [],
      "source": [
        "X_train_log_N1, X_test_log_N1, y_train_log_N1, y_test_log_N1 = train_test_split(X_final_log_N1, y_final_log_N1, test_size=0.33, shuffle=True, random_state=7, stratify=X_final_log_N1['Vocacao'])"
      ]
    },
    {
      "cell_type": "code",
      "execution_count": null,
      "metadata": {
        "id": "JQL47epEFDmC"
      },
      "outputs": [],
      "source": [
        "X_train_log_N2, X_test_log_N2, y_train_log_N2, y_test_log_N2 = train_test_split(X_final_log_N2, y_final_log_N2, test_size=0.33, shuffle=True, random_state=7, stratify=X_final_log_N2['Vocacao'])"
      ]
    },
    {
      "cell_type": "code",
      "execution_count": null,
      "metadata": {
        "id": "U-IDs59vtJEa"
      },
      "outputs": [],
      "source": [
        "X_train_log_N3, X_test_log_N3, y_train_log_N3, y_test_log_N3 = train_test_split(X_final_log_N3, y_final_log_N3, test_size=0.33, shuffle=True, random_state=7, stratify=X_final_log_N3['Vocacao'])"
      ]
    },
    {
      "cell_type": "code",
      "execution_count": null,
      "metadata": {
        "id": "sFcFfzeauIY8"
      },
      "outputs": [],
      "source": [
        "X_train_log_N1 = pd.get_dummies(X_train_log_N1, columns = ['Vocacao'])\n",
        "X_test_log_N1 = pd.get_dummies(X_test_log_N1, columns = ['Vocacao'])"
      ]
    },
    {
      "cell_type": "code",
      "execution_count": null,
      "metadata": {
        "id": "Wvw7nIUNFcLm"
      },
      "outputs": [],
      "source": [
        "X_train_log_N2 = pd.get_dummies(X_train_log_N2, columns = ['Vocacao'])\n",
        "X_test_log_N2 = pd.get_dummies(X_test_log_N2, columns = ['Vocacao'])"
      ]
    },
    {
      "cell_type": "code",
      "execution_count": null,
      "metadata": {
        "id": "CbGcjeTB8FXc"
      },
      "outputs": [],
      "source": [
        "X_train_log_N3 = pd.get_dummies(X_train_log_N3, columns = ['Vocacao'])\n",
        "X_test_log_N3 = pd.get_dummies(X_test_log_N3, columns = ['Vocacao'])"
      ]
    },
    {
      "cell_type": "code",
      "execution_count": null,
      "metadata": {
        "id": "r5CZKc4BAAP9"
      },
      "outputs": [],
      "source": [
        "X_train_log_N1.columns"
      ]
    },
    {
      "cell_type": "code",
      "execution_count": null,
      "metadata": {
        "id": "H_9jRv7WFiN1"
      },
      "outputs": [],
      "source": [
        "X_train_log_N2.columns"
      ]
    },
    {
      "cell_type": "code",
      "execution_count": null,
      "metadata": {
        "id": "Iszf__1PBC72"
      },
      "outputs": [],
      "source": [
        "X_train_log_N3.columns"
      ]
    },
    {
      "cell_type": "code",
      "execution_count": null,
      "metadata": {
        "id": "IMzX9NXP_91W"
      },
      "outputs": [],
      "source": [
        "# U1\n",
        "\n",
        "mms_N1_A = MinMaxScaler()\n",
        "\n",
        "X_train_log_N1[['CapitalUF', 'IDHM_2010', 'Terreno', 'CUB*AreaConstruida',\n",
        "       'Vocacao_Comercial', 'Vocacao_Institucional', 'Vocacao_Misto',\n",
        "       'Vocacao_Residencial']] = mms_N1_A.fit_transform(X_train_log_N1[['CapitalUF', 'IDHM_2010', 'Terreno', 'CUB*AreaConstruida',\n",
        "       'Vocacao_Comercial', 'Vocacao_Institucional', 'Vocacao_Misto',\n",
        "       'Vocacao_Residencial']])\n",
        "\n",
        "X_test_log_N1[['CapitalUF', 'IDHM_2010', 'Terreno', 'CUB*AreaConstruida',\n",
        "       'Vocacao_Comercial', 'Vocacao_Institucional', 'Vocacao_Misto',\n",
        "       'Vocacao_Residencial']] = mms_N1_A.transform(X_test_log_N1[['CapitalUF', 'IDHM_2010', 'Terreno', 'CUB*AreaConstruida',\n",
        "       'Vocacao_Comercial', 'Vocacao_Institucional', 'Vocacao_Misto',\n",
        "       'Vocacao_Residencial']])"
      ]
    },
    {
      "cell_type": "code",
      "execution_count": null,
      "metadata": {
        "id": "-M0XADP8Fg6d"
      },
      "outputs": [],
      "source": [
        "# U2\n",
        "\n",
        "mms_N2_A = MinMaxScaler()\n",
        "\n",
        "X_train_log_N2[['CapitalUF', 'IDHM_2010', 'Terreno', 'IdadeAparente',\n",
        "       'CUB*AreaConstruida', 'Vocacao_Comercial',\n",
        "       'Vocacao_Institucional', 'Vocacao_Misto', 'Vocacao_Residencial']] = mms_N2_A.fit_transform(X_train_log_N2[['CapitalUF', 'IDHM_2010', 'Terreno', 'IdadeAparente',\n",
        "       'CUB*AreaConstruida', 'Vocacao_Comercial',\n",
        "       'Vocacao_Institucional', 'Vocacao_Misto', 'Vocacao_Residencial']])\n",
        "\n",
        "X_test_log_N2[['CapitalUF', 'IDHM_2010', 'Terreno', 'IdadeAparente',\n",
        "       'CUB*AreaConstruida', 'Vocacao_Comercial',\n",
        "       'Vocacao_Institucional', 'Vocacao_Misto', 'Vocacao_Residencial']] = mms_N2_A.transform(X_test_log_N2[['CapitalUF', 'IDHM_2010', 'Terreno', 'IdadeAparente',\n",
        "       'CUB*AreaConstruida', 'Vocacao_Comercial',\n",
        "       'Vocacao_Institucional', 'Vocacao_Misto', 'Vocacao_Residencial']])"
      ]
    },
    {
      "cell_type": "code",
      "execution_count": null,
      "metadata": {
        "id": "KC_8OyDQT8mg"
      },
      "outputs": [],
      "source": [
        "# U3\n",
        "\n",
        "mms_N3_A = MinMaxScaler()\n",
        "\n",
        "X_train_log_N3[['CapitalUF', 'IDHM_2010', 'Terreno', 'IdadeAparente',\n",
        "       'Rendimento Domiciliar Medio', 'qtd_equipamento',\n",
        "       'qtd_shopping', 'qtd_estabelecimento', 'CUB*AreaConstruida', 'Vocacao_Comercial', 'Vocacao_Institucional',\n",
        "       'Vocacao_Misto', 'Vocacao_Residencial']] = mms_N3_A.fit_transform(X_train_log_N3[['CapitalUF', 'IDHM_2010', 'Terreno', 'IdadeAparente',\n",
        "       'Rendimento Domiciliar Medio', 'qtd_equipamento',\n",
        "       'qtd_shopping', 'qtd_estabelecimento', 'CUB*AreaConstruida', 'Vocacao_Comercial', 'Vocacao_Institucional',\n",
        "       'Vocacao_Misto', 'Vocacao_Residencial']])\n",
        "\n",
        "X_test_log_N3[['CapitalUF', 'IDHM_2010', 'Terreno', 'IdadeAparente',\n",
        "       'Rendimento Domiciliar Medio', 'qtd_equipamento_semshopping',\n",
        "       'qtd_shopping', 'qtd_estabelecimento', 'CUB*AreaConstruida', 'Vocacao_Comercial', 'Vocacao_Institucional',\n",
        "       'Vocacao_Misto', 'Vocacao_Residencial']] = mms_N3_A.transform(X_test_log_N3[['CapitalUF', 'IDHM_2010', 'Terreno', 'IdadeAparente',\n",
        "       'Rendimento Domiciliar Medio', 'qtd_equipamento_semshopping',\n",
        "       'qtd_shopping', 'qtd_estabelecimento', 'CUB*AreaConstruida', 'Vocacao_Comercial', 'Vocacao_Institucional',\n",
        "       'Vocacao_Misto', 'Vocacao_Residencial']])"
      ]
    },
    {
      "cell_type": "markdown",
      "metadata": {
        "id": "ei5_TslFsyjG"
      },
      "source": [
        "## Modelagem Linear (OLS e Regressão Espacial)"
      ]
    },
    {
      "cell_type": "code",
      "execution_count": null,
      "metadata": {
        "id": "s7XBI_wNuwkh"
      },
      "outputs": [],
      "source": [
        "df_Uniao.info()"
      ]
    },
    {
      "cell_type": "code",
      "execution_count": null,
      "metadata": {
        "id": "ZrFJlO9GGNBe"
      },
      "outputs": [],
      "source": [
        "col_list = df_Uniao.columns.tolist()\n",
        "\n",
        "listaaremover = ['Fonte', 'Id', 'Município', 'UF', 'TipologiaMunicipalIBGE', 'IVS_2010', 'TaxaHomicidios_2019',\n",
        "       'TipoImovel', 'CUBJan22', 'VidaUtil', 'AreaConstruidaTratada',\n",
        "       'AreaProjetadaTratada', 'IndiceFipeZapAvaliacao', 'IndiceFipeZapJan22',\n",
        "       'ValorTotalAtualizado', 'ValorUnitarioAtualizado', 'CodigoAP', 'NomeAP',\n",
        "       '% Superior Completo', '% Rede Geral de Distribuicao de Agua',\n",
        "       '% Microcomputador com Acesso a Internet', 'LatLong', 'qtd_hospital',\n",
        "       'qtd_parque', 'qtd_delegacia', 'qtd_escola',\n",
        "       'qtd_universidade', 'qtd_atracaoturistica', 'qtd_supermercado',\n",
        "       'qtd_restaurante', 'qtd_padaria', 'qtd_cafeteria', 'qtd_loja', 'qtd_parada_onibus', 'qtd_estacao_vlt',\n",
        "       'qtd_estacao_metro', 'qtd_estacao_trem', 'qtd_aeroporto',\n",
        "       'acessibilidade', 'GoogleTrends2022', 'GrauUrbanizacaoIBGE']\n",
        "\n",
        "for e in listaaremover:\n",
        "  col_list.remove(e)\n",
        "\n",
        "df_Uniao_Geo = df_Uniao[col_list]\n",
        "\n",
        "logArea = np.log(df_Uniao['AreaProjetadaTratada'])\n",
        "df_Uniao_Geo['logArea'] = logArea\n",
        "\n",
        "LnValorTotalAtualizado = np.log(df_Uniao['ValorTotalAtualizado'])"
      ]
    },
    {
      "cell_type": "code",
      "execution_count": null,
      "metadata": {
        "id": "zpEtsFEjRwXL"
      },
      "outputs": [],
      "source": [
        "df_Uniao_Geo.columns"
      ]
    },
    {
      "cell_type": "code",
      "execution_count": null,
      "metadata": {
        "id": "PlILJ5DD4Ehp"
      },
      "outputs": [],
      "source": [
        "joint_axes = sns.jointplot(\n",
        "    x=\"xcoord\", y=\"ycoord\", data=df_Uniao_Geo, s=2.0, color = \"green\", xlim = [-80,-30], ylim = [-40,10], height = 20\n",
        ")\n",
        "contextily.add_basemap(\n",
        "    joint_axes.ax_joint,\n",
        "    crs=\"EPSG:4326\",\n",
        "    source=contextily.providers.CartoDB.PositronNoLabels,\n",
        ");"
      ]
    },
    {
      "cell_type": "code",
      "execution_count": null,
      "metadata": {
        "id": "ehUiHzZh43TY"
      },
      "outputs": [],
      "source": [
        "# Criação de Gráfico de Densidade de Imóveis Urbanos Anotados\n",
        "\n",
        "f, ax = plt.subplots(1, figsize=(20, 20))\n",
        "\n",
        "sns.kdeplot(\n",
        "    df_Uniao_Geo[\"xcoord\"],\n",
        "    df_Uniao_Geo[\"ycoord\"],\n",
        "    n_levels=20,\n",
        "    shade=True,\n",
        "    alpha=0.55,\n",
        "    cmap=\"viridis_r\"\n",
        ")\n",
        "\n",
        "contextily.add_basemap(\n",
        "    ax, source=contextily.providers.CartoDB.Positron,crs=\"EPSG:4326\"\n",
        ")\n",
        "\n",
        "plt.xlim([-80,-30])\n",
        "plt.ylim([-40,10])\n",
        "\n",
        "plt.show()"
      ]
    },
    {
      "cell_type": "code",
      "execution_count": null,
      "metadata": {
        "id": "0qksOPSR6wTB"
      },
      "outputs": [],
      "source": [
        "mean_center = centrography.mean_center(df_Uniao_Geo[[\"xcoord\", \"ycoord\"]])\n",
        "med_center = centrography.euclidean_median(df_Uniao_Geo[[\"xcoord\", \"ycoord\"]])"
      ]
    },
    {
      "cell_type": "code",
      "execution_count": null,
      "metadata": {
        "id": "KD7Vn2jv647A"
      },
      "outputs": [],
      "source": [
        "joint_axes = sns.jointplot(\n",
        "    x=\"xcoord\", y=\"ycoord\", data=df_Uniao_Geo, s=0.75, height=9\n",
        ")\n",
        "\n",
        "joint_axes.ax_joint.scatter(\n",
        "    *mean_center, color=\"red\", marker=\"x\", s=50, label=\"Mean Center\"\n",
        ")\n",
        "joint_axes.ax_marg_x.axvline(mean_center[0], color=\"red\")\n",
        "joint_axes.ax_marg_y.axhline(mean_center[1], color=\"red\")\n",
        "\n",
        "joint_axes.ax_joint.scatter(\n",
        "    *med_center,\n",
        "    color=\"limegreen\",\n",
        "    marker=\"o\",\n",
        "    s=50,\n",
        "    label=\"Median Center\"\n",
        ")\n",
        "joint_axes.ax_marg_x.axvline(med_center[0], color=\"limegreen\")\n",
        "joint_axes.ax_marg_y.axhline(med_center[1], color=\"limegreen\")\n",
        "\n",
        "joint_axes.ax_joint.legend()\n",
        "\n",
        "contextily.add_basemap(\n",
        "    joint_axes.ax_joint, source=contextily.providers.CartoDB.Positron,crs=\"EPSG:4326\"\n",
        ")\n",
        "\n",
        "joint_axes.ax_joint.set_axis_off()\n",
        "\n",
        "plt.xlim([-80,-20])\n",
        "plt.ylim([-40,10])\n",
        "\n",
        "plt.show()"
      ]
    },
    {
      "cell_type": "code",
      "execution_count": null,
      "metadata": {
        "id": "soL2CiwH8QWY"
      },
      "outputs": [],
      "source": [
        "df_Uniao_Geo[\"geometry\"] = geopandas.points_from_xy(df_Uniao_Geo[\"xcoord\"], df_Uniao_Geo[\"ycoord\"])\n",
        "df_Uniao_Geo = geopandas.GeoDataFrame(df_Uniao_Geo, crs=\"epsg:3857\")"
      ]
    },
    {
      "cell_type": "code",
      "execution_count": null,
      "metadata": {
        "id": "ykPnDXh5bvYl"
      },
      "outputs": [],
      "source": [
        "radius = geometry.sphere.RADIUS_EARTH_KM\n",
        "radius"
      ]
    },
    {
      "cell_type": "code",
      "execution_count": null,
      "metadata": {
        "id": "08BMmpiUZ7Lt"
      },
      "outputs": [],
      "source": [
        "w = weights.DistanceBand.from_dataframe(df_Uniao_Geo, threshold=1.0, binary=False, radius = radius, alpha = -1.0)\n",
        "w.transform = 'r'"
      ]
    },
    {
      "cell_type": "code",
      "execution_count": null,
      "metadata": {
        "id": "v9U1eaXRJgbk"
      },
      "outputs": [],
      "source": [
        "df_Uniao_Geo.columns"
      ]
    },
    {
      "cell_type": "code",
      "execution_count": null,
      "metadata": {
        "id": "2jPVklFPJ2qF"
      },
      "outputs": [],
      "source": [
        "df_Uniao_Geo = pd.get_dummies(df_Uniao_Geo, columns = ['Vocacao'])"
      ]
    },
    {
      "cell_type": "code",
      "execution_count": null,
      "metadata": {
        "id": "au2XB9VJODg-"
      },
      "outputs": [],
      "source": [
        "col_list = df_Uniao_Geo.columns.tolist()\n",
        "\n",
        "listaaremover = ['xcoord','ycoord','geometry']\n",
        "\n",
        "for e in listaaremover:\n",
        "  col_list.remove(e)\n",
        "\n",
        "df_Uniao_Geo = df_Uniao_Geo[col_list]"
      ]
    },
    {
      "cell_type": "code",
      "execution_count": null,
      "metadata": {
        "id": "KWSio2LVNiMb"
      },
      "outputs": [],
      "source": [
        "df_Uniao_Geo.corr()"
      ]
    },
    {
      "cell_type": "code",
      "execution_count": null,
      "metadata": {
        "id": "jHXvS5tYNuKV"
      },
      "outputs": [],
      "source": [
        "plt.figure(figsize=(25, 25))\n",
        "heatmap = sns.heatmap(df_Uniao_Geo.corr(), vmin=-1, vmax=1, annot=True, cmap='BrBG')\n",
        "heatmap.set_title('Mapa de Calor de Correlações de Pearson', fontdict={'fontsize':18}, pad=12)"
      ]
    },
    {
      "cell_type": "code",
      "execution_count": null,
      "metadata": {
        "id": "Y0tTNzXiKb45"
      },
      "outputs": [],
      "source": [
        "df_Uniao_Geo.columns"
      ]
    },
    {
      "cell_type": "code",
      "execution_count": null,
      "metadata": {
        "id": "6hiK5ggbJeH4"
      },
      "outputs": [],
      "source": [
        "df_Uniao_Geo['LnValorTotalAtualizado'] = LnValorTotalAtualizado"
      ]
    },
    {
      "cell_type": "code",
      "execution_count": null,
      "metadata": {
        "id": "EOXEwZzfhgxN"
      },
      "outputs": [],
      "source": [
        "# U1\n",
        "# explanatory_vars = ['CapitalUF', 'IDHM_2010', 'Terreno', 'CUB*AreaConstruida', 'logArea', 'Vocacao_Comercial', 'Vocacao_Institucional', 'Vocacao_Residencial']\n",
        "\n",
        "# U2\n",
        "# explanatory_vars = ['CapitalUF', 'IDHM_2010', 'Terreno', 'IdadeAparente', 'CUB*AreaConstruida', 'logArea', 'Vocacao_Comercial', 'Vocacao_Institucional', 'Vocacao_Residencial']\n",
        "\n",
        "# U3\n",
        "\n",
        "explanatory_vars = ['CapitalUF', 'IDHM_2010', 'Terreno', 'IdadeAparente',\n",
        "       'Rendimento Domiciliar Medio', 'qtd_equipamento',\n",
        "       'qtd_shopping', 'qtd_estabelecimento', 'CUB*AreaConstruida', 'logArea', 'Vocacao_Comercial', 'Vocacao_Institucional', 'Vocacao_Residencial']"
      ]
    },
    {
      "cell_type": "code",
      "execution_count": null,
      "metadata": {
        "id": "-nEGEEBSORAX"
      },
      "outputs": [],
      "source": [
        "mms_geo = MinMaxScaler()\n",
        "\n",
        "df_Uniao_Geo[['CapitalUF', 'IDHM_2010', 'Terreno', 'IdadeAparente',\n",
        "       'Rendimento Domiciliar Medio', 'qtd_equipamento',\n",
        "       'qtd_shopping', 'qtd_estabelecimento', 'CUB*AreaConstruida',\n",
        "       'Vocacao_Comercial', 'Vocacao_Institucional', 'Vocacao_Misto',\n",
        "       'Vocacao_Residencial']] = mms_geo.fit_transform(df_Uniao_Geo[['CapitalUF', 'IDHM_2010', 'Terreno', 'IdadeAparente',\n",
        "       'Rendimento Domiciliar Medio', 'qtd_equipamento',\n",
        "       'qtd_shopping', 'qtd_estabelecimento', 'CUB*AreaConstruida',\n",
        "       'Vocacao_Comercial', 'Vocacao_Institucional', 'Vocacao_Misto',\n",
        "       'Vocacao_Residencial']])"
      ]
    },
    {
      "cell_type": "code",
      "execution_count": null,
      "metadata": {
        "id": "p5Dwo4MsQNxg"
      },
      "outputs": [],
      "source": [
        "df_Uniao_Geo.columns"
      ]
    },
    {
      "cell_type": "code",
      "execution_count": null,
      "metadata": {
        "id": "5uZc13-FQR1b"
      },
      "outputs": [],
      "source": [
        "lnvalortotalatualizado = df_Uniao_Geo['LnValorTotalAtualizado']\n",
        "y = np.array(lnvalortotalatualizado)\n",
        "y.shape = (len(lnvalortotalatualizado), 1)"
      ]
    },
    {
      "cell_type": "code",
      "execution_count": null,
      "metadata": {
        "id": "nRa5oz3eSZoN"
      },
      "outputs": [],
      "source": [
        "X = []\n",
        "\n",
        "for i in explanatory_vars:\n",
        "  X.append(df_Uniao_Geo[i])\n",
        "\n",
        "X = np.array(X).T"
      ]
    },
    {
      "cell_type": "code",
      "execution_count": null,
      "metadata": {
        "id": "tLzYnvIdS4DU"
      },
      "outputs": [],
      "source": [
        "print(X[1])"
      ]
    },
    {
      "cell_type": "code",
      "execution_count": null,
      "metadata": {
        "id": "lT6R3yGHXhRi"
      },
      "outputs": [],
      "source": [
        "len(y)"
      ]
    },
    {
      "cell_type": "code",
      "execution_count": null,
      "metadata": {
        "id": "vKZtLpSiXeXm"
      },
      "outputs": [],
      "source": [
        "len(X)"
      ]
    },
    {
      "cell_type": "code",
      "execution_count": null,
      "metadata": {
        "id": "5fIq35ZJnmOD"
      },
      "outputs": [],
      "source": [
        "variables = explanatory_vars"
      ]
    },
    {
      "cell_type": "markdown",
      "metadata": {
        "id": "6AD118jgaJo6"
      },
      "source": [
        "### Regressão Linear Múltipla (OLS)"
      ]
    },
    {
      "cell_type": "code",
      "execution_count": null,
      "metadata": {
        "id": "11Z29xc5iOxm"
      },
      "outputs": [],
      "source": [
        "X_constante = sm.add_constant(X)\n",
        "ols = OLS(y, X, name_y = 'LnValorTotalAtualizado', name_x = variables)"
      ]
    },
    {
      "cell_type": "code",
      "execution_count": null,
      "metadata": {
        "id": "WOVyKZQEdG6G"
      },
      "outputs": [],
      "source": [
        "print(ols.summary)"
      ]
    },
    {
      "cell_type": "code",
      "execution_count": null,
      "metadata": {
        "id": "5gfm_i8H8OUD"
      },
      "outputs": [],
      "source": [
        "print(ols.utu)"
      ]
    },
    {
      "cell_type": "code",
      "execution_count": null,
      "metadata": {
        "id": "gA8FVNxu8U9_"
      },
      "outputs": [],
      "source": [
        "MSE = ols.utu/len(X)"
      ]
    },
    {
      "cell_type": "code",
      "execution_count": null,
      "metadata": {
        "id": "-rTmDn-D8l37"
      },
      "outputs": [],
      "source": [
        "RMSE = MSE ** (1/2)"
      ]
    },
    {
      "cell_type": "code",
      "execution_count": null,
      "metadata": {
        "id": "iqyDuBUm8c4Q"
      },
      "outputs": [],
      "source": [
        "print(RMSE)"
      ]
    },
    {
      "cell_type": "code",
      "execution_count": null,
      "metadata": {
        "id": "0lysX7O7YTkV"
      },
      "outputs": [],
      "source": [
        "X_constante = sm.add_constant(X)\n",
        "model = sm.OLS(y, X_constante).fit()\n",
        "predictions = model.predict(X_constante)\n",
        "\n",
        "model.summary()"
      ]
    },
    {
      "cell_type": "code",
      "execution_count": null,
      "metadata": {
        "id": "IGyroM5TnZrY"
      },
      "outputs": [],
      "source": [
        "# Cálculo das Distâncias de Cook\n",
        "\n",
        "np.set_printoptions(suppress=True)\n",
        "\n",
        "influence = model.get_influence()\n",
        "\n",
        "cooks = influence.cooks_distance\n",
        "\n",
        "print(cooks)"
      ]
    },
    {
      "cell_type": "code",
      "execution_count": null,
      "metadata": {
        "id": "7z-D3JrFnkr0"
      },
      "outputs": [],
      "source": [
        "plt.figure(figsize=(14, 8))\n",
        "plt.scatter(df_Uniao_Geo.index, cooks[0])\n",
        "plt.xlabel('x')\n",
        "plt.ylabel('Distância de Cook')\n",
        "plt.show()"
      ]
    },
    {
      "cell_type": "code",
      "execution_count": null,
      "metadata": {
        "id": "kUwn7sUcrPS1"
      },
      "outputs": [],
      "source": [
        "df_Cook = pd.DataFrame(cooks[0], columns = ['DistanciaCook'])"
      ]
    },
    {
      "cell_type": "code",
      "execution_count": null,
      "metadata": {
        "id": "UPZP0hIZraQO"
      },
      "outputs": [],
      "source": [
        "df_Cook.shape"
      ]
    },
    {
      "cell_type": "code",
      "execution_count": null,
      "metadata": {
        "id": "pU0xxO54sAsd"
      },
      "outputs": [],
      "source": [
        "df_Cook.dtypes"
      ]
    },
    {
      "cell_type": "code",
      "execution_count": null,
      "metadata": {
        "id": "z-jZNoX2rxXX"
      },
      "outputs": [],
      "source": [
        "df_Cook.query('DistanciaCook > 1.0')"
      ]
    },
    {
      "cell_type": "markdown",
      "metadata": {
        "id": "KYo8r8oTafoi"
      },
      "source": [
        "### Regressão Espacial (S2SLS)"
      ]
    },
    {
      "cell_type": "code",
      "execution_count": null,
      "metadata": {
        "id": "8gMkBkDF-qAV"
      },
      "outputs": [],
      "source": [
        "lmgeo = spreg.GM_Lag(y, X, w=w, spat_diag=True, name_y = 'LnValorTotalAtualizado', name_x = variables)"
      ]
    },
    {
      "cell_type": "code",
      "execution_count": null,
      "metadata": {
        "id": "UrecBNuON6mL"
      },
      "outputs": [],
      "source": [
        "print(lmgeo.summary)"
      ]
    },
    {
      "cell_type": "code",
      "execution_count": null,
      "metadata": {
        "id": "Xm6o-PZBb3-K"
      },
      "outputs": [],
      "source": [
        "spreg.r2(lmgeo)"
      ]
    },
    {
      "cell_type": "code",
      "execution_count": null,
      "metadata": {
        "id": "wDEcrrHK8_fy"
      },
      "outputs": [],
      "source": [
        "print(lmgeo.utu)"
      ]
    },
    {
      "cell_type": "code",
      "execution_count": null,
      "metadata": {
        "id": "Q4nYzvYs9DOc"
      },
      "outputs": [],
      "source": [
        "MSE = lmgeo.utu/len(X)"
      ]
    },
    {
      "cell_type": "code",
      "execution_count": null,
      "metadata": {
        "id": "FIxHIsyh9JuJ"
      },
      "outputs": [],
      "source": [
        "RMSE = MSE ** (1/2)"
      ]
    },
    {
      "cell_type": "code",
      "execution_count": null,
      "metadata": {
        "id": "YIzjI3xm9Ndr"
      },
      "outputs": [],
      "source": [
        "print(RMSE)"
      ]
    },
    {
      "cell_type": "markdown",
      "metadata": {
        "id": "43MUSX-raTih"
      },
      "source": [
        "I de Moran"
      ]
    },
    {
      "cell_type": "code",
      "execution_count": null,
      "metadata": {
        "id": "SzRada3wWBoj"
      },
      "outputs": [],
      "source": [
        "m = spreg.MoranRes(ols, w, z=True)"
      ]
    },
    {
      "cell_type": "code",
      "execution_count": null,
      "metadata": {
        "id": "p7ytCX4PWEQa"
      },
      "outputs": [],
      "source": [
        "print(round(m.I,4))"
      ]
    },
    {
      "cell_type": "markdown",
      "metadata": {
        "id": "9efagWxtapE3"
      },
      "source": [
        "Significância I de Moran"
      ]
    },
    {
      "cell_type": "code",
      "execution_count": null,
      "metadata": {
        "id": "6Ff0WhK5Wix6"
      },
      "outputs": [],
      "source": [
        "print(m.p_norm)"
      ]
    },
    {
      "cell_type": "markdown",
      "source": [
        "Reprodução dos experimentos utilizando os conjuntos particionados em treinamento e teste."
      ],
      "metadata": {
        "id": "XDPItjSsh_y9"
      }
    }
  ],
  "metadata": {
    "colab": {
      "collapsed_sections": [
        "2afgTF0BEdbH",
        "mRzuDBKTjpMX",
        "Cm_vM4US_5Ah",
        "hoLbYOBBJnNn",
        "p1SY8he_lKGl",
        "2Knfww-8pVaC",
        "IgbO_uumozqI",
        "1haowUvmdFGx",
        "jgw2cytNpB4b",
        "zEik7obIo8Qk",
        "dWlqjal4nVq0",
        "EX8xfU_io1we",
        "D-pcueFJ3hsC",
        "PNvfif_H6lll",
        "wKB9awakEDWn",
        "7sF0Vr9OdSwQ",
        "D6VNHZVHJnOQ",
        "DZKyBNh0xhvz",
        "Fs5zd6n5li5h",
        "jRXXwFIrGE6_",
        "C8obqin3hRZA",
        "ikXFhPH-sCBG",
        "RIddAXxVtTm5",
        "sZ9jfEfaoY_f",
        "NnyBc5ozsMU3",
        "6_akqVf20JRQ",
        "HklFnzlzQfgH",
        "XXWtajrSV7td",
        "soklK9F3dvYG",
        "LFaK0QQoggXk",
        "0_vqUru2vnQZ",
        "oOABa2d-9mRc",
        "p-5C7UXUHOfL",
        "dPufZ4cvCQ2m",
        "8-bTgxZ9Cfuz",
        "w-BIkbTK3EZT",
        "cwRSzph84LYX"
      ],
      "provenance": [],
      "toc_visible": true
    },
    "kernelspec": {
      "display_name": "Python 3",
      "language": "python",
      "name": "python3"
    },
    "language_info": {
      "codemirror_mode": {
        "name": "ipython",
        "version": 3
      },
      "file_extension": ".py",
      "mimetype": "text/x-python",
      "name": "python",
      "nbconvert_exporter": "python",
      "pygments_lexer": "ipython3",
      "version": "3.7.7"
    }
  },
  "nbformat": 4,
  "nbformat_minor": 0
}