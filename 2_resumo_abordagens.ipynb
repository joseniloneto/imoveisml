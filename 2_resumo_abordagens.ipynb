{
  "cells": [
    {
      "cell_type": "markdown",
      "metadata": {
        "id": "bf0vtLyrJnMS"
      },
      "source": [
        "# RESUMO DAS ABORDAGENS\n",
        "\n",
        "Abordagem 1 (A1): remoção de outliers baseada na variável Valor Unitário Atualizado (R$/m2) e utilização deste atributo como variável dependente.\n",
        "\n",
        "Abordagem 2 (A2): transformação da variável Área do Terreno com logaritmo\n",
        "neperiano (ln), sem remover outliers e ln de Valor Total Atualizado como variável dependente.\n",
        "\n",
        "Abordagem 3 (A3) Transformação do atributo Valor Unitário Atualizado com ln, remoção da variável Área do Terreno e ln de Valor Unitário Atualizado como\n",
        "variável dependente."
      ]
    },
    {
      "cell_type": "markdown",
      "metadata": {
        "id": "Np1mCFdMGgMa"
      },
      "source": [
        "## Instalação de Pacotes Necessários"
      ]
    },
    {
      "cell_type": "code",
      "execution_count": null,
      "metadata": {
        "id": "J90uWu-vJnMb"
      },
      "outputs": [],
      "source": [
        "%time\n",
        "import os\n",
        "import numpy as np\n",
        "\n",
        "!pip install --upgrade pandas\n",
        "import pandas as pd\n",
        "from pandas import read_csv\n",
        "\n",
        "import math as math"
      ]
    },
    {
      "cell_type": "markdown",
      "metadata": {
        "id": "9oEFjCaNc9VE"
      },
      "source": [
        "## Importação de Dados Geolocalizados"
      ]
    },
    {
      "cell_type": "code",
      "execution_count": null,
      "metadata": {
        "id": "kAv-3akyEufC"
      },
      "outputs": [],
      "source": [
        "!pip install --upgrade gspread"
      ]
    },
    {
      "cell_type": "code",
      "execution_count": null,
      "metadata": {
        "id": "QPO_dfUQFU_8"
      },
      "outputs": [],
      "source": [
        "# autorização de acesso ao Google Drive  \n",
        "\n",
        "from google.colab import auth\n",
        "auth.authenticate_user()\n",
        "\n",
        "import gspread\n",
        "from google.auth import default\n",
        "creds, _ = default()\n",
        "\n",
        "gc = gspread.authorize(creds)"
      ]
    },
    {
      "cell_type": "code",
      "execution_count": null,
      "metadata": {
        "id": "AwB3jIZcmSBZ"
      },
      "outputs": [],
      "source": [
        "planilha = gc.open('nome_basededados')\n",
        "pagina = planilha.sheet1\n",
        "pagina.row_values(1)"
      ]
    },
    {
      "cell_type": "code",
      "execution_count": null,
      "metadata": {
        "id": "6n0evdndoFYj"
      },
      "outputs": [],
      "source": [
        "df = pd.DataFrame(pagina.get_all_records())"
      ]
    },
    {
      "cell_type": "code",
      "execution_count": null,
      "metadata": {
        "id": "NKW1gNFQ1CzV"
      },
      "outputs": [],
      "source": [
        "df.columns"
      ]
    },
    {
      "cell_type": "code",
      "execution_count": null,
      "metadata": {
        "id": "DFERU6z-JLvC"
      },
      "outputs": [],
      "source": [
        "df.shape"
      ]
    },
    {
      "cell_type": "code",
      "execution_count": null,
      "metadata": {
        "id": "q_-YGhovKTsV"
      },
      "outputs": [],
      "source": [
        "df.isna().sum()"
      ]
    },
    {
      "cell_type": "code",
      "execution_count": null,
      "metadata": {
        "id": "HypwoORUKcQS"
      },
      "outputs": [],
      "source": [
        "df = df.dropna()"
      ]
    },
    {
      "cell_type": "code",
      "execution_count": null,
      "metadata": {
        "id": "4E-w3Q4-KfvS"
      },
      "outputs": [],
      "source": [
        "df = df.reset_index(drop=True)"
      ]
    },
    {
      "cell_type": "code",
      "execution_count": null,
      "metadata": {
        "id": "U5PCANzqKnKt"
      },
      "outputs": [],
      "source": [
        "df.dtypes"
      ]
    },
    {
      "cell_type": "code",
      "execution_count": null,
      "metadata": {
        "id": "9lRstVwFKqa1"
      },
      "outputs": [],
      "source": [
        "df = df.astype({\"% Superior Completo\": float})\n",
        "df = df.astype({\"% Rede Geral de Distribuicao de Agua\": float})\n",
        "df = df.astype({\"% Microcomputador com Acesso a Internet\": float})\n",
        "df = df.astype({\"Rendimento Domiciliar Medio\": float})\n",
        "\n",
        "df.dtypes"
      ]
    },
    {
      "cell_type": "code",
      "execution_count": null,
      "metadata": {
        "id": "oupT_O0OK0kK"
      },
      "outputs": [],
      "source": [
        "df.describe()"
      ]
    },
    {
      "cell_type": "code",
      "execution_count": null,
      "metadata": {
        "id": "VP7pYRtUb9ba"
      },
      "outputs": [],
      "source": [
        "df[df[\"Fonte\"]  == \"ME\"].count()"
      ]
    },
    {
      "cell_type": "code",
      "execution_count": null,
      "metadata": {
        "id": "9Zocl9SVUB_M"
      },
      "outputs": [],
      "source": [
        "df[df[\"Fonte\"]  == \"EB\"].count()"
      ]
    },
    {
      "cell_type": "code",
      "execution_count": null,
      "metadata": {
        "id": "j-3dwqKLbthj"
      },
      "outputs": [],
      "source": [
        "df.drop([2730,4341,4581], axis=0, inplace=True)"
      ]
    },
    {
      "cell_type": "markdown",
      "metadata": {
        "id": "as_-IpNyjE03"
      },
      "source": [
        "# Abordagem 1\n",
        "\n",
        "Remoção de _outliers_ e _Valor Unitário Atualizado_ como variável dependente"
      ]
    },
    {
      "cell_type": "code",
      "execution_count": null,
      "metadata": {
        "id": "SHpiRjm4u87f"
      },
      "outputs": [],
      "source": [
        "# Método de Tukey (algoritmo para tratamento de outliers)\n",
        "\n",
        "def tukeys_method(df, variable):\n",
        "    # Recebe dois parâmetros: dataframe & variável de interesse como string\n",
        "    q1 = df[variable].quantile(0.25)\n",
        "    q3 = df[variable].quantile(0.75)\n",
        "    iqr = q3-q1\n",
        "    inner_fence = 1.5*iqr\n",
        "    outer_fence = 3*iqr\n",
        "    \n",
        "    # limites internos\n",
        "    inner_fence_le = q1-inner_fence\n",
        "    inner_fence_ue = q3+inner_fence\n",
        "    \n",
        "    # limites externos\n",
        "    outer_fence_le = q1-outer_fence\n",
        "    outer_fence_ue = q3+outer_fence\n",
        "    \n",
        "    outliers_prob = []\n",
        "    outliers_poss = []\n",
        "    for index, x in enumerate(df[variable]):\n",
        "        if x <= outer_fence_le or x >= outer_fence_ue:\n",
        "            outliers_prob.append(index)\n",
        "    for index, x in enumerate(df[variable]):\n",
        "        if x <= inner_fence_le or x >= inner_fence_ue:\n",
        "            outliers_poss.append(index)\n",
        "    return outliers_prob, outliers_poss"
      ]
    },
    {
      "cell_type": "code",
      "source": [
        "df.columns"
      ],
      "metadata": {
        "id": "-tnmVyHMlkP5"
      },
      "execution_count": null,
      "outputs": []
    },
    {
      "cell_type": "code",
      "execution_count": null,
      "metadata": {
        "id": "gtQCt376vE3k"
      },
      "outputs": [],
      "source": [
        "outliers_prob, outliers_poss = tukeys_method(df,'ValorUnitarioAtualizado')"
      ]
    },
    {
      "cell_type": "code",
      "execution_count": null,
      "metadata": {
        "id": "nEWQmEhWTXjQ"
      },
      "outputs": [],
      "source": [
        "outliers_poss"
      ]
    },
    {
      "cell_type": "code",
      "source": [
        "len(outliers_poss)"
      ],
      "metadata": {
        "id": "1j_L1P8wk9x6"
      },
      "execution_count": null,
      "outputs": []
    },
    {
      "cell_type": "code",
      "execution_count": null,
      "metadata": {
        "id": "rKI9Tk4vTg8d"
      },
      "outputs": [],
      "source": [
        "df_limpo = df.drop(outliers_poss)"
      ]
    },
    {
      "cell_type": "code",
      "execution_count": null,
      "metadata": {
        "id": "_-MEj_d_ALfE"
      },
      "outputs": [],
      "source": [
        "df_limpo.describe()"
      ]
    },
    {
      "cell_type": "code",
      "source": [
        "X_columns = ['CapitalUF', 'IDHM_2010', 'Terreno', 'IdadeAparente',\n",
        "       'Rendimento Domiciliar Medio', 'qtd_equipamento',\n",
        "       'qtd_shopping', 'qtd_estabelecimento', 'CUB*AreaConstruida', 'Vocacao_Comercial', 'Vocacao_Institucional',\n",
        "       'Vocacao_Misto', 'Vocacao_Residencial', 'AreaProjetadaTratada']\n",
        "\n",
        "X = df_limpo[X_columns]\n",
        "\n",
        "y = df_limpo['ValorUnitarioAtualizado']\n",
        "y = y[:,np.newaxis]"
      ],
      "metadata": {
        "id": "vD6KHvS9nq3m"
      },
      "execution_count": null,
      "outputs": []
    },
    {
      "cell_type": "markdown",
      "source": [
        "# Abordagem 2\n",
        "\n",
        "Transformação da variável _Área do Terreno_ com logaritmo neperiano (ln), sem remover _outliers_, e ln de _Valor Total Atualizado_ como variável\n",
        "dependente."
      ],
      "metadata": {
        "id": "3CzlHvwQk2S7"
      }
    },
    {
      "cell_type": "code",
      "source": [
        "df['LnValorTotalAtualizado'] = np.log(df['ValorTotalAtualizado'])"
      ],
      "metadata": {
        "id": "c3QGZTcRlMsG"
      },
      "execution_count": null,
      "outputs": []
    },
    {
      "cell_type": "code",
      "source": [
        "df['LnAreaProjetadaTratada'] = np.log(df['AreaProjetadaTratada'])"
      ],
      "metadata": {
        "id": "LZXavv3ClXZv"
      },
      "execution_count": null,
      "outputs": []
    },
    {
      "cell_type": "code",
      "source": [
        "X_columns = ['CapitalUF', 'IDHM_2010', 'Terreno', 'IdadeAparente',\n",
        "       'Rendimento Domiciliar Medio', 'qtd_equipamento',\n",
        "       'qtd_shopping', 'qtd_estabelecimento', 'CUB*AreaConstruida', 'Vocacao_Comercial', 'Vocacao_Institucional',\n",
        "       'Vocacao_Misto', 'Vocacao_Residencial', 'LnAreaProjetadaTratada']\n",
        "\n",
        "X = df[X_columns]\n",
        "\n",
        "y = np.log(df['ValorTotalAtualizado'])\n",
        "y = y[:,np.newaxis]"
      ],
      "metadata": {
        "id": "-n2jRxwbl3ar"
      },
      "execution_count": null,
      "outputs": []
    },
    {
      "cell_type": "markdown",
      "source": [
        "# Abordagem 3\n",
        "\n",
        "Transformação do atributo _Valor Unitário Atualizado_ com\n",
        "ln, remoção da variável _Área do Terreno_ e ln de _Valor Unitário Atualizado_ como variável dependente."
      ],
      "metadata": {
        "id": "odi3ioWemwTj"
      }
    },
    {
      "cell_type": "code",
      "source": [
        "X_columns = ['CapitalUF', 'IDHM_2010', 'Terreno', 'IdadeAparente',\n",
        "       'Rendimento Domiciliar Medio', 'qtd_equipamento',\n",
        "       'qtd_shopping', 'qtd_estabelecimento', 'CUB*AreaConstruida', 'Vocacao_Comercial', 'Vocacao_Institucional',\n",
        "       'Vocacao_Misto', 'Vocacao_Residencial']\n",
        "\n",
        "X = df[X_columns]\n",
        "\n",
        "y = np.log(df['ValorUnitarioAtualizado'])\n",
        "y = y[:,np.newaxis]"
      ],
      "metadata": {
        "id": "RFGbrrRTnbaw"
      },
      "execution_count": null,
      "outputs": []
    }
  ],
  "metadata": {
    "colab": {
      "collapsed_sections": [
        "2afgTF0BEdbH",
        "mRzuDBKTjpMX",
        "Cm_vM4US_5Ah",
        "hoLbYOBBJnNn",
        "p1SY8he_lKGl",
        "2Knfww-8pVaC",
        "IgbO_uumozqI",
        "1haowUvmdFGx",
        "jgw2cytNpB4b",
        "zEik7obIo8Qk",
        "dWlqjal4nVq0",
        "EX8xfU_io1we",
        "D-pcueFJ3hsC",
        "PNvfif_H6lll",
        "wKB9awakEDWn",
        "7sF0Vr9OdSwQ",
        "D6VNHZVHJnOQ",
        "DZKyBNh0xhvz",
        "Fs5zd6n5li5h",
        "jRXXwFIrGE6_",
        "C8obqin3hRZA",
        "ikXFhPH-sCBG",
        "RIddAXxVtTm5",
        "sZ9jfEfaoY_f",
        "NnyBc5ozsMU3",
        "6_akqVf20JRQ",
        "HklFnzlzQfgH",
        "XXWtajrSV7td",
        "soklK9F3dvYG",
        "LFaK0QQoggXk",
        "0_vqUru2vnQZ",
        "oOABa2d-9mRc",
        "p-5C7UXUHOfL",
        "dPufZ4cvCQ2m",
        "8-bTgxZ9Cfuz",
        "w-BIkbTK3EZT",
        "cwRSzph84LYX"
      ],
      "provenance": [],
      "toc_visible": true
    },
    "kernelspec": {
      "display_name": "Python 3",
      "language": "python",
      "name": "python3"
    },
    "language_info": {
      "codemirror_mode": {
        "name": "ipython",
        "version": 3
      },
      "file_extension": ".py",
      "mimetype": "text/x-python",
      "name": "python",
      "nbconvert_exporter": "python",
      "pygments_lexer": "ipython3",
      "version": "3.7.7"
    }
  },
  "nbformat": 4,
  "nbformat_minor": 0
}