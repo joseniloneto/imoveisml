{
  "cells": [
    {
      "cell_type": "markdown",
      "metadata": {
        "id": "bf0vtLyrJnMS"
      },
      "source": [
        "# ENRIQUECIMENTO BD COM INFORMAÇÕES GOOGLE\n",
        "\n",
        "O objetivo é enriquecer a base de dados do EB e da SPU com informações Google (API Google Places Nearby Search)."
      ]
    },
    {
      "cell_type": "markdown",
      "metadata": {
        "id": "Np1mCFdMGgMa"
      },
      "source": [
        "## Instalação de Pacotes Necessários"
      ]
    },
    {
      "cell_type": "code",
      "execution_count": null,
      "metadata": {
        "id": "J90uWu-vJnMb"
      },
      "outputs": [],
      "source": [
        "%time\n",
        "import os\n",
        "import numpy as np\n",
        "\n",
        "!pip install --upgrade pandas\n",
        "import pandas as pd\n",
        "from pandas import read_csv\n",
        "\n",
        "!pip install --upgrade googlemaps\n",
        "import googlemaps\n",
        "\n",
        "!pip install --upgrade prettyprint\n",
        "import pprint\n",
        "\n",
        "import time"
      ]
    },
    {
      "cell_type": "markdown",
      "metadata": {
        "id": "9oEFjCaNc9VE"
      },
      "source": [
        "## Importação de Dados Geolocalizados"
      ]
    },
    {
      "cell_type": "code",
      "execution_count": null,
      "metadata": {
        "id": "kAv-3akyEufC"
      },
      "outputs": [],
      "source": [
        "!pip install --upgrade gspread"
      ]
    },
    {
      "cell_type": "code",
      "execution_count": null,
      "metadata": {
        "id": "QPO_dfUQFU_8"
      },
      "outputs": [],
      "source": [
        "# autorização de acesso ao Google Drive \n",
        "\n",
        "from google.colab import auth\n",
        "auth.authenticate_user()\n",
        "\n",
        "import gspread\n",
        "from google.auth import default\n",
        "\n",
        "creds, _ = default()\n",
        "gc = gspread.authorize(creds)"
      ]
    },
    {
      "cell_type": "code",
      "execution_count": null,
      "metadata": {
        "id": "AwB3jIZcmSBZ"
      },
      "outputs": [],
      "source": [
        "planilha = gc.open('nome_basededados')\n",
        "pagina = planilha.sheet1\n",
        "pagina.row_values(1)"
      ]
    },
    {
      "cell_type": "code",
      "execution_count": null,
      "metadata": {
        "id": "6n0evdndoFYj"
      },
      "outputs": [],
      "source": [
        "df = pd.DataFrame(pagina.get_all_records())"
      ]
    },
    {
      "cell_type": "code",
      "execution_count": null,
      "metadata": {
        "id": "F9rmCoMXoMA-"
      },
      "outputs": [],
      "source": [
        "df.head(5)"
      ]
    },
    {
      "cell_type": "code",
      "execution_count": null,
      "metadata": {
        "id": "Go_yW7tU1EHJ"
      },
      "outputs": [],
      "source": [
        "df.columns"
      ]
    },
    {
      "cell_type": "code",
      "source": [
        "df.shape"
      ],
      "metadata": {
        "id": "r-0e3eOAIjyf"
      },
      "execution_count": null,
      "outputs": []
    },
    {
      "cell_type": "markdown",
      "source": [
        "## Google Cloud Platform (GCP)\n",
        "\n",
        "Nível gratuito API GCP Nearby Search (15 MAR 23): \\$ 0,040 (por consulta) -> \\$ 200,00 (crédito total mensal) -> 5000 consultas / mês\n",
        "\n",
        "400 metros equivalem a 5 min de caminhada, aproximadamente"
      ],
      "metadata": {
        "id": "tKRJUAFP6vie"
      }
    },
    {
      "cell_type": "code",
      "execution_count": null,
      "metadata": {
        "id": "A5hS5YQCHe2U"
      },
      "outputs": [],
      "source": [
        "# definição da chave API Google\n",
        "Chave_Google = 'chave_api_gcp'\n",
        "\n",
        "# requisição da chave API \n",
        "gmaps = googlemaps.Client(key=Chave_Google)"
      ]
    },
    {
      "cell_type": "code",
      "source": [
        "df.info()"
      ],
      "metadata": {
        "id": "VAC_Sa-e7u6_"
      },
      "execution_count": null,
      "outputs": []
    },
    {
      "cell_type": "code",
      "source": [
        "df.tail(5)"
      ],
      "metadata": {
        "id": "TlLUfywCF6jk"
      },
      "execution_count": null,
      "outputs": []
    },
    {
      "cell_type": "markdown",
      "source": [
        "## Requisições API Google Places Nearby Search"
      ],
      "metadata": {
        "id": "OLx_NintMFAd"
      }
    },
    {
      "cell_type": "code",
      "source": [
        "x = range(len(df['LatLong']))\n",
        "\n",
        "qtd_equipamento = []\n",
        "\n",
        "qtd_hospital = []\n",
        "qtd_parque = []\n",
        "qtd_delegacia = []\n",
        "qtd_escola = []\n",
        "qtd_shopping = []\n",
        "qtd_universidade = []\n",
        "qtd_atracaoturistica = []\n",
        "qtd_supermercado = []\n",
        "qtd_restaurante = []\n",
        "qtd_padaria = []\n",
        "qtd_cafeteria = []\n",
        "qtd_loja = [] \n",
        "\n",
        "qtd_estabelecimento = []\n",
        "\n",
        "qtd_parada_onibus = []\n",
        "qtd_estacao_vlt = []\n",
        "qtd_estacao_metro = []\n",
        "qtd_estacao_trem = []\n",
        "qtd_aeroporto = []\n",
        "\n",
        "qtd_acesso = []\n",
        "\n",
        "for i in x:\n",
        "\n",
        "  places_result = gmaps.places_nearby(location=df['LatLong'][i], fields = \"type\", radius=400, type='point_of_interest')\n",
        "  time.sleep(2)\n",
        "\n",
        "  equipamento = 0\n",
        "  \n",
        "  hospital = 0\n",
        "  parque = 0\n",
        "  delegacia = 0\n",
        "  escola = 0\n",
        "  shopping = 0\n",
        "  universidade = 0\n",
        "  atracaoturistica = 0\n",
        "  supermercado = 0\n",
        "  restaurante = 0\n",
        "  padaria = 0\n",
        "  cafeteria = 0\n",
        "  loja = 0\n",
        "\n",
        "  estabelecimento = 0\n",
        "\n",
        "  parada_onibus = 0\n",
        "  estacao_vlt = 0\n",
        "  estacao_metro = 0\n",
        "  estacao_trem = 0\n",
        "  aeroporto = 0\n",
        "  \n",
        "  acesso = 0\n",
        "\n",
        "  for l in range(len(places_result['results'])):\n",
        "    \n",
        "    hospital += places_result['results'][l]['types'].count('hospital')\n",
        "    parque += places_result['results'][l]['types'].count('park')\n",
        "    delegacia += places_result['results'][l]['types'].count('police')\n",
        "    escola += places_result['results'][l]['types'].count('school')\n",
        "    universidade += places_result['results'][l]['types'].count('university')\n",
        "    atracaoturistica += places_result['results'][l]['types'].count('tourist_attraction')\n",
        "    \n",
        "    equipamento += places_result['results'][l]['types'].count('hospital') + places_result['results'][l]['types'].count('park') + places_result['results'][l]['types'].count('police') + places_result['results'][l]['types'].count('school') + places_result['results'][l]['types'].count('university') + places_result['results'][l]['types'].count('tourist_attraction')\n",
        "    \n",
        "    shopping += places_result['results'][l]['types'].count('shopping_mall')\n",
        "    supermercado += places_result['results'][l]['types'].count('supermarket')\n",
        "    restaurante += places_result['results'][l]['types'].count('restaurant')\n",
        "    padaria += places_result['results'][l]['types'].count('bakery')\n",
        "    cafeteria += places_result['results'][l]['types'].count('cafe')\n",
        "    loja += places_result['results'][l]['types'].count('store')\n",
        "\n",
        "    estabelecimento += places_result['results'][l]['types'].count('establishment')\n",
        "\n",
        "    parada_onibus += places_result['results'][l]['types'].count('bus_station')\n",
        "    estacao_vlt += places_result['results'][l]['types'].count('light_rail_station')\n",
        "    estacao_metro += places_result['results'][l]['types'].count('subway_station')\n",
        "    estacao_trem += places_result['results'][l]['types'].count('train_station')\n",
        "    aeroporto += places_result['results'][l]['types'].count('airport')\n",
        "\n",
        "    acesso += places_result['results'][l]['types'].count('bus_station') + places_result['results'][l]['types'].count('light_rail_station') + places_result['results'][l]['types'].count('subway_station') + places_result['results'][l]['types'].count('train_station')\n",
        "   \n",
        "  if 'next_page_token' in places_result.keys():\n",
        "    places_result_2 = gmaps.places_nearby(page_token=places_result['next_page_token'])\n",
        "    time.sleep(2)\n",
        "    for l in range(len(places_result_2['results'])):\n",
        "      equipamento += places_result_2['results'][l]['types'].count('hospital') + places_result_2['results'][l]['types'].count('park') + places_result_2['results'][l]['types'].count('police') + places_result_2['results'][l]['types'].count('school') + places_result_2['results'][l]['types'].count('shopping_mall') + places_result_2['results'][l]['types'].count('university') + places_result_2['results'][l]['types'].count('tourist_attraction') + places_result_2['results'][l]['types'].count('supermarket') + places_result_2['results'][l]['types'].count('restaurant')\n",
        "    \n",
        "      hospital += places_result_2['results'][l]['types'].count('hospital')\n",
        "      parque += places_result_2['results'][l]['types'].count('park')\n",
        "      delegacia += places_result_2['results'][l]['types'].count('police')\n",
        "      escola += places_result_2['results'][l]['types'].count('school')\n",
        "      shopping += places_result_2['results'][l]['types'].count('shopping_mall')\n",
        "      universidade += places_result_2['results'][l]['types'].count('university')\n",
        "      atracaoturistica += places_result_2['results'][l]['types'].count('tourist_attraction')\n",
        "      supermercado += places_result_2['results'][l]['types'].count('supermarket')\n",
        "      restaurante += places_result_2['results'][l]['types'].count('restaurant')\n",
        "      padaria += places_result_2['results'][l]['types'].count('bakery')\n",
        "      cafeteria += places_result_2['results'][l]['types'].count('cafe')\n",
        "      loja += places_result_2['results'][l]['types'].count('store')\n",
        "\n",
        "      estabelecimento += places_result_2['results'][l]['types'].count('establishment')\n",
        "\n",
        "      parada_onibus += places_result_2['results'][l]['types'].count('bus_station')\n",
        "      estacao_vlt += places_result_2['results'][l]['types'].count('light_rail_station')\n",
        "      estacao_metro += places_result_2['results'][l]['types'].count('subway_station')\n",
        "      estacao_trem += places_result_2['results'][l]['types'].count('train_station')\n",
        "      aeroporto += places_result_2['results'][l]['types'].count('airport')\n",
        "\n",
        "      acesso += places_result_2['results'][l]['types'].count('bus_station') + places_result_2['results'][l]['types'].count('light_rail_station') + places_result_2['results'][l]['types'].count('subway_station') + places_result_2['results'][l]['types'].count('train_station')\n",
        "  else:\n",
        "    pass\n",
        "\n",
        "  if 'next_page_token' in places_result_2.keys():\n",
        "    places_result_3 = gmaps.places_nearby(page_token=places_result_2['next_page_token'])\n",
        "    for l in range(len(places_result_3['results'])):\n",
        "      equipamento += places_result_3['results'][l]['types'].count('hospital') + places_result_3['results'][l]['types'].count('park') + places_result_3['results'][l]['types'].count('police') + places_result_3['results'][l]['types'].count('school') + places_result_3['results'][l]['types'].count('shopping_mall') + places_result_3['results'][l]['types'].count('university') + places_result_3['results'][l]['types'].count('tourist_attraction') + places_result_3['results'][l]['types'].count('supermarket') + places_result_3['results'][l]['types'].count('restaurant')\n",
        "    \n",
        "      hospital += places_result_3['results'][l]['types'].count('hospital')\n",
        "      parque += places_result_3['results'][l]['types'].count('park')\n",
        "      delegacia += places_result_3['results'][l]['types'].count('police')\n",
        "      escola += places_result_3['results'][l]['types'].count('school')\n",
        "      shopping += places_result_3['results'][l]['types'].count('shopping_mall')\n",
        "      universidade += places_result_3['results'][l]['types'].count('university')\n",
        "      atracaoturistica += places_result_3['results'][l]['types'].count('tourist_attraction')\n",
        "      supermercado += places_result_3['results'][l]['types'].count('supermarket')\n",
        "      restaurante += places_result_3['results'][l]['types'].count('restaurant')\n",
        "      padaria += places_result_3['results'][l]['types'].count('bakery')\n",
        "      cafeteria += places_result_3['results'][l]['types'].count('cafe')\n",
        "      loja += places_result_3['results'][l]['types'].count('store')\n",
        "\n",
        "      estabelecimento += places_result_3['results'][l]['types'].count('establishment')\n",
        "\n",
        "      parada_onibus += places_result_3['results'][l]['types'].count('bus_station')\n",
        "      estacao_vlt += places_result_3['results'][l]['types'].count('light_rail_station')\n",
        "      estacao_metro += places_result_3['results'][l]['types'].count('subway_station')\n",
        "      estacao_trem += places_result_3['results'][l]['types'].count('train_station')\n",
        "      aeroporto += places_result_3['results'][l]['types'].count('airport')\n",
        "\n",
        "      acesso += places_result_3['results'][l]['types'].count('bus_station') + places_result_3['results'][l]['types'].count('light_rail_station') + places_result_3['results'][l]['types'].count('subway_station') + places_result_3['results'][l]['types'].count('train_station')\n",
        "  else:\n",
        "    pass\n",
        "  \n",
        "  qtd_hospital.append(hospital)\n",
        "  qtd_parque.append(parque)\n",
        "  qtd_delegacia.append(delegacia)\n",
        "  qtd_escola.append(escola)\n",
        "  qtd_universidade.append(universidade)\n",
        "  qtd_atracaoturistica.append(atracaoturistica)\n",
        "  \n",
        "  qtd_equipamento.append(equipamento)\n",
        "  \n",
        "  qtd_shopping.append(shopping)\n",
        "  qtd_supermercado.append(supermercado)\n",
        "  qtd_restaurante.append(restaurante)\n",
        "  qtd_padaria.append(padaria)\n",
        "  qtd_cafeteria.append(cafeteria)\n",
        "  qtd_loja.append(loja) \n",
        "\n",
        "  qtd_estabelecimento.append(estabelecimento)\n",
        "\n",
        "  qtd_parada_onibus.append(parada_onibus)\n",
        "  qtd_estacao_vlt.append(estacao_vlt)\n",
        "  qtd_estacao_metro.append(estacao_metro)\n",
        "  qtd_estacao_trem.append(estacao_trem)\n",
        "  qtd_aeroporto.append(aeroporto)\n",
        "  \n",
        "  qtd_acesso.append(acesso)"
      ],
      "metadata": {
        "id": "ZaEotZhE9rEW"
      },
      "execution_count": null,
      "outputs": []
    },
    {
      "cell_type": "code",
      "source": [
        "df['qtd_hospital'] = qtd_hospital\n",
        "df['qtd_parque'] = qtd_parque\n",
        "df['qtd_delegacia'] = qtd_delegacia\n",
        "df['qtd_escola'] = qtd_escola\n",
        "df['qtd_universidade'] = qtd_universidade\n",
        "df['qtd_atracaoturistica'] = qtd_atracaoturistica\n",
        "\n",
        "df['qtd_equipamento'] = qtd_equipamento\n",
        "\n",
        "df['qtd_shopping'] = qtd_shopping\n",
        "df['qtd_supermercado'] = qtd_supermercado\n",
        "df['qtd_restaurante'] = qtd_restaurante\n",
        "df['qtd_padaria'] = qtd_padaria\n",
        "df['qtd_cafeteria'] = qtd_cafeteria\n",
        "df['qtd_loja'] = qtd_loja\n",
        "\n",
        "df['qtd_estabelecimento'] = qtd_estabelecimento\n",
        "\n",
        "df['qtd_parada_onibus'] = qtd_parada_onibus\n",
        "df['qtd_estacao_vlt'] = qtd_estacao_vlt\n",
        "df['qtd_estacao_metro'] = qtd_estacao_metro\n",
        "df['qtd_estacao_trem'] = qtd_estacao_trem\n",
        "df['qtd_aeroporto'] = qtd_aeroporto\n",
        "\n",
        "df['acessibilidade'] = qtd_acesso"
      ],
      "metadata": {
        "id": "sKzZiLFlXKR8"
      },
      "execution_count": null,
      "outputs": []
    },
    {
      "cell_type": "code",
      "source": [
        "df.to_csv('df_google.csv', index = False, header=True)"
      ],
      "metadata": {
        "id": "6ix_eRrCbA9F"
      },
      "execution_count": null,
      "outputs": []
    }
  ],
  "metadata": {
    "colab": {
      "collapsed_sections": [
        "2afgTF0BEdbH",
        "mRzuDBKTjpMX",
        "Cm_vM4US_5Ah",
        "hoLbYOBBJnNn",
        "p1SY8he_lKGl",
        "2Knfww-8pVaC",
        "IgbO_uumozqI",
        "1haowUvmdFGx",
        "jgw2cytNpB4b",
        "zEik7obIo8Qk",
        "dWlqjal4nVq0",
        "EX8xfU_io1we",
        "D-pcueFJ3hsC",
        "PNvfif_H6lll",
        "wKB9awakEDWn",
        "7sF0Vr9OdSwQ",
        "D6VNHZVHJnOQ",
        "DZKyBNh0xhvz",
        "Fs5zd6n5li5h",
        "jRXXwFIrGE6_",
        "C8obqin3hRZA",
        "ikXFhPH-sCBG",
        "RIddAXxVtTm5",
        "sZ9jfEfaoY_f",
        "NnyBc5ozsMU3",
        "6_akqVf20JRQ",
        "HklFnzlzQfgH",
        "XXWtajrSV7td",
        "soklK9F3dvYG",
        "LFaK0QQoggXk",
        "0_vqUru2vnQZ",
        "oOABa2d-9mRc",
        "p-5C7UXUHOfL",
        "dPufZ4cvCQ2m",
        "8-bTgxZ9Cfuz",
        "w-BIkbTK3EZT",
        "cwRSzph84LYX"
      ],
      "provenance": []
    },
    "kernelspec": {
      "display_name": "Python 3",
      "language": "python",
      "name": "python3"
    },
    "language_info": {
      "codemirror_mode": {
        "name": "ipython",
        "version": 3
      },
      "file_extension": ".py",
      "mimetype": "text/x-python",
      "name": "python",
      "nbconvert_exporter": "python",
      "pygments_lexer": "ipython3",
      "version": "3.7.7"
    }
  },
  "nbformat": 4,
  "nbformat_minor": 0
}