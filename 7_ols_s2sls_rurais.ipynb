{
  "cells": [
    {
      "cell_type": "markdown",
      "metadata": {
        "id": "bf0vtLyrJnMS"
      },
      "source": [
        "# IMÓVEIS RURAIS\n",
        "\n",
        "O objetivo é estimar valores de imóveis rurais com base em variáveis genéricas de caráter físico (R1) e acrescidas de atributos relacionados ao uso dos imóveis e à qualidade de vida regional (R2)."
      ]
    },
    {
      "cell_type": "markdown",
      "metadata": {
        "id": "Np1mCFdMGgMa"
      },
      "source": [
        "## Instalação de Pacotes Necessários"
      ]
    },
    {
      "cell_type": "code",
      "execution_count": null,
      "metadata": {
        "id": "J90uWu-vJnMb"
      },
      "outputs": [],
      "source": [
        "%time\n",
        "import os\n",
        "import numpy as np\n",
        "import math\n",
        "from numpy import mean\n",
        "from numpy import std\n",
        "import statsmodels.api as sm\n",
        "from statsmodels.distributions.empirical_distribution import ECDF\n",
        "\n",
        "!pip install --upgrade pandas\n",
        "import pandas as pd\n",
        "from pandas import read_csv\n",
        "\n",
        "import matplotlib.pyplot as plt\n",
        "%matplotlib inline\n",
        "\n",
        "from sklearn.preprocessing import StandardScaler, MinMaxScaler\n",
        "from sklearn.model_selection import train_test_split\n",
        "from sklearn.linear_model import SGDRegressor\n",
        "from sklearn.metrics import r2_score\n",
        "from sklearn.metrics import mean_squared_error, r2_score, make_scorer\n",
        "from sklearn.model_selection import KFold\n",
        "from sklearn.model_selection import cross_val_score, cross_val_predict\n",
        "\n",
        "from sklearn.model_selection import GridSearchCV\n",
        "\n",
        "from sklearn.feature_selection import RFECV\n",
        "from sklearn.model_selection import StratifiedKFold\n",
        "from sklearn.svm import SVR\n",
        "from sklearn.ensemble import RandomForestRegressor\n",
        "\n",
        "from sklearn.model_selection import RepeatedKFold\n",
        "from xgboost import XGBRegressor\n",
        "\n",
        "!pip install --upgrade seaborn\n",
        "import seaborn as sns\n",
        "\n",
        "!pip install --upgrade scipy\n",
        "import scipy as scipy\n",
        "from scipy import stats\n",
        "\n",
        "!pip install --upgrade shap\n",
        "import shap as shap\n",
        "shap.initjs()"
      ]
    },
    {
      "cell_type": "code",
      "source": [
        "!pip install --upgrade geopandas\n",
        "import geopandas\n",
        "\n",
        "!pip install --upgrade pysal\n",
        "import pysal\n",
        "\n",
        "!pip install --upgrade contextily\n",
        "import contextily\n",
        "\n",
        "import matplotlib.pyplot as plt\n",
        "from sklearn.cluster import DBSCAN\n",
        "\n",
        "from pysal.model import spreg\n",
        "from pysal.lib import weights\n",
        "from pysal.lib import cg as geometry\n",
        "\n",
        "from spreg import OLS"
      ],
      "metadata": {
        "id": "RteGLHBRVr_5"
      },
      "execution_count": null,
      "outputs": []
    },
    {
      "cell_type": "markdown",
      "metadata": {
        "id": "9oEFjCaNc9VE"
      },
      "source": [
        "## Importação de Dados do ME geolocalizados"
      ]
    },
    {
      "cell_type": "code",
      "execution_count": null,
      "metadata": {
        "id": "kAv-3akyEufC"
      },
      "outputs": [],
      "source": [
        "!pip install --upgrade gspread"
      ]
    },
    {
      "cell_type": "code",
      "execution_count": null,
      "metadata": {
        "id": "QPO_dfUQFU_8"
      },
      "outputs": [],
      "source": [
        "# autorização de acesso ao Google Drive \n",
        "\n",
        "from google.colab import auth\n",
        "auth.authenticate_user()\n",
        "\n",
        "import gspread\n",
        "from google.auth import default\n",
        "creds, _ = default()\n",
        "\n",
        "gc = gspread.authorize(creds)"
      ]
    },
    {
      "cell_type": "code",
      "execution_count": null,
      "metadata": {
        "id": "AwB3jIZcmSBZ"
      },
      "outputs": [],
      "source": [
        "planilha = gc.open('nome_basededados_rural')\n",
        "pagina = planilha.sheet1\n",
        "pagina.row_values(1)"
      ]
    },
    {
      "cell_type": "code",
      "execution_count": null,
      "metadata": {
        "id": "6n0evdndoFYj"
      },
      "outputs": [],
      "source": [
        "df_Uniao = pd.DataFrame(pagina.get_all_records())"
      ]
    },
    {
      "cell_type": "code",
      "execution_count": null,
      "metadata": {
        "id": "GDCpi-CPHUD6"
      },
      "outputs": [],
      "source": [
        "df_Uniao.head(5)"
      ]
    },
    {
      "cell_type": "code",
      "source": [
        "df_Uniao.columns"
      ],
      "metadata": {
        "id": "NKW1gNFQ1CzV"
      },
      "execution_count": null,
      "outputs": []
    },
    {
      "cell_type": "code",
      "source": [
        "df_Uniao.shape"
      ],
      "metadata": {
        "id": "DFERU6z-JLvC"
      },
      "execution_count": null,
      "outputs": []
    },
    {
      "cell_type": "code",
      "source": [
        "df_Uniao.isna().sum()"
      ],
      "metadata": {
        "id": "q_-YGhovKTsV"
      },
      "execution_count": null,
      "outputs": []
    },
    {
      "cell_type": "code",
      "source": [
        "df_Uniao = df_Uniao.dropna()"
      ],
      "metadata": {
        "id": "HypwoORUKcQS"
      },
      "execution_count": null,
      "outputs": []
    },
    {
      "cell_type": "code",
      "source": [
        "df_Uniao = df_Uniao.reset_index(drop=True)"
      ],
      "metadata": {
        "id": "4E-w3Q4-KfvS"
      },
      "execution_count": null,
      "outputs": []
    },
    {
      "cell_type": "code",
      "source": [
        "df_Uniao.dtypes"
      ],
      "metadata": {
        "id": "U5PCANzqKnKt"
      },
      "execution_count": null,
      "outputs": []
    },
    {
      "cell_type": "code",
      "source": [
        "df_Uniao = df_Uniao.astype({\"VTN_INCRA\": float})\n",
        "\n",
        "df_Uniao.dtypes"
      ],
      "metadata": {
        "id": "9lRstVwFKqa1"
      },
      "execution_count": null,
      "outputs": []
    },
    {
      "cell_type": "code",
      "source": [
        "df_Uniao.describe()"
      ],
      "metadata": {
        "id": "oupT_O0OK0kK"
      },
      "execution_count": null,
      "outputs": []
    },
    {
      "cell_type": "code",
      "source": [
        "df_Uniao.drop([20], axis=0, inplace=True)"
      ],
      "metadata": {
        "id": "WeLXsnXCf3qp"
      },
      "execution_count": null,
      "outputs": []
    },
    {
      "cell_type": "markdown",
      "source": [
        "# Análise Imóveis Rurais"
      ],
      "metadata": {
        "id": "ei5_TslFsyjG"
      }
    },
    {
      "cell_type": "code",
      "source": [
        "df_Uniao.info()"
      ],
      "metadata": {
        "id": "s7XBI_wNuwkh"
      },
      "execution_count": null,
      "outputs": []
    },
    {
      "cell_type": "code",
      "source": [
        "df_Uniao.columns"
      ],
      "metadata": {
        "id": "p5Dwo4MsQNxg"
      },
      "execution_count": null,
      "outputs": []
    },
    {
      "cell_type": "code",
      "source": [
        "df_Uniao_transf = df_Uniao.copy()"
      ],
      "metadata": {
        "id": "Q2-2HUJKzNd0"
      },
      "execution_count": null,
      "outputs": []
    },
    {
      "cell_type": "code",
      "source": [
        "# R1\n",
        "# explanatory_vars = ['A2', 'Água', 'AcessoPavimentado','DistanciaZonaUrbana']\n",
        "\n",
        "# R2\n",
        "explanatory_vars = ['A2', 'Água', 'AcessoPavimentado', 'VTN_ITR', 'DistanciaZonaUrbana', 'IDHM2010']"
      ],
      "metadata": {
        "id": "f_uxAfZp1-uE"
      },
      "execution_count": null,
      "outputs": []
    },
    {
      "cell_type": "code",
      "source": [
        "mms = MinMaxScaler()\n",
        "\n",
        "df_Uniao_transf[explanatory_vars] = mms.fit_transform(df_Uniao_transf[explanatory_vars])"
      ],
      "metadata": {
        "id": "tFQLlmu3gh6Y"
      },
      "execution_count": null,
      "outputs": []
    },
    {
      "cell_type": "code",
      "source": [
        "LnArea = np.log(df_Uniao.loc[:,'Área'])\n",
        "\n",
        "df_Uniao_transf.loc[:,'LnArea'] = LnArea\n",
        "explanatory_vars.append('LnArea')"
      ],
      "metadata": {
        "id": "JtlHQpv3qPM4"
      },
      "execution_count": null,
      "outputs": []
    },
    {
      "cell_type": "code",
      "source": [
        "# Transformação da variável \"Valor Total Atualizado\"\n",
        "\n",
        "valoratualizado = np.array(df_Uniao['ValorTotalAtualizado'])\n",
        "y = np.log(valoratualizado)\n",
        "y.shape = (len(valoratualizado), 1)"
      ],
      "metadata": {
        "id": "5uZc13-FQR1b"
      },
      "execution_count": null,
      "outputs": []
    },
    {
      "cell_type": "code",
      "source": [
        "X = []\n",
        "\n",
        "for i in explanatory_vars:\n",
        "  X.append(df_Uniao_transf[i])\n",
        "\n",
        "X = np.array(X).T"
      ],
      "metadata": {
        "id": "nRa5oz3eSZoN"
      },
      "execution_count": null,
      "outputs": []
    },
    {
      "cell_type": "code",
      "source": [
        "print(X[0])"
      ],
      "metadata": {
        "id": "tLzYnvIdS4DU"
      },
      "execution_count": null,
      "outputs": []
    },
    {
      "cell_type": "code",
      "source": [
        "print(X)"
      ],
      "metadata": {
        "id": "MOx9HRlVvftx"
      },
      "execution_count": null,
      "outputs": []
    },
    {
      "cell_type": "code",
      "source": [
        "len(y)"
      ],
      "metadata": {
        "id": "lT6R3yGHXhRi"
      },
      "execution_count": null,
      "outputs": []
    },
    {
      "cell_type": "code",
      "source": [
        "len(X)"
      ],
      "metadata": {
        "id": "vKZtLpSiXeXm"
      },
      "execution_count": null,
      "outputs": []
    },
    {
      "cell_type": "code",
      "source": [
        "variables = explanatory_vars"
      ],
      "metadata": {
        "id": "5fIq35ZJnmOD"
      },
      "execution_count": null,
      "outputs": []
    },
    {
      "cell_type": "markdown",
      "source": [
        "### Regressão Linear Múltipla (OLS)"
      ],
      "metadata": {
        "id": "6AD118jgaJo6"
      }
    },
    {
      "cell_type": "code",
      "source": [
        "ols = OLS(y, X, name_y = 'ValorAtualizado', name_x = variables)"
      ],
      "metadata": {
        "id": "11Z29xc5iOxm"
      },
      "execution_count": null,
      "outputs": []
    },
    {
      "cell_type": "code",
      "source": [
        "print(ols.summary)"
      ],
      "metadata": {
        "id": "WOVyKZQEdG6G"
      },
      "execution_count": null,
      "outputs": []
    },
    {
      "cell_type": "code",
      "source": [
        "print(ols.u)"
      ],
      "metadata": {
        "id": "BPX1MMju4Ehr"
      },
      "execution_count": null,
      "outputs": []
    },
    {
      "cell_type": "code",
      "source": [
        "residuos = ols.u"
      ],
      "metadata": {
        "id": "HheB2JNV6FFJ"
      },
      "execution_count": null,
      "outputs": []
    },
    {
      "cell_type": "code",
      "source": [
        "MSE_ols = (ols.utu) /len(X)\n",
        "RMSE_ols = MSE ** (1/2)\n",
        "\n",
        "print(RMSE_ols)"
      ],
      "metadata": {
        "id": "tRGpN74HlCZL"
      },
      "execution_count": null,
      "outputs": []
    },
    {
      "cell_type": "code",
      "source": [
        "X_constante = sm.add_constant(X)\n",
        "modelo = sm.OLS(y, X_constante).fit()\n",
        "print(modelo.summary())"
      ],
      "metadata": {
        "id": "Qx2Jj9OoaroZ"
      },
      "execution_count": null,
      "outputs": []
    },
    {
      "cell_type": "code",
      "source": [
        "predictions = modelo.predict(X_constante)"
      ],
      "metadata": {
        "id": "atEwH5j5cy3Q"
      },
      "execution_count": null,
      "outputs": []
    },
    {
      "cell_type": "code",
      "source": [
        "# Cálculo das Distâncias de Cook\n",
        "\n",
        "np.set_printoptions(suppress=True)\n",
        "\n",
        "influence = modelo.get_influence()\n",
        "\n",
        "cooks = influence.cooks_distance\n",
        "\n",
        "print(cooks)"
      ],
      "metadata": {
        "id": "YeCR3BN-dF-4"
      },
      "execution_count": null,
      "outputs": []
    },
    {
      "cell_type": "code",
      "source": [
        "resultado = modelo.get_prediction(X_constante)\n",
        "ic_regressao = resultado.conf_int()\n",
        "print(ic_regressao)"
      ],
      "metadata": {
        "id": "4WVV0CCqbhfs"
      },
      "execution_count": null,
      "outputs": []
    },
    {
      "cell_type": "code",
      "source": [
        "plt.figure(figsize=(14, 8))\n",
        "plt.scatter(df_Uniao.index, cooks[0])\n",
        "plt.xlabel('x')\n",
        "plt.ylabel('Distância de Cook')\n",
        "plt.show()"
      ],
      "metadata": {
        "id": "XpefPJWedNAq"
      },
      "execution_count": null,
      "outputs": []
    },
    {
      "cell_type": "code",
      "source": [
        "df_Cook = pd.DataFrame(cooks[0], columns = ['DistanciaCook'])"
      ],
      "metadata": {
        "id": "FnIMInZ1fksf"
      },
      "execution_count": null,
      "outputs": []
    },
    {
      "cell_type": "code",
      "source": [
        "df_Cook.query('DistanciaCook > 1.0')"
      ],
      "metadata": {
        "id": "11Jqya2bfo3Y"
      },
      "execution_count": null,
      "outputs": []
    },
    {
      "cell_type": "code",
      "source": [
        "predictions = modelo.get_prediction(X_constante)\n",
        "confidence_intervals = predictions.summary_frame(0.2)\n",
        "confidence_intervals"
      ],
      "metadata": {
        "id": "Nm0IcuAKb_Dl"
      },
      "execution_count": null,
      "outputs": []
    },
    {
      "cell_type": "markdown",
      "source": [
        "### Regressão Espacial (S2SLS)"
      ],
      "metadata": {
        "id": "TLWmsKbNwe4L"
      }
    },
    {
      "cell_type": "code",
      "source": [
        "# Criação de Gráfico de Densidade de Imóveis Rurais Anotados\n",
        "\n",
        "f, ax = plt.subplots(1, figsize=(20, 20))\n",
        "\n",
        "sns.kdeplot(\n",
        "    x = df_Uniao[\"xCoord\"],\n",
        "    y = df_Uniao[\"yCoord\"],\n",
        "    n_levels=4,\n",
        "    fill=True,\n",
        "    alpha=0.4,\n",
        "    cmap=\"YlOrBr\"\n",
        ")\n",
        "\n",
        "contextily.add_basemap(\n",
        "    ax, source=contextily.providers.CartoDB.Positron,crs=\"EPSG:4326\"\n",
        ")\n",
        "\n",
        "plt.xlim([-80,-30])\n",
        "plt.ylim([-40,10])\n",
        "\n",
        "plt.show()"
      ],
      "metadata": {
        "id": "GYilGa3Nu3zy"
      },
      "execution_count": null,
      "outputs": []
    },
    {
      "cell_type": "code",
      "source": [
        "df_Uniao_geo = df_Uniao.copy()\n",
        "df_Uniao_geo[\"geometry\"] = geopandas.points_from_xy(df_Uniao_geo[\"xCoord\"], df_Uniao_geo[\"yCoord\"])\n",
        "df_Uniao_geo = geopandas.GeoDataFrame(df_Uniao_geo, crs=\"epsg:3857\")"
      ],
      "metadata": {
        "id": "wlQdilpXotZ8"
      },
      "execution_count": null,
      "outputs": []
    },
    {
      "cell_type": "code",
      "source": [
        "radius = geometry.sphere.RADIUS_EARTH_KM\n",
        "radius"
      ],
      "metadata": {
        "id": "JhDACBrszh07"
      },
      "execution_count": null,
      "outputs": []
    },
    {
      "cell_type": "code",
      "source": [
        "w = weights.DistanceBand.from_dataframe(df_Uniao_geo, threshold=21.0, binary=False, radius = radius, alpha = -1.0)\n",
        "w.transform = 'r'"
      ],
      "metadata": {
        "id": "gGetwcurolUP"
      },
      "execution_count": null,
      "outputs": []
    },
    {
      "cell_type": "code",
      "source": [
        "df_Uniao_geo.corr()"
      ],
      "metadata": {
        "id": "GBfT1C2SpNyj"
      },
      "execution_count": null,
      "outputs": []
    },
    {
      "cell_type": "code",
      "source": [
        "df_Uniao_corr = df_Uniao_transf[explanatory_vars]"
      ],
      "metadata": {
        "id": "RZkT36Cm3BQG"
      },
      "execution_count": null,
      "outputs": []
    },
    {
      "cell_type": "code",
      "source": [
        "legenda = [\"Potencial A2\", \"Cursos d'Água\", \"Acesso Pavimentado\", \"VTN RFB\", \"Distância Zona Urbana\", \"IDHM\", \"Ln(Área do Terreno)\"]"
      ],
      "metadata": {
        "id": "fi9BTNKgxQOH"
      },
      "execution_count": null,
      "outputs": []
    },
    {
      "cell_type": "code",
      "source": [
        "sns.set(font_scale=1.4)\n",
        "plt.figure(figsize=(25, 25))\n",
        "heatmap = sns.heatmap(df_Uniao_corr.corr(), vmin=-1, vmax=1, annot=True, cmap='BrBG', xticklabels=legenda, yticklabels=legenda)\n",
        "heatmap.set_title('Mapa de Calor de Correlações de Pearson', fontdict={'fontsize':18}, pad=12)"
      ],
      "metadata": {
        "id": "gQV-GQ7zpX1h"
      },
      "execution_count": null,
      "outputs": []
    },
    {
      "cell_type": "code",
      "source": [
        "lmgeo = spreg.GM_Lag(y, X, w=w, w_lags=1, spat_diag=True, name_y = 'LnValorTotalAtualizado', name_x = variables)"
      ],
      "metadata": {
        "id": "HfuJ1hJNp0GQ"
      },
      "execution_count": null,
      "outputs": []
    },
    {
      "cell_type": "code",
      "source": [
        "print(lmgeo.summary)"
      ],
      "metadata": {
        "id": "VTE0NI-zqF7I"
      },
      "execution_count": null,
      "outputs": []
    },
    {
      "cell_type": "code",
      "source": [
        "MSE_re = lmgeo.utu/len(X)\n",
        "RMSE_re = MSE ** (1/2)\n",
        "\n",
        "print(RMSE_re)"
      ],
      "metadata": {
        "id": "y8_EUUaMlQ4W"
      },
      "execution_count": null,
      "outputs": []
    },
    {
      "cell_type": "code",
      "source": [
        "residuosespaciais = lmgeo.u"
      ],
      "metadata": {
        "id": "JxmU1E7kqt7S"
      },
      "execution_count": null,
      "outputs": []
    },
    {
      "cell_type": "markdown",
      "source": [
        "### Análise dos Intervalos de Confiança"
      ],
      "metadata": {
        "id": "WEuaET_6h3rA"
      }
    },
    {
      "cell_type": "code",
      "source": [
        "media_residuos = np.mean(residuos)\n",
        "media_residuos"
      ],
      "metadata": {
        "id": "Yrtv79ofksHk"
      },
      "execution_count": null,
      "outputs": []
    },
    {
      "cell_type": "code",
      "source": [
        "desvpad_residuos = np.std(residuos)\n",
        "desvpad_residuos "
      ],
      "metadata": {
        "id": "t-SKHEtotXQ4"
      },
      "execution_count": null,
      "outputs": []
    },
    {
      "cell_type": "code",
      "source": [
        "ecdf_ols = ECDF(residuos.ravel())"
      ],
      "metadata": {
        "id": "wCqfBo2yLHIB"
      },
      "execution_count": null,
      "outputs": []
    },
    {
      "cell_type": "code",
      "source": [
        "print('P(x<0): %.3f' % ecdf_ols(0))"
      ],
      "metadata": {
        "id": "Z-yRwn2uNZkF"
      },
      "execution_count": null,
      "outputs": []
    },
    {
      "cell_type": "code",
      "source": [
        "ecdf_ols_neg = ecdf_ols(0)"
      ],
      "metadata": {
        "id": "oJerDsmzPONC"
      },
      "execution_count": null,
      "outputs": []
    },
    {
      "cell_type": "code",
      "source": [
        "len(y)"
      ],
      "metadata": {
        "id": "v597X991tjCT"
      },
      "execution_count": null,
      "outputs": []
    },
    {
      "cell_type": "code",
      "source": [
        "ecdf_re = ECDF(residuosespaciais.ravel())"
      ],
      "metadata": {
        "id": "Qckgbn-HOrcm"
      },
      "execution_count": null,
      "outputs": []
    },
    {
      "cell_type": "code",
      "source": [
        "print('P(x<0): %.3f' % ecdf_re(0))"
      ],
      "metadata": {
        "id": "PnO7OR7yOxA9"
      },
      "execution_count": null,
      "outputs": []
    },
    {
      "cell_type": "code",
      "source": [
        "ecdf_re_neg = ecdf_re(0)"
      ],
      "metadata": {
        "id": "jxfp-8UAPSdQ"
      },
      "execution_count": null,
      "outputs": []
    },
    {
      "cell_type": "code",
      "source": [
        "# 22 graus de liberdade\n",
        "\n",
        "t_student_bicaudal_90 = 1.717"
      ],
      "metadata": {
        "id": "oejwY68As8Vb"
      },
      "execution_count": null,
      "outputs": []
    },
    {
      "cell_type": "code",
      "source": [
        "# IC Regressão Linear Múltipla (OLS)\n",
        "\n",
        "dif_relativa_sup = math.exp(RMSE_ols * (1 - ecdf_ols_neg) + (t_student_bicaudal_90 * desvpad_residuos / (len(y)**(0.5))))\n",
        "dif_relativa_inf = math.exp(-RMSE_ols * ecdf_ols_neg - (t_student_bicaudal_90 * desvpad_residuos / (len(y)**(0.5))))\n",
        "\n",
        "print(\"Semiamplitude Superior do IC 90 R2: %0.4f\" % (dif_relativa_sup - 1))\n",
        "print(\"Semiamplitude Inferior do IC 90 R2: %0.4f\" % (dif_relativa_inf - 1))"
      ],
      "metadata": {
        "id": "jU1pKTP8tmeJ"
      },
      "execution_count": null,
      "outputs": []
    },
    {
      "cell_type": "code",
      "source": [
        "media_residuosespaciais = np.mean(residuosespaciais)\n",
        "desvpad_residuosespaciais = np.std(residuosespaciais)"
      ],
      "metadata": {
        "id": "lPXVsvyXq2GG"
      },
      "execution_count": null,
      "outputs": []
    },
    {
      "cell_type": "code",
      "source": [
        "# IC Regressão Espacial (S2SLS)\n",
        "\n",
        "dif_relativa_sup = math.exp(RMSE_re * (1 - ecdf_re_neg) + (t_student_bicaudal_90 * desvpad_residuosespaciais / (len(y)**(0.5))))\n",
        "dif_relativa_inf = math.exp(- RMSE_re * ecdf_ols_neg - (t_student_bicaudal_90 * desvpad_residuosespaciais / (len(y)**(0.5))))\n",
        "\n",
        "print(\"Semiamplitude Superior do IC 90 R2: %0.4f\" % (dif_relativa_sup - 1))\n",
        "print(\"Semiamplitude Inferior do IC 90 R2: %0.4f\" % (dif_relativa_inf - 1))"
      ],
      "metadata": {
        "id": "8OGu2fhHrFGy"
      },
      "execution_count": null,
      "outputs": []
    },
    {
      "cell_type": "markdown",
      "source": [
        "### Exportação"
      ],
      "metadata": {
        "id": "-QMPOe2dqXmd"
      }
    },
    {
      "cell_type": "code",
      "source": [
        "df_Uniao.columns"
      ],
      "metadata": {
        "id": "W-0GF9aeqedz"
      },
      "execution_count": null,
      "outputs": []
    },
    {
      "cell_type": "code",
      "source": [
        "df_Uniao.head()"
      ],
      "metadata": {
        "id": "YLVJd07-rfeF"
      },
      "execution_count": null,
      "outputs": []
    },
    {
      "cell_type": "code",
      "source": [
        "df_Uniao.to_csv('teste_rurais.csv', index = False, header=True)"
      ],
      "metadata": {
        "id": "QE2Sa2QVp5Tm"
      },
      "execution_count": null,
      "outputs": []
    }
  ],
  "metadata": {
    "colab": {
      "collapsed_sections": [
        "2afgTF0BEdbH",
        "mRzuDBKTjpMX",
        "Cm_vM4US_5Ah",
        "hoLbYOBBJnNn",
        "p1SY8he_lKGl",
        "2Knfww-8pVaC",
        "IgbO_uumozqI",
        "1haowUvmdFGx",
        "jgw2cytNpB4b",
        "zEik7obIo8Qk",
        "dWlqjal4nVq0",
        "EX8xfU_io1we",
        "D-pcueFJ3hsC",
        "PNvfif_H6lll",
        "wKB9awakEDWn",
        "7sF0Vr9OdSwQ",
        "D6VNHZVHJnOQ",
        "DZKyBNh0xhvz",
        "Fs5zd6n5li5h",
        "jRXXwFIrGE6_",
        "C8obqin3hRZA",
        "ikXFhPH-sCBG",
        "RIddAXxVtTm5",
        "sZ9jfEfaoY_f",
        "NnyBc5ozsMU3",
        "6_akqVf20JRQ",
        "HklFnzlzQfgH",
        "XXWtajrSV7td",
        "soklK9F3dvYG",
        "LFaK0QQoggXk",
        "0_vqUru2vnQZ",
        "oOABa2d-9mRc",
        "p-5C7UXUHOfL",
        "dPufZ4cvCQ2m",
        "8-bTgxZ9Cfuz",
        "w-BIkbTK3EZT",
        "cwRSzph84LYX"
      ],
      "provenance": [],
      "toc_visible": true
    },
    "kernelspec": {
      "display_name": "Python 3",
      "language": "python",
      "name": "python3"
    },
    "language_info": {
      "codemirror_mode": {
        "name": "ipython",
        "version": 3
      },
      "file_extension": ".py",
      "mimetype": "text/x-python",
      "name": "python",
      "nbconvert_exporter": "python",
      "pygments_lexer": "ipython3",
      "version": "3.7.7"
    }
  },
  "nbformat": 4,
  "nbformat_minor": 0
}