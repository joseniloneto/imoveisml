{
  "cells": [
    {
      "cell_type": "markdown",
      "metadata": {
        "id": "bf0vtLyrJnMS"
      },
      "source": [
        "# *XGBoost Regressor*"
      ]
    },
    {
      "cell_type": "markdown",
      "metadata": {
        "id": "Np1mCFdMGgMa"
      },
      "source": [
        "## Instalação de Pacotes Necessários"
      ]
    },
    {
      "cell_type": "code",
      "execution_count": null,
      "metadata": {
        "id": "J90uWu-vJnMb"
      },
      "outputs": [],
      "source": [
        "%time\n",
        "import os\n",
        "import numpy as np\n",
        "from numpy import mean\n",
        "from numpy import std\n",
        "import seaborn as sns\n",
        "import statsmodels.api as sm\n",
        "from statsmodels.distributions.empirical_distribution import ECDF\n",
        "\n",
        "!pip install --upgrade pandas\n",
        "import pandas as pd\n",
        "from pandas import read_csv\n",
        "\n",
        "import matplotlib.pyplot as plt\n",
        "%matplotlib inline\n",
        "\n",
        "import math as math\n",
        "\n",
        "from sklearn.preprocessing import MinMaxScaler\n",
        "from sklearn.model_selection import train_test_split\n",
        "from sklearn.metrics import r2_score\n",
        "from sklearn.metrics import mean_squared_error, r2_score, make_scorer\n",
        "from sklearn.model_selection import KFold\n",
        "from sklearn.model_selection import cross_val_score, cross_val_predict\n",
        "from sklearn.model_selection import GridSearchCV\n",
        "from sklearn.feature_selection import RFECV\n",
        "from sklearn.model_selection import StratifiedKFold\n",
        "from sklearn.svm import SVR\n",
        "from sklearn.ensemble import RandomForestRegressor\n",
        "from sklearn.model_selection import RepeatedKFold\n",
        "\n",
        "from xgboost import XGBRegressor\n",
        "import xgboost as xgb\n",
        "\n",
        "!pip install --upgrade scipy\n",
        "import scipy as scipy\n",
        "from scipy import stats\n",
        "from scipy.stats import t\n",
        "\n",
        "!pip install --upgrade shap\n",
        "import shap as shap\n",
        "shap.initjs()"
      ]
    },
    {
      "cell_type": "markdown",
      "metadata": {
        "id": "9oEFjCaNc9VE"
      },
      "source": [
        "## Importação de Dados Geolocalizados"
      ]
    },
    {
      "cell_type": "code",
      "execution_count": null,
      "metadata": {
        "id": "kAv-3akyEufC"
      },
      "outputs": [],
      "source": [
        "!pip install --upgrade gspread"
      ]
    },
    {
      "cell_type": "code",
      "execution_count": null,
      "metadata": {
        "id": "QPO_dfUQFU_8"
      },
      "outputs": [],
      "source": [
        "# autorização de acesso ao Google Drive \n",
        "\n",
        "from google.colab import auth\n",
        "auth.authenticate_user()\n",
        "\n",
        "import gspread\n",
        "from google.auth import default\n",
        "creds, _ = default()\n",
        "\n",
        "gc = gspread.authorize(creds)"
      ]
    },
    {
      "cell_type": "code",
      "execution_count": null,
      "metadata": {
        "id": "AwB3jIZcmSBZ"
      },
      "outputs": [],
      "source": [
        "planilha = gc.open('nome_basededados')\n",
        "pagina = planilha.sheet1\n",
        "pagina.row_values(1)"
      ]
    },
    {
      "cell_type": "code",
      "execution_count": null,
      "metadata": {
        "id": "6n0evdndoFYj"
      },
      "outputs": [],
      "source": [
        "df_Uniao = pd.DataFrame(pagina.get_all_records())"
      ]
    },
    {
      "cell_type": "code",
      "execution_count": null,
      "metadata": {
        "id": "GDCpi-CPHUD6"
      },
      "outputs": [],
      "source": [
        "df_Uniao.head(5)"
      ]
    },
    {
      "cell_type": "code",
      "execution_count": null,
      "metadata": {
        "id": "NKW1gNFQ1CzV"
      },
      "outputs": [],
      "source": [
        "df_Uniao.columns"
      ]
    },
    {
      "cell_type": "code",
      "execution_count": null,
      "metadata": {
        "id": "DFERU6z-JLvC"
      },
      "outputs": [],
      "source": [
        "df_Uniao.shape"
      ]
    },
    {
      "cell_type": "code",
      "execution_count": null,
      "metadata": {
        "id": "q_-YGhovKTsV"
      },
      "outputs": [],
      "source": [
        "df_Uniao.isna().sum()"
      ]
    },
    {
      "cell_type": "code",
      "execution_count": null,
      "metadata": {
        "id": "HypwoORUKcQS"
      },
      "outputs": [],
      "source": [
        "df_Uniao = df_Uniao.dropna()"
      ]
    },
    {
      "cell_type": "code",
      "execution_count": null,
      "metadata": {
        "id": "4E-w3Q4-KfvS"
      },
      "outputs": [],
      "source": [
        "df_Uniao = df_Uniao.reset_index(drop=True)"
      ]
    },
    {
      "cell_type": "code",
      "execution_count": null,
      "metadata": {
        "id": "U5PCANzqKnKt"
      },
      "outputs": [],
      "source": [
        "df_Uniao.dtypes"
      ]
    },
    {
      "cell_type": "code",
      "execution_count": null,
      "metadata": {
        "id": "9lRstVwFKqa1"
      },
      "outputs": [],
      "source": [
        "df_Uniao = df_Uniao.astype({\"% Superior Completo\": float})\n",
        "df_Uniao = df_Uniao.astype({\"% Rede Geral de Distribuicao de Agua\": float})\n",
        "df_Uniao = df_Uniao.astype({\"% Microcomputador com Acesso a Internet\": float})\n",
        "df_Uniao = df_Uniao.astype({\"Rendimento Domiciliar Medio\": float})\n",
        "\n",
        "df_Uniao.dtypes"
      ]
    },
    {
      "cell_type": "code",
      "execution_count": null,
      "metadata": {
        "id": "oupT_O0OK0kK"
      },
      "outputs": [],
      "source": [
        "df_Uniao.describe()"
      ]
    },
    {
      "cell_type": "code",
      "execution_count": null,
      "metadata": {
        "id": "VP7pYRtUb9ba"
      },
      "outputs": [],
      "source": [
        "df_Uniao[df_Uniao[\"Fonte\"]  == \"ME\"].count()"
      ]
    },
    {
      "cell_type": "code",
      "execution_count": null,
      "metadata": {
        "id": "9Zocl9SVUB_M"
      },
      "outputs": [],
      "source": [
        "df_Uniao[df_Uniao[\"Fonte\"]  == \"EB\"].count()"
      ]
    },
    {
      "cell_type": "code",
      "execution_count": null,
      "metadata": {
        "id": "j-3dwqKLbthj"
      },
      "outputs": [],
      "source": [
        "# remoção dos pontos influenciantes (Distância de Cook)\n",
        "\n",
        "df_Uniao.drop([2730,4341,4581], axis=0, inplace=True)"
      ]
    },
    {
      "cell_type": "markdown",
      "metadata": {
        "id": "lQ_fdqLFlB2M"
      },
      "source": [
        "# Abordagem 2\n",
        "\n",
        "Transformação da área do terreno (área projetada horizontal do imóvel) e do valor total atualizado com logaritmo neperiano (sem remoção de *outliers*), logaritmo neperiano do valor total atualizado como variável dependente."
      ]
    },
    {
      "cell_type": "markdown",
      "metadata": {
        "id": "Hk2newApuSPP"
      },
      "source": [
        "## Preparação dos Conjuntos de Treinamento e de Teste"
      ]
    },
    {
      "cell_type": "markdown",
      "metadata": {
        "id": "BWlBV_vyyFSW"
      },
      "source": [
        "### Cenário A"
      ]
    },
    {
      "cell_type": "code",
      "execution_count": null,
      "metadata": {
        "id": "7wtbNeJpLebB"
      },
      "outputs": [],
      "source": [
        "df_Uniao.columns"
      ]
    },
    {
      "cell_type": "code",
      "execution_count": null,
      "metadata": {
        "id": "My3QoK-k4lZr"
      },
      "outputs": [],
      "source": [
        "df_Uniao.describe()"
      ]
    },
    {
      "cell_type": "code",
      "execution_count": null,
      "metadata": {
        "id": "yAHbd1WASDqY"
      },
      "outputs": [],
      "source": [
        "df_Uniao['CUB*AreaConstruida'] = df_Uniao['CUBJan22'] * df_Uniao['AreaConstruidaTratada']"
      ]
    },
    {
      "cell_type": "code",
      "execution_count": null,
      "metadata": {
        "id": "ieXSPFKe4yQy"
      },
      "outputs": [],
      "source": [
        "df_Uniao.columns"
      ]
    },
    {
      "cell_type": "code",
      "execution_count": null,
      "metadata": {
        "id": "iWtTzh7q5ZFJ"
      },
      "outputs": [],
      "source": [
        "# U1\n",
        "\n",
        "col_list = df_Uniao.columns.tolist()\n",
        "\n",
        "listaaremover = ['Fonte', 'Id', 'Município', 'UF', 'TipologiaMunicipalIBGE', 'IVS_2010', 'TaxaHomicidios_2019',\n",
        "       'TipoImovel', 'CUBJan22', 'VidaUtil', 'AreaConstruidaTratada',\n",
        "       'AreaProjetadaTratada', 'IndiceFipeZapAvaliacao', 'IndiceFipeZapJan22',\n",
        "       'ValorTotalAtualizado', 'ValorUnitarioAtualizado', 'CodigoAP', 'NomeAP',\n",
        "       '% Superior Completo', '% Rede Geral de Distribuicao de Agua',\n",
        "       '% Microcomputador com Acesso a Internet', 'xcoord', 'ycoord', 'LatLong',\n",
        "       'qtd_equipamento', 'qtd_hospital',\n",
        "       'qtd_parque', 'qtd_delegacia', 'qtd_escola',\n",
        "       'qtd_universidade', 'qtd_atracaoturistica', 'qtd_supermercado',\n",
        "       'qtd_restaurante', 'qtd_padaria', 'qtd_cafeteria', 'qtd_loja', 'qtd_parada_onibus', 'qtd_estacao_vlt',\n",
        "       'qtd_estacao_metro', 'qtd_estacao_trem', 'qtd_aeroporto',\n",
        "       'acessibilidade', 'GoogleTrends2022', 'GrauUrbanizacaoIBGE', 'Rendimento Domiciliar Medio', 'qtd_shopping', 'qtd_estabelecimento', 'IdadeAparente']\n",
        "\n",
        "for e in listaaremover:\n",
        "  col_list.remove(e)\n",
        "\n",
        "X_final_log_N1 = df_Uniao[col_list]\n",
        "\n",
        "y_final_log_N1 = np.log(df_Uniao['ValorTotalAtualizado'])\n",
        "\n",
        "y_final_log_N1 = y_final_log_N1[:,np.newaxis]"
      ]
    },
    {
      "cell_type": "code",
      "execution_count": null,
      "metadata": {
        "id": "Nvt1vf3mEsSA"
      },
      "outputs": [],
      "source": [
        "# U2\n",
        "\n",
        "col_list = df_Uniao.columns.tolist()\n",
        "\n",
        "listaaremover = ['Fonte', 'Id', 'Município', 'UF', 'TipologiaMunicipalIBGE', 'IVS_2010', 'TaxaHomicidios_2019',\n",
        "       'TipoImovel', 'CUBJan22', 'VidaUtil', 'AreaConstruidaTratada',\n",
        "       'AreaProjetadaTratada', 'IndiceFipeZapAvaliacao', 'IndiceFipeZapJan22',\n",
        "       'ValorTotalAtualizado', 'ValorUnitarioAtualizado', 'CodigoAP', 'NomeAP',\n",
        "       '% Superior Completo', '% Rede Geral de Distribuicao de Agua',\n",
        "       '% Microcomputador com Acesso a Internet', 'xcoord', 'ycoord', 'LatLong',\n",
        "       'qtd_equipamento', 'qtd_hospital',\n",
        "       'qtd_parque', 'qtd_delegacia', 'qtd_escola',\n",
        "       'qtd_universidade', 'qtd_atracaoturistica', 'qtd_supermercado',\n",
        "       'qtd_restaurante', 'qtd_padaria', 'qtd_cafeteria', 'qtd_loja', 'qtd_parada_onibus', 'qtd_estacao_vlt',\n",
        "       'qtd_estacao_metro', 'qtd_estacao_trem', 'qtd_aeroporto',\n",
        "       'acessibilidade', 'GoogleTrends2022', 'GrauUrbanizacaoIBGE', 'Rendimento Domiciliar Medio', 'qtd_shopping', 'qtd_estabelecimento']\n",
        "\n",
        "for e in listaaremover:\n",
        "  col_list.remove(e)\n",
        "\n",
        "X_final_log_N2 = df_Uniao[col_list]\n",
        "\n",
        "y_final_log_N2 = np.log(df_Uniao['ValorTotalAtualizado'])\n",
        "\n",
        "y_final_log_N2 = y_final_log_N2[:,np.newaxis]"
      ]
    },
    {
      "cell_type": "code",
      "execution_count": null,
      "metadata": {
        "id": "CjWogmpNshye"
      },
      "outputs": [],
      "source": [
        "# U3\n",
        "\n",
        "col_list = df_Uniao.columns.tolist()\n",
        "\n",
        "listaaremover = ['Fonte', 'Id', 'Município', 'UF', 'TipologiaMunicipalIBGE', 'IVS_2010', 'TaxaHomicidios_2019',\n",
        "       'TipoImovel', 'CUBJan22', 'VidaUtil', 'AreaConstruidaTratada',\n",
        "       'AreaProjetadaTratada', 'IndiceFipeZapAvaliacao', 'IndiceFipeZapJan22',\n",
        "       'ValorTotalAtualizado', 'ValorUnitarioAtualizado', 'CodigoAP', 'NomeAP',\n",
        "       '% Superior Completo', '% Rede Geral de Distribuicao de Agua',\n",
        "       '% Microcomputador com Acesso a Internet', 'xcoord', 'ycoord', 'LatLong', 'qtd_hospital',\n",
        "       'qtd_parque', 'qtd_delegacia', 'qtd_escola',\n",
        "       'qtd_universidade', 'qtd_atracaoturistica', 'qtd_supermercado',\n",
        "       'qtd_restaurante', 'qtd_padaria', 'qtd_cafeteria', 'qtd_loja', 'qtd_parada_onibus', 'qtd_estacao_vlt',\n",
        "       'qtd_estacao_metro', 'qtd_estacao_trem', 'qtd_aeroporto',\n",
        "       'acessibilidade', 'GoogleTrends2022', 'GrauUrbanizacaoIBGE']\n",
        "\n",
        "for e in listaaremover:\n",
        "  col_list.remove(e)\n",
        "\n",
        "X_final_log_N3 = df_Uniao[col_list]\n",
        "\n",
        "y_final_log_N3 = np.log(df_Uniao['ValorTotalAtualizado'])\n",
        "\n",
        "y_final_log_N3 = y_final_log_N3[:,np.newaxis]"
      ]
    },
    {
      "cell_type": "code",
      "execution_count": null,
      "metadata": {
        "id": "leydCKtPxBix"
      },
      "outputs": [],
      "source": [
        "X_final_log_N3.dtypes"
      ]
    },
    {
      "cell_type": "code",
      "execution_count": null,
      "metadata": {
        "id": "Ii4qaTyUnGwo"
      },
      "outputs": [],
      "source": [
        "logArea = np.log(df_Uniao.loc[:,'AreaProjetadaTratada'])\n",
        "\n",
        "X_final_log_N1.loc[:,'logArea'] = logArea\n",
        "X_final_log_N2.loc[:,'logArea'] = logArea\n",
        "X_final_log_N3.loc[:,'logArea'] = logArea"
      ]
    },
    {
      "cell_type": "code",
      "execution_count": null,
      "metadata": {
        "id": "kSE5afWd7afb"
      },
      "outputs": [],
      "source": [
        "X_train_log_N1, X_test_log_N1, y_train_log_N1, y_test_log_N1 = train_test_split(X_final_log_N1, y_final_log_N1, test_size=0.33, shuffle=True, random_state=7, stratify=X_final_log_N1['Vocacao'])"
      ]
    },
    {
      "cell_type": "code",
      "execution_count": null,
      "metadata": {
        "id": "JQL47epEFDmC"
      },
      "outputs": [],
      "source": [
        "X_train_log_N2, X_test_log_N2, y_train_log_N2, y_test_log_N2 = train_test_split(X_final_log_N2, y_final_log_N2, test_size=0.33, shuffle=True, random_state=7, stratify=X_final_log_N2['Vocacao'])"
      ]
    },
    {
      "cell_type": "code",
      "execution_count": null,
      "metadata": {
        "id": "U-IDs59vtJEa"
      },
      "outputs": [],
      "source": [
        "X_train_log_N3, X_test_log_N3, y_train_log_N3, y_test_log_N3 = train_test_split(X_final_log_N3, y_final_log_N3, test_size=0.33, shuffle=True, random_state=7, stratify=X_final_log_N3['Vocacao'])"
      ]
    },
    {
      "cell_type": "code",
      "execution_count": null,
      "metadata": {
        "id": "sFcFfzeauIY8"
      },
      "outputs": [],
      "source": [
        "X_train_log_N1 = pd.get_dummies(X_train_log_N1, columns = ['Vocacao'])\n",
        "X_test_log_N1 = pd.get_dummies(X_test_log_N1, columns = ['Vocacao'])"
      ]
    },
    {
      "cell_type": "code",
      "execution_count": null,
      "metadata": {
        "id": "Wvw7nIUNFcLm"
      },
      "outputs": [],
      "source": [
        "X_train_log_N2 = pd.get_dummies(X_train_log_N2, columns = ['Vocacao'])\n",
        "X_test_log_N2 = pd.get_dummies(X_test_log_N2, columns = ['Vocacao'])"
      ]
    },
    {
      "cell_type": "code",
      "execution_count": null,
      "metadata": {
        "id": "CbGcjeTB8FXc"
      },
      "outputs": [],
      "source": [
        "X_train_log_N3 = pd.get_dummies(X_train_log_N3, columns = ['Vocacao'])\n",
        "X_test_log_N3 = pd.get_dummies(X_test_log_N3, columns = ['Vocacao'])"
      ]
    },
    {
      "cell_type": "code",
      "execution_count": null,
      "metadata": {
        "id": "r5CZKc4BAAP9"
      },
      "outputs": [],
      "source": [
        "X_train_log_N1.columns"
      ]
    },
    {
      "cell_type": "code",
      "execution_count": null,
      "metadata": {
        "id": "H_9jRv7WFiN1"
      },
      "outputs": [],
      "source": [
        "X_train_log_N2.columns"
      ]
    },
    {
      "cell_type": "code",
      "execution_count": null,
      "metadata": {
        "id": "Iszf__1PBC72"
      },
      "outputs": [],
      "source": [
        "X_train_log_N3.columns"
      ]
    },
    {
      "cell_type": "code",
      "execution_count": null,
      "metadata": {
        "id": "IMzX9NXP_91W"
      },
      "outputs": [],
      "source": [
        "# U1\n",
        "\n",
        "mms_N1_A = MinMaxScaler()\n",
        "\n",
        "X_train_log_N1[['CapitalUF', 'IDHM_2010', 'Terreno', 'CUB*AreaConstruida',\n",
        "       'Vocacao_Comercial', 'Vocacao_Institucional', 'Vocacao_Misto',\n",
        "       'Vocacao_Residencial']] = mms_N1_A.fit_transform(X_train_log_N1[['CapitalUF', 'IDHM_2010', 'Terreno', 'CUB*AreaConstruida',\n",
        "       'Vocacao_Comercial', 'Vocacao_Institucional', 'Vocacao_Misto',\n",
        "       'Vocacao_Residencial']])\n",
        "\n",
        "X_test_log_N1[['CapitalUF', 'IDHM_2010', 'Terreno', 'CUB*AreaConstruida',\n",
        "       'Vocacao_Comercial', 'Vocacao_Institucional', 'Vocacao_Misto',\n",
        "       'Vocacao_Residencial']] = mms_N1_A.transform(X_test_log_N1[['CapitalUF', 'IDHM_2010', 'Terreno', 'CUB*AreaConstruida',\n",
        "       'Vocacao_Comercial', 'Vocacao_Institucional', 'Vocacao_Misto',\n",
        "       'Vocacao_Residencial']])"
      ]
    },
    {
      "cell_type": "code",
      "execution_count": null,
      "metadata": {
        "id": "-M0XADP8Fg6d"
      },
      "outputs": [],
      "source": [
        "# U2\n",
        "\n",
        "mms_N2_A = MinMaxScaler()\n",
        "\n",
        "X_train_log_N2[['CapitalUF', 'IDHM_2010', 'Terreno', 'IdadeAparente',\n",
        "       'CUB*AreaConstruida', 'Vocacao_Comercial',\n",
        "       'Vocacao_Institucional', 'Vocacao_Misto', 'Vocacao_Residencial']] = mms_N2_A.fit_transform(X_train_log_N2[['CapitalUF', 'IDHM_2010', 'Terreno', 'IdadeAparente',\n",
        "       'CUB*AreaConstruida', 'Vocacao_Comercial',\n",
        "       'Vocacao_Institucional', 'Vocacao_Misto', 'Vocacao_Residencial']])\n",
        "\n",
        "X_test_log_N2[['CapitalUF', 'IDHM_2010', 'Terreno', 'IdadeAparente',\n",
        "       'CUB*AreaConstruida', 'Vocacao_Comercial',\n",
        "       'Vocacao_Institucional', 'Vocacao_Misto', 'Vocacao_Residencial']] = mms_N2_A.transform(X_test_log_N2[['CapitalUF', 'IDHM_2010', 'Terreno', 'IdadeAparente',\n",
        "       'CUB*AreaConstruida', 'Vocacao_Comercial',\n",
        "       'Vocacao_Institucional', 'Vocacao_Misto', 'Vocacao_Residencial']])"
      ]
    },
    {
      "cell_type": "code",
      "execution_count": null,
      "metadata": {
        "id": "KC_8OyDQT8mg"
      },
      "outputs": [],
      "source": [
        "# U3\n",
        "\n",
        "mms_N3_A = MinMaxScaler()\n",
        "\n",
        "X_train_log_N3[['CapitalUF', 'IDHM_2010', 'Terreno', 'IdadeAparente',\n",
        "       'Rendimento Domiciliar Medio', 'qtd_equipamento',\n",
        "       'qtd_shopping', 'qtd_estabelecimento', 'CUB*AreaConstruida', 'Vocacao_Comercial', 'Vocacao_Institucional',\n",
        "       'Vocacao_Misto', 'Vocacao_Residencial']] = mms_N3_A.fit_transform(X_train_log_N3[['CapitalUF', 'IDHM_2010', 'Terreno', 'IdadeAparente',\n",
        "       'Rendimento Domiciliar Medio', 'qtd_equipamento',\n",
        "       'qtd_shopping', 'qtd_estabelecimento', 'CUB*AreaConstruida', 'Vocacao_Comercial', 'Vocacao_Institucional',\n",
        "       'Vocacao_Misto', 'Vocacao_Residencial']])\n",
        "\n",
        "X_test_log_N3[['CapitalUF', 'IDHM_2010', 'Terreno', 'IdadeAparente',\n",
        "       'Rendimento Domiciliar Medio', 'qtd_equipamento',\n",
        "       'qtd_shopping', 'qtd_estabelecimento', 'CUB*AreaConstruida', 'Vocacao_Comercial', 'Vocacao_Institucional',\n",
        "       'Vocacao_Misto', 'Vocacao_Residencial']] = mms_N3_A.transform(X_test_log_N3[['CapitalUF', 'IDHM_2010', 'Terreno', 'IdadeAparente',\n",
        "       'Rendimento Domiciliar Medio', 'qtd_equipamento',\n",
        "       'qtd_shopping', 'qtd_estabelecimento', 'CUB*AreaConstruida', 'Vocacao_Comercial', 'Vocacao_Institucional',\n",
        "       'Vocacao_Misto', 'Vocacao_Residencial']])"
      ]
    },
    {
      "cell_type": "markdown",
      "metadata": {
        "id": "8qpLE0Rlzq4Y"
      },
      "source": [
        "### Cenário B"
      ]
    },
    {
      "cell_type": "code",
      "execution_count": null,
      "metadata": {
        "id": "vlVFHwfh1bki"
      },
      "outputs": [],
      "source": [
        "df_EB = df_Uniao[df_Uniao.Fonte == \"EB\"].sample(130,random_state=0)"
      ]
    },
    {
      "cell_type": "code",
      "execution_count": null,
      "metadata": {
        "id": "JCr3zurD1cGd"
      },
      "outputs": [],
      "source": [
        "df_EB.head()"
      ]
    },
    {
      "cell_type": "code",
      "execution_count": null,
      "metadata": {
        "id": "p5MgYFge1pJC"
      },
      "outputs": [],
      "source": [
        "df_EB.describe()"
      ]
    },
    {
      "cell_type": "code",
      "execution_count": null,
      "metadata": {
        "id": "D-m1M3gM10_z"
      },
      "outputs": [],
      "source": [
        "df_Uniao_reduzido = df_Uniao.drop(df_EB.index)"
      ]
    },
    {
      "cell_type": "code",
      "execution_count": null,
      "metadata": {
        "id": "1RN_ICLt2S19"
      },
      "outputs": [],
      "source": [
        "df_Uniao_reduzido.head()"
      ]
    },
    {
      "cell_type": "code",
      "execution_count": null,
      "metadata": {
        "id": "jMRmPQFj2NR-"
      },
      "outputs": [],
      "source": [
        "df_Uniao_reduzido.describe()"
      ]
    },
    {
      "cell_type": "code",
      "source": [
        "df_Uniao_reduzido.isna().sum()"
      ],
      "metadata": {
        "id": "W_v_pM1LA223"
      },
      "execution_count": null,
      "outputs": []
    },
    {
      "cell_type": "code",
      "execution_count": null,
      "metadata": {
        "id": "QV95E3r82lXe"
      },
      "outputs": [],
      "source": [
        "# U1, U2 e U3 (Cenário B)\n",
        "\n",
        "col_list = df_Uniao.columns.tolist()\n",
        "\n",
        "listaaremover = ['Fonte', 'Id', 'Município', 'UF', 'TipologiaMunicipalIBGE', 'IVS_2010', 'TaxaHomicidios_2019',\n",
        "       'TipoImovel', 'CUBJan22', 'VidaUtil', 'AreaConstruidaTratada',\n",
        "       'AreaProjetadaTratada', 'IndiceFipeZapAvaliacao', 'IndiceFipeZapJan22',\n",
        "       'ValorTotalAtualizado', 'ValorUnitarioAtualizado', 'CodigoAP', 'NomeAP',\n",
        "       '% Superior Completo', '% Rede Geral de Distribuicao de Agua',\n",
        "       '% Microcomputador com Acesso a Internet', 'xcoord', 'ycoord', 'LatLong', 'qtd_hospital',\n",
        "       'qtd_parque', 'qtd_delegacia', 'qtd_escola',\n",
        "       'qtd_universidade', 'qtd_atracaoturistica', 'qtd_supermercado',\n",
        "       'qtd_restaurante', 'qtd_padaria', 'qtd_cafeteria', 'qtd_loja', 'qtd_parada_onibus', 'qtd_estacao_vlt',\n",
        "       'qtd_estacao_metro', 'qtd_estacao_trem', 'qtd_aeroporto',\n",
        "       'acessibilidade', 'GoogleTrends2022', 'GrauUrbanizacaoIBGE']\n",
        "\n",
        "for e in listaaremover:\n",
        "  col_list.remove(e)\n",
        "\n",
        "X_final_log_reduzido = df_Uniao_reduzido[col_list]\n",
        "X_final_log_EB = df_EB[col_list]\n",
        "\n",
        "y_final_log_reduzido = np.log(df_Uniao_reduzido['ValorTotalAtualizado'])\n",
        "y_final_log_EB = np.log(df_EB['ValorTotalAtualizado'])\n",
        "\n",
        "y_final_log_reduzido = y_final_log_reduzido[:,np.newaxis]\n",
        "y_final_log_EB = y_final_log_EB[:,np.newaxis]"
      ]
    },
    {
      "cell_type": "code",
      "execution_count": null,
      "metadata": {
        "id": "Bx4dgClY3ItT"
      },
      "outputs": [],
      "source": [
        "logArea_reduzido = np.log(df_Uniao_reduzido.loc[:,'AreaProjetadaTratada'])\n",
        "logArea_EB = np.log(df_EB.loc[:,'AreaProjetadaTratada'])\n",
        "\n",
        "X_final_log_reduzido['logArea'] = logArea_reduzido\n",
        "X_final_log_EB['logArea'] = logArea_EB"
      ]
    },
    {
      "cell_type": "code",
      "execution_count": null,
      "metadata": {
        "id": "nIzwSJ1WGc1V"
      },
      "outputs": [],
      "source": [
        "X_final_log_reduzido = pd.get_dummies(X_final_log_reduzido, columns = ['Vocacao'])\n",
        "X_final_log_EB = pd.get_dummies(X_final_log_EB, columns = ['Vocacao'])"
      ]
    },
    {
      "cell_type": "code",
      "execution_count": null,
      "metadata": {
        "id": "7HywLi1j34iy"
      },
      "outputs": [],
      "source": [
        "X_final_log_reduzido.columns"
      ]
    },
    {
      "cell_type": "code",
      "execution_count": null,
      "metadata": {
        "id": "4qLymH6rGPY9"
      },
      "outputs": [],
      "source": [
        "X_final_log_EB.columns"
      ]
    },
    {
      "cell_type": "code",
      "execution_count": null,
      "metadata": {
        "id": "oeDvHP8cXVGB"
      },
      "outputs": [],
      "source": [
        "# Transformação de Variáveis\n",
        "\n",
        "mms_B = MinMaxScaler()\n",
        "\n",
        "X_final_log_reduzido[['CapitalUF', 'IDHM_2010', 'Terreno', 'IdadeAparente',\n",
        "       'Rendimento Domiciliar Medio', 'qtd_equipamento',\n",
        "       'qtd_shopping', 'qtd_estabelecimento', 'CUB*AreaConstruida',\n",
        "       'Vocacao_Comercial', 'Vocacao_Institucional', 'Vocacao_Misto',\n",
        "       'Vocacao_Residencial']] = mms_B.fit_transform(X_final_log_reduzido[['CapitalUF', 'IDHM_2010', 'Terreno', 'IdadeAparente',\n",
        "       'Rendimento Domiciliar Medio', 'qtd_equipamento',\n",
        "       'qtd_shopping', 'qtd_estabelecimento', 'CUB*AreaConstruida',\n",
        "       'Vocacao_Comercial', 'Vocacao_Institucional', 'Vocacao_Misto',\n",
        "       'Vocacao_Residencial']])\n",
        "\n",
        "X_final_log_EB[['CapitalUF', 'IDHM_2010', 'Terreno', 'IdadeAparente',\n",
        "       'Rendimento Domiciliar Medio', 'qtd_equipamento',\n",
        "       'qtd_shopping', 'qtd_estabelecimento', 'CUB*AreaConstruida',\n",
        "       'Vocacao_Comercial', 'Vocacao_Institucional', 'Vocacao_Misto',\n",
        "       'Vocacao_Residencial']] = mms_B.transform(X_final_log_EB[['CapitalUF', 'IDHM_2010', 'Terreno', 'IdadeAparente',\n",
        "       'Rendimento Domiciliar Medio', 'qtd_equipamento',\n",
        "       'qtd_shopping', 'qtd_estabelecimento', 'CUB*AreaConstruida',\n",
        "       'Vocacao_Comercial', 'Vocacao_Institucional', 'Vocacao_Misto',\n",
        "       'Vocacao_Residencial']])"
      ]
    },
    {
      "cell_type": "code",
      "execution_count": null,
      "metadata": {
        "id": "P_FdhPVUo3Mo"
      },
      "outputs": [],
      "source": [
        "X_final_log_reduzido.columns"
      ]
    },
    {
      "cell_type": "code",
      "source": [
        "X_trainB_N1 = X_final_log_reduzido[['CapitalUF', 'IDHM_2010', 'Terreno', \n",
        "      'CUB*AreaConstruida', 'logArea',\n",
        "      'Vocacao_Comercial', 'Vocacao_Institucional', 'Vocacao_Misto',\n",
        "      'Vocacao_Residencial']]\n",
        "\n",
        "X_trainB_N2 = X_final_log_reduzido[['CapitalUF', 'IDHM_2010', 'Terreno', 'IdadeAparente', \n",
        "      'CUB*AreaConstruida', 'logArea',\n",
        "      'Vocacao_Comercial', 'Vocacao_Institucional', 'Vocacao_Misto',\n",
        "      'Vocacao_Residencial']]\n",
        "\n",
        "X_trainB_N3 = X_final_log_reduzido[['CapitalUF', 'IDHM_2010', 'Terreno', 'IdadeAparente',\n",
        "       'Rendimento Domiciliar Medio', 'qtd_equipamento',\n",
        "       'qtd_shopping', 'qtd_estabelecimento', 'CUB*AreaConstruida', 'logArea',\n",
        "       'Vocacao_Comercial', 'Vocacao_Institucional', 'Vocacao_Misto',\n",
        "       'Vocacao_Residencial']]"
      ],
      "metadata": {
        "id": "3czy9n0jUhDO"
      },
      "execution_count": null,
      "outputs": []
    },
    {
      "cell_type": "code",
      "execution_count": null,
      "metadata": {
        "id": "TS0KfZVSYTUF"
      },
      "outputs": [],
      "source": [
        "X_testeEB_N1 = X_final_log_EB[['CapitalUF', 'IDHM_2010', 'Terreno', \n",
        "      'CUB*AreaConstruida', 'logArea',\n",
        "      'Vocacao_Comercial', 'Vocacao_Institucional', 'Vocacao_Misto',\n",
        "      'Vocacao_Residencial']]\n",
        "\n",
        "X_testeEB_N2 = X_final_log_EB[['CapitalUF', 'IDHM_2010', 'Terreno', 'IdadeAparente', \n",
        "      'CUB*AreaConstruida', 'logArea',\n",
        "      'Vocacao_Comercial', 'Vocacao_Institucional', 'Vocacao_Misto',\n",
        "      'Vocacao_Residencial']]\n",
        "\n",
        "X_testeEB_N3 = X_final_log_EB[['CapitalUF', 'IDHM_2010', 'Terreno', 'IdadeAparenteCategorica',\n",
        "       'Rendimento Domiciliar Medio', 'qtd_equipamento',\n",
        "       'qtd_shopping', 'qtd_estabelecimento', 'CUB*AreaConstruida', 'logArea',\n",
        "       'Vocacao_Comercial', 'Vocacao_Institucional', 'Vocacao_Misto',\n",
        "       'Vocacao_Residencial']]"
      ]
    },
    {
      "cell_type": "code",
      "source": [
        "X_final_log_reduzido.isna().sum()"
      ],
      "metadata": {
        "id": "OWmF5ymuBN1e"
      },
      "execution_count": null,
      "outputs": []
    },
    {
      "cell_type": "markdown",
      "metadata": {
        "id": "fAfu3ai3t0pk"
      },
      "source": [
        "## Modelagem Não Linear (*XGBRegressor*)"
      ]
    },
    {
      "cell_type": "markdown",
      "source": [
        "### Definições Gerais"
      ],
      "metadata": {
        "id": "loKcSwnnQGsd"
      }
    },
    {
      "cell_type": "code",
      "source": [
        "# Validação Cruzada (testes de 2 a 15 folds)\n",
        "\n",
        "cv = KFold(n_splits=10, random_state=0, shuffle=True)"
      ],
      "metadata": {
        "id": "kVhZ-w0CQOml"
      },
      "execution_count": null,
      "outputs": []
    },
    {
      "cell_type": "code",
      "source": [
        "# t de Student para cálculo do IC\n",
        "\n",
        "t_student_bicaudal_90 = 1.645"
      ],
      "metadata": {
        "id": "cTvygMQ2QXJ9"
      },
      "execution_count": null,
      "outputs": []
    },
    {
      "cell_type": "markdown",
      "metadata": {
        "id": "Lc8IW3HP6KIu"
      },
      "source": [
        "### Cenário A"
      ]
    },
    {
      "cell_type": "code",
      "execution_count": null,
      "metadata": {
        "id": "Z1FSnXpvmEDE"
      },
      "outputs": [],
      "source": [
        "grid = {\n",
        "    'learning_rate': [0.001,0.01,0.1,0.3,0.5,0.7,0.9],\n",
        "    'min_split_loss': [0,10,100],\n",
        "    'learning_rate': [0.01,0.1,0.3,0.5,0.7,0.9],\n",
        "    'min_split_loss': [0,10,100],\n",
        "    'max_depth': [1,5,6,10],\n",
        "    'alpha': [0,5,10],\n",
        "    'n_estimators': [100,1000,10000],\n",
        "    'random_state': [0,1,12,123,1234,12345]\n",
        "}\n",
        "\n",
        "xgboost_cv = GridSearchCV(estimator=XGBRegressor(), param_grid=grid, cv= 10, scoring='r2')\n",
        "xgboost_cv.fit(X_train_log_N3, y_train_log_N3.ravel())\n",
        "\n",
        "xgboost_cv.best_params_"
      ]
    },
    {
      "cell_type": "markdown",
      "metadata": {
        "id": "ZE4Dy_THjtg9"
      },
      "source": [
        "#### U1"
      ]
    },
    {
      "cell_type": "code",
      "execution_count": null,
      "metadata": {
        "id": "hiF5eC48D8-P"
      },
      "outputs": [],
      "source": [
        "xg_reg_A_U1 = xgb.XGBRegressor(colsample_bytree = 1.0, learning_rate = 0.3, max_depth = 5, alpha = 5, n_estimators = 100, random_state = 0, min_split_loss = 0, reg_lambda = 1.0)"
      ]
    },
    {
      "cell_type": "code",
      "execution_count": null,
      "metadata": {
        "id": "QBgqj7p5j1zt"
      },
      "outputs": [],
      "source": [
        "xg_reg_A_U1.fit(X_train_log_N1, y_train_log_N1.ravel())\n",
        "\n",
        "preds_xgboost_N1 = xg_reg_A_U1.predict(X_test_log_N1)"
      ]
    },
    {
      "cell_type": "code",
      "execution_count": null,
      "metadata": {
        "id": "EhcYFGi8kJQh"
      },
      "outputs": [],
      "source": [
        "scores_log_xg_N1 = cross_val_score(xg_reg_A_U1, X_train_log_N1, y_train_log_N1.ravel(), scoring='r2', cv=cv)"
      ]
    },
    {
      "cell_type": "code",
      "execution_count": null,
      "metadata": {
        "id": "801JFMLlkQdu"
      },
      "outputs": [],
      "source": [
        "print('Coeficiente de Determinação Médio (R2) para os 10 folds (XGBRegressor): %.4f (dp: %.3f)' % (mean(scores_log_xg_N1), std(scores_log_xg_N1)))"
      ]
    },
    {
      "cell_type": "code",
      "execution_count": null,
      "metadata": {
        "id": "BpZ_bjolket8"
      },
      "outputs": [],
      "source": [
        "Y_hat_train_xgreg = xg_reg_A_U1.predict(X_train_log_N1)\n",
        "\n",
        "rmse_train = np.sqrt(mean_squared_error(y_train_log_N1,Y_hat_train_xgreg))\n",
        "RSQ_train = r2_score(y_train_log_N1,Y_hat_train_xgreg)\n",
        "MBE_train = np.mean(y_train_log_N1 - Y_hat_train_xgreg)\n",
        "MAE_train = np.mean(abs(y_train_log_N1 - Y_hat_train_xgreg))\n",
        "STD_train = np.std(y_train_log_N1 - Y_hat_train_xgreg)\n",
        "# ################################################################\n",
        "# ################################################################\n",
        "print(\"############ Avaliação do Modelo no Conjunto de Treinamento ############\")\n",
        "print(\"RMSE: %0.3f\" % rmse_train)\n",
        "print(\"R2: %0.3f\" % RSQ_train)\n",
        "print(\"MBE: %0.3f\" % MBE_train)\n",
        "print(\"MAE: %0.3f\" % MAE_train)\n",
        "print(\"STD: %0.3f\" % STD_train)\n",
        "print(\"########################################\")\n",
        "print(\" \")\n",
        "# #----------------------------------------------------------------------------------------------------------\n",
        "# # AVALIAÇÃO DO MODELO\n",
        "# #----------------------------------------------------------------------------------------------------------\n",
        "Y_hat_test_xgreg = xg_reg_A_U1.predict(X_test_log_N1)\n",
        "\n",
        "rmse_test = np.sqrt(mean_squared_error(y_test_log_N1,Y_hat_test_xgreg))\n",
        "RSQ_test = r2_score(y_test_log_N1,Y_hat_test_xgreg)\n",
        "MBE_test = np.mean(y_test_log_N1 - Y_hat_test_xgreg)\n",
        "MAE_test = np.mean(abs(y_test_log_N1 - Y_hat_test_xgreg))\n",
        "STD_test = np.std(y_test_log_N1 - Y_hat_test_xgreg)\n",
        "# ################################################################\n",
        "# ################################################################\n",
        "print(\"############ Avaliação do Modelo no Conjunto de Teste ############\")\n",
        "print(\"RMSE: %0.3f\" % rmse_test)\n",
        "print(\"R2: %0.3f\" % RSQ_test)\n",
        "print(\"MBE: %0.3f\" % MBE_test)\n",
        "print(\"MAE: %0.3f\" % MAE_test)\n",
        "print(\"STD: %0.3f\" % STD_test)\n",
        "print(\"########################################\")\n",
        "print(\" \")"
      ]
    },
    {
      "cell_type": "code",
      "source": [
        "residuos_U1_A = y_test_log_N1 - Y_hat_test_xgreg"
      ],
      "metadata": {
        "id": "X6dQYGuVkXj4"
      },
      "execution_count": null,
      "outputs": []
    },
    {
      "cell_type": "code",
      "source": [
        "ecdf = ECDF(residuos_U1_A.ravel())\n",
        "ecdf_neg_U1_A = ecdf(0)\n",
        "ecdf_neg_U1_A"
      ],
      "metadata": {
        "id": "gZzex0Yckqe6"
      },
      "execution_count": null,
      "outputs": []
    },
    {
      "cell_type": "code",
      "source": [
        "# Intervalo de Confiança U1 (XGBRegressor) - Cenário A\n",
        "\n",
        "dif_relativa_sup = math.exp(rmse_test * (1 - ecdf_neg_U1_A) + t_student_bicaudal_90 * STD_test / (len(y_test_log_N1)**(0.5)))\n",
        "dif_relativa_inf = math.exp(- rmse_test * ecdf_neg_U1_A - t_student_bicaudal_90 * STD_test / (len(y_test_log_N1)**(0.5)))\n",
        "\n",
        "print(\"Semiamplitude Superior do IC 90 U1 (Cenário A): %0.4f\" % (dif_relativa_sup - 1))\n",
        "print(\"Semiamplitude Inferior do IC 90 U1 (Cenário A): %0.4f\" % (dif_relativa_inf - 1))"
      ],
      "metadata": {
        "id": "WlfydIF6ou7f"
      },
      "execution_count": null,
      "outputs": []
    },
    {
      "cell_type": "markdown",
      "source": [
        "#### U2"
      ],
      "metadata": {
        "id": "AHAi9vPdWiQP"
      }
    },
    {
      "cell_type": "code",
      "source": [
        "xg_reg_A_U2 = xgb.XGBRegressor(colsample_bytree = 1.0, learning_rate = 0.3, max_depth = 5, alpha = 5, n_estimators = 100, random_state = 0, min_split_loss = 0, reg_lambda = 1.0)"
      ],
      "metadata": {
        "id": "wZGPHpsPIG79"
      },
      "execution_count": null,
      "outputs": []
    },
    {
      "cell_type": "code",
      "source": [
        "xg_reg_A_U2.fit(X_train_log_N2, y_train_log_N2.ravel())\n",
        "\n",
        "preds_xgboost = xg_reg_A_U2.predict(X_test_log_N2)"
      ],
      "metadata": {
        "id": "mcnD8JBIWkix"
      },
      "execution_count": null,
      "outputs": []
    },
    {
      "cell_type": "code",
      "source": [
        "scores_log_xg_N2 = cross_val_score(xg_reg_A_U2, X_train_log_N2, y_train_log_N2.ravel(), scoring='r2', cv=cv)"
      ],
      "metadata": {
        "id": "6NE8_cwHW3C0"
      },
      "execution_count": null,
      "outputs": []
    },
    {
      "cell_type": "code",
      "source": [
        "print('Coeficiente de Determinação Médio (R2) para os 10 folds (XGBRegressor): %.4f (dp: %.3f)' % (mean(scores_log_xg_N2), std(scores_log_xg_N2)))"
      ],
      "metadata": {
        "id": "8H4pbRDOXBMK"
      },
      "execution_count": null,
      "outputs": []
    },
    {
      "cell_type": "code",
      "source": [
        "Y_hat_train_xgreg = xg_reg_A_U2.predict(X_train_log_N2)\n",
        "\n",
        "rmse_train = np.sqrt(mean_squared_error(y_train_log_N2,Y_hat_train_xgreg))\n",
        "RSQ_train = r2_score(y_train_log_N2,Y_hat_train_xgreg)\n",
        "MBE_train = np.mean(y_train_log_N2 - Y_hat_train_xgreg)\n",
        "MAE_train = np.mean(abs(y_train_log_N2 - Y_hat_train_xgreg))\n",
        "STD_train = np.std(y_train_log_N2 - Y_hat_train_xgreg)\n",
        "# ################################################################\n",
        "# ################################################################\n",
        "print(\"############ Avaliação do Modelo no Conjunto de Treinamento ############\")\n",
        "print(\"RMSE: %0.3f\" % rmse_train)\n",
        "print(\"R2: %0.3f\" % RSQ_train)\n",
        "print(\"MBE: %0.3f\" % MBE_train)\n",
        "print(\"MAE: %0.3f\" % MAE_train)\n",
        "print(\"STD: %0.3f\" % STD_train)\n",
        "print(\"########################################\")\n",
        "print(\" \")\n",
        "# #----------------------------------------------------------------------------------------------------------\n",
        "# # AVALIAÇÃO DO MODELO\n",
        "# #----------------------------------------------------------------------------------------------------------\n",
        "Y_hat_test_xgreg = xg_reg_A_U2.predict(X_test_log_N2)\n",
        "\n",
        "rmse_test = np.sqrt(mean_squared_error(y_test_log_N2,Y_hat_test_xgreg))\n",
        "RSQ_test = r2_score(y_test_log_N2,Y_hat_test_xgreg)\n",
        "MBE_test = np.mean(y_test_log_N2 - Y_hat_test_xgreg)\n",
        "MAE_test = np.mean(abs(y_test_log_N2 - Y_hat_test_xgreg))\n",
        "STD_test = np.std(y_test_log_N2 - Y_hat_test_xgreg)\n",
        "# ################################################################\n",
        "# ################################################################\n",
        "print(\"############ Avaliação do Modelo no Conjunto de Teste ############\")\n",
        "print(\"RMSE: %0.3f\" % rmse_test)\n",
        "print(\"R2: %0.3f\" % RSQ_test)\n",
        "print(\"MBE: %0.3f\" % MBE_test)\n",
        "print(\"MAE: %0.3f\" % MAE_test)\n",
        "print(\"STD: %0.3f\" % STD_test)\n",
        "print(\"########################################\")\n",
        "print(\" \")"
      ],
      "metadata": {
        "id": "VtzZDaBrXU92"
      },
      "execution_count": null,
      "outputs": []
    },
    {
      "cell_type": "code",
      "source": [
        "residuos_U2_A = y_test_log_N2 - Y_hat_test_xgreg"
      ],
      "metadata": {
        "id": "ZRjqu1hemGYH"
      },
      "execution_count": null,
      "outputs": []
    },
    {
      "cell_type": "code",
      "source": [
        "ecdf = ECDF(residuos_U2_A.ravel())\n",
        "ecdf_neg_U2_A = ecdf(0)\n",
        "ecdf_neg_U2_A"
      ],
      "metadata": {
        "id": "9t4V6xxOmLCy"
      },
      "execution_count": null,
      "outputs": []
    },
    {
      "cell_type": "code",
      "source": [
        "# Intervalo de Confiança U2 (XGBRegressor) - Cenário A\n",
        "\n",
        "dif_relativa_sup = math.exp(rmse_test * (1 - ecdf_neg_U2_A) + t_student_bicaudal_90 * STD_test / (len(y_test_log_N2)**(0.5)))\n",
        "dif_relativa_inf = math.exp(- rmse_test * ecdf_neg_U2_A - t_student_bicaudal_90 * STD_test / (len(y_test_log_N2)**(0.5)))\n",
        "\n",
        "print(\"Semiamplitude Superior do IC 90 U2 (Cenário A): %0.4f\" % (dif_relativa_sup - 1))\n",
        "print(\"Semiamplitude Inferior do IC 90 U2 (Cenário A): %0.4f\" % (dif_relativa_inf - 1))"
      ],
      "metadata": {
        "id": "9spNGdiYXiKk"
      },
      "execution_count": null,
      "outputs": []
    },
    {
      "cell_type": "markdown",
      "metadata": {
        "id": "ACCkbZyyjpOK"
      },
      "source": [
        "#### U3"
      ]
    },
    {
      "cell_type": "code",
      "source": [
        "xg_reg_A_U3 = xgb.XGBRegressor(colsample_bytree = 1.0, learning_rate = 0.3, max_depth = 5, alpha = 5, n_estimators = 100, random_state = 0, min_split_loss = 0, reg_lambda = 1.0)"
      ],
      "metadata": {
        "id": "q4vaK3EMIbxR"
      },
      "execution_count": null,
      "outputs": []
    },
    {
      "cell_type": "code",
      "execution_count": null,
      "metadata": {
        "id": "rJbyhQ26EEMu"
      },
      "outputs": [],
      "source": [
        "xg_reg_A_U3.fit(X_train_log_N3, y_train_log_N3.ravel())\n",
        "\n",
        "preds_xgboost = xg_reg_A_U3.predict(X_test_log_N3)"
      ]
    },
    {
      "cell_type": "code",
      "execution_count": null,
      "metadata": {
        "id": "XG2W0fU8GIzP"
      },
      "outputs": [],
      "source": [
        "scores_log_xg_N3 = cross_val_score(xg_reg_A_U3, X_train_log_N3, y_train_log_N3.ravel(), scoring='r2', cv=cv)"
      ]
    },
    {
      "cell_type": "code",
      "execution_count": null,
      "metadata": {
        "id": "ru3HJkEAn3P_"
      },
      "outputs": [],
      "source": [
        "print('Coeficiente de Determinação Médio (R2) para os 10 folds (XGBregressor): %.4f (dp: %.3f)' % (mean(scores_log_xg_N3), std(scores_log_xg_N3)))"
      ]
    },
    {
      "cell_type": "code",
      "execution_count": null,
      "metadata": {
        "id": "p5zCEDFcs6_B"
      },
      "outputs": [],
      "source": [
        "xg_reg_A_U3.feature_importances_"
      ]
    },
    {
      "cell_type": "code",
      "execution_count": null,
      "metadata": {
        "id": "Jr8WeoDuvYen"
      },
      "outputs": [],
      "source": [
        "Y_hat_train_xgreg = xg_reg_A_U3.predict(X_train_log_N3)\n",
        "\n",
        "rmse_train = np.sqrt(mean_squared_error(y_train_log_N3,Y_hat_train_xgreg))\n",
        "RSQ_train = r2_score(y_train_log_N3,Y_hat_train_xgreg)\n",
        "MBE_train = np.mean(y_train_log_N3 - Y_hat_train_xgreg)\n",
        "MAE_train = np.mean(abs(y_train_log_N3 - Y_hat_train_xgreg))\n",
        "STD_train = np.std(y_train_log_N3 - Y_hat_train_xgreg)\n",
        "# ################################################################\n",
        "# ################################################################\n",
        "print(\"############ Avaliação do Modelo no Conjunto de Treinamento ############\")\n",
        "print(\"RMSE: %0.3f\" % rmse_train)\n",
        "print(\"R2: %0.3f\" % RSQ_train)\n",
        "print(\"MBE: %0.3f\" % MBE_train)\n",
        "print(\"MAE: %0.3f\" % MAE_train)\n",
        "print(\"STD: %0.3f\" % STD_train)\n",
        "print(\"########################################\")\n",
        "print(\" \")\n",
        "# #----------------------------------------------------------------------------------------------------------\n",
        "# # AVALIAÇÃO DO MODELO\n",
        "# #----------------------------------------------------------------------------------------------------------\n",
        "Y_hat_test_xgreg = xg_reg_A_U3.predict(X_test_log_N3)\n",
        "\n",
        "rmse_test = np.sqrt(mean_squared_error(y_test_log_N3,Y_hat_test_xgreg))\n",
        "RSQ_test = r2_score(y_test_log_N3,Y_hat_test_xgreg)\n",
        "MBE_test = np.mean(y_test_log_N3 - Y_hat_test_xgreg)\n",
        "MAE_test = np.mean(abs(y_test_log_N3 - Y_hat_test_xgreg))\n",
        "STD_test = np.std(y_test_log_N3 - Y_hat_test_xgreg)\n",
        "# ################################################################\n",
        "# ################################################################\n",
        "print(\"############ Avaliação do Modelo no Conjunto de Teste ############\")\n",
        "print(\"RMSE: %0.3f\" % rmse_test)\n",
        "print(\"R2: %0.3f\" % RSQ_test)\n",
        "print(\"MBE: %0.3f\" % MBE_test)\n",
        "print(\"MAE: %0.3f\" % MAE_test)\n",
        "print(\"STD: %0.3f\" % STD_test)\n",
        "print(\"########################################\")\n",
        "print(\" \")"
      ]
    },
    {
      "cell_type": "code",
      "source": [
        "residuos_U3_A = y_test_log_N3 - Y_hat_test_xgreg"
      ],
      "metadata": {
        "id": "ZT238iUCnFUP"
      },
      "execution_count": null,
      "outputs": []
    },
    {
      "cell_type": "code",
      "source": [
        "ecdf = ECDF(residuos_U3_A.ravel())\n",
        "ecdf_neg_U3_A = ecdf(0)\n",
        "ecdf_neg_U3_A"
      ],
      "metadata": {
        "id": "WEB2Bh0bnH5H"
      },
      "execution_count": null,
      "outputs": []
    },
    {
      "cell_type": "code",
      "source": [
        "# Intervalo de Confiança U3 (XGBRegressor) - Cenário A\n",
        "\n",
        "dif_relativa_sup = math.exp(rmse_test * (1 - ecdf_neg_U3_A) + t_student_bicaudal_90 * STD_test / (len(y_test_log_N3)**(0.5)))\n",
        "dif_relativa_inf = math.exp(- rmse_test * ecdf_neg_U3_A - t_student_bicaudal_90 * STD_test / (len(y_test_log_N3)**(0.5)))\n",
        "\n",
        "print(\"Semiamplitude Superior do IC 90 U3 (Cenário A): %0.4f\" % (dif_relativa_sup - 1))\n",
        "print(\"Semiamplitude Inferior do IC 90 U3 (Cenário A): %0.4f\" % (dif_relativa_inf - 1))"
      ],
      "metadata": {
        "id": "kYhsj1fWpE9h"
      },
      "execution_count": null,
      "outputs": []
    },
    {
      "cell_type": "code",
      "execution_count": null,
      "metadata": {
        "id": "ceUopavAv_5w"
      },
      "outputs": [],
      "source": [
        "fig = plt.figure(figsize=(15,15))\n",
        "ax = plt.subplot(1,1,1)\n",
        "\n",
        "#ax.plot(Y_hat_train_xgreg,y_train_log_N3,'go',label='dados de treinamento')\n",
        "#ax.plot(Y_hat_test_xgreg,y_test_log_N3,'bo',label='dados de teste')\n",
        "\n",
        "ax.plot(Y_hat_train_xgreg,y_train_log_N3,'go')\n",
        "ax.plot(Y_hat_test_xgreg,y_test_log_N3,'bo')\n",
        "\n",
        "plt.rcParams.update({'font.size': 10})\n",
        "\n",
        "ax.set_title('Observações vs Projeções do Modelo Não Linear XGBRegressor (Ln Valor Total Atualizado) - Cenário A')\n",
        "plt.rcParams.update({'font.size': 10})\n",
        "ax.set_ylabel('Ln Valores Totais Calculados pelas Instituições Atualizados (JAN 22)')\n",
        "ax.set_xlabel('Projeções do Modelo (Ln Valor Total do Imóvel)')\n",
        "\n",
        "plt.legend(loc=\"lower right\")\n",
        "\n",
        "x_bis = np.linspace(0, 30, 1000)\n",
        "plt.plot(x_bis, x_bis + 0, linestyle='solid', color='red')\n",
        "\n",
        "ax.set_xlim([8, 20])\n",
        "ax.set_ylim([8, 20])"
      ]
    },
    {
      "cell_type": "markdown",
      "metadata": {
        "id": "u3J4gIrwL5FI"
      },
      "source": [
        "### Cenário B"
      ]
    },
    {
      "cell_type": "markdown",
      "source": [
        "#### U1"
      ],
      "metadata": {
        "id": "lhWJ9pmWjzSX"
      }
    },
    {
      "cell_type": "code",
      "source": [
        "xg_reg_B_U1 = xgb.XGBRegressor(colsample_bytree = 1.0, learning_rate = 0.3, max_depth = 5, alpha = 5, n_estimators = 100, random_state = 0, min_split_loss = 0)"
      ],
      "metadata": {
        "id": "zeiRHDqvdZxc"
      },
      "execution_count": null,
      "outputs": []
    },
    {
      "cell_type": "code",
      "source": [
        "xg_reg_B_U1.fit(X_trainB_N1, y_final_log_reduzido.ravel())\n",
        "\n",
        "preds_xgboost = xg_reg_B_U1.predict(X_testeEB_N1)"
      ],
      "metadata": {
        "id": "tme3PXZojuhh"
      },
      "execution_count": null,
      "outputs": []
    },
    {
      "cell_type": "code",
      "source": [
        "scores_log_xg_B = cross_val_score(xg_reg_B_U1, X_trainB_N1, y_final_log_reduzido.ravel(), scoring='r2', cv=cv)"
      ],
      "metadata": {
        "id": "RC4PZptAkY2U"
      },
      "execution_count": null,
      "outputs": []
    },
    {
      "cell_type": "code",
      "source": [
        "print('Coeficiente de Determinação Médio (R2) para os 10 folds (XGBRegressor): %.4f (dp: %.3f)' % (mean(scores_log_xg_B), std(scores_log_xg_B)))"
      ],
      "metadata": {
        "id": "-ZG2uWNKkiPj"
      },
      "execution_count": null,
      "outputs": []
    },
    {
      "cell_type": "code",
      "source": [
        "Y_hat_train_xgreg = xg_reg_B_U1.predict(X_trainB_N1)\n",
        "\n",
        "rmse_train = np.sqrt(mean_squared_error(y_final_log_reduzido,Y_hat_train_xgreg))\n",
        "RSQ_train = r2_score(y_final_log_reduzido,Y_hat_train_xgreg)\n",
        "MBE_train = np.mean(y_final_log_reduzido - Y_hat_train_xgreg)\n",
        "MAE_train = np.mean(abs(y_final_log_reduzido - Y_hat_train_xgreg))\n",
        "STD_train = np.std(y_final_log_reduzido - Y_hat_train_xgreg)\n",
        "# ################################################################\n",
        "# ################################################################\n",
        "print(\"############ Avaliação do Modelo no Conjunto de Treinamento ############\")\n",
        "print(\"RMSE: %0.3f\" % rmse_train)\n",
        "print(\"R2: %0.3f\" % RSQ_train)\n",
        "print(\"MBE: %0.3f\" % MBE_train)\n",
        "print(\"MAE: %0.3f\" % MAE_train)\n",
        "print(\"STD: %0.3f\" % STD_train)\n",
        "print(\"########################################\")\n",
        "print(\" \")\n",
        "# #----------------------------------------------------------------------------------------------------------\n",
        "# # AVALIAÇÃO DO MODELO\n",
        "# #----------------------------------------------------------------------------------------------------------\n",
        "Y_hat_test_xgreg = xg_reg_B_U1.predict(X_testeEB_N1)\n",
        "\n",
        "rmse_test = np.sqrt(mean_squared_error(y_final_log_EB,Y_hat_test_xgreg))\n",
        "RSQ_test = r2_score(y_final_log_EB,Y_hat_test_xgreg)\n",
        "MBE_test = np.mean(y_final_log_EB - Y_hat_test_xgreg)\n",
        "MAE_test = np.mean(abs(y_final_log_EB - Y_hat_test_xgreg))\n",
        "STD_test = np.std(y_final_log_EB - Y_hat_test_xgreg)\n",
        "# ################################################################\n",
        "# ################################################################\n",
        "print(\"############ Avaliação do Modelo no Conjunto de Teste ############\")\n",
        "print(\"RMSE: %0.3f\" % rmse_test)\n",
        "print(\"R2: %0.3f\" % RSQ_test)\n",
        "print(\"MBE: %0.3f\" % MBE_test)\n",
        "print(\"MAE: %0.3f\" % MAE_test)\n",
        "print(\"STD: %0.3f\" % STD_test)\n",
        "print(\"########################################\")\n",
        "print(\" \")"
      ],
      "metadata": {
        "id": "QCGfXBHEkou9"
      },
      "execution_count": null,
      "outputs": []
    },
    {
      "cell_type": "code",
      "source": [
        "residuos_U1_B = y_final_log_EB - Y_hat_test_xgreg"
      ],
      "metadata": {
        "id": "8NQEXibbA0KR"
      },
      "execution_count": null,
      "outputs": []
    },
    {
      "cell_type": "code",
      "source": [
        "ecdf = ECDF(residuos_U1_B.ravel())\n",
        "ecdf_neg_U1_B = ecdf(0)\n",
        "ecdf_neg_U1_B"
      ],
      "metadata": {
        "id": "cx_-3D_gA7Re"
      },
      "execution_count": null,
      "outputs": []
    },
    {
      "cell_type": "code",
      "source": [
        "# Intervalo de Confiança U1 (XGBRegressor) - Cenário B\n",
        "\n",
        "dif_relativa_sup = math.exp(rmse_test * (1 - ecdf_neg_U1_B) + t_student_bicaudal_90 * STD_test / (len(y_final_log_EB)**(0.5)))\n",
        "dif_relativa_inf = math.exp(- rmse_test * ecdf_neg_U1_B - t_student_bicaudal_90 * STD_test / (len(y_final_log_EB)**(0.5)))\n",
        "\n",
        "print(\"Semiamplitude Superior do IC 90 U1 (Cenário B): %0.4f\" % (dif_relativa_sup - 1))\n",
        "print(\"Semiamplitude Inferior do IC 90 U1 (Cenário B): %0.4f\" % (dif_relativa_inf - 1))"
      ],
      "metadata": {
        "id": "osWKbnU0oGZB"
      },
      "execution_count": null,
      "outputs": []
    },
    {
      "cell_type": "markdown",
      "source": [
        "#### U2"
      ],
      "metadata": {
        "id": "EVrYv4pqnwcx"
      }
    },
    {
      "cell_type": "code",
      "source": [
        "xg_reg_B_U2 = xgb.XGBRegressor(colsample_bytree = 1.0, learning_rate = 0.3, max_depth = 5, alpha = 5, n_estimators = 100, random_state = 0, min_split_loss = 0)"
      ],
      "metadata": {
        "id": "N3LQ6dNNJGwK"
      },
      "execution_count": null,
      "outputs": []
    },
    {
      "cell_type": "code",
      "source": [
        "xg_reg_B_U2.fit(X_trainB_N2, y_final_log_reduzido.ravel())\n",
        "\n",
        "preds_xgboost = xg_reg_B_U2.predict(X_testeEB_N2)"
      ],
      "metadata": {
        "id": "KOEZAjPGnzgZ"
      },
      "execution_count": null,
      "outputs": []
    },
    {
      "cell_type": "code",
      "source": [
        "scores_log_xg_B = cross_val_score(xg_reg_B_U2, X_trainB_N2, y_final_log_reduzido.ravel(), scoring='r2', cv=cv)"
      ],
      "metadata": {
        "id": "rsLpZwNWobqr"
      },
      "execution_count": null,
      "outputs": []
    },
    {
      "cell_type": "code",
      "source": [
        "print('Coeficiente de Determinação Médio (R2) para os 10 folds (XGBRegressor): %.4f (dp: %.3f)' % (mean(scores_log_xg_B), std(scores_log_xg_B)))"
      ],
      "metadata": {
        "id": "73zjLaEBogpT"
      },
      "execution_count": null,
      "outputs": []
    },
    {
      "cell_type": "code",
      "source": [
        "Y_hat_train_xgreg = xg_reg_B_U2.predict(X_trainB_N2)\n",
        "\n",
        "rmse_train = np.sqrt(mean_squared_error(y_final_log_reduzido,Y_hat_train_xgreg))\n",
        "RSQ_train = r2_score(y_final_log_reduzido,Y_hat_train_xgreg)\n",
        "MBE_train = np.mean(y_final_log_reduzido - Y_hat_train_xgreg)\n",
        "MAE_train = np.mean(abs(y_final_log_reduzido - Y_hat_train_xgreg))\n",
        "STD_train = np.std(y_final_log_reduzido - Y_hat_train_xgreg)\n",
        "# ################################################################\n",
        "# ################################################################\n",
        "print(\"############ Avaliação do Modelo no Conjunto de Treinamento ############\")\n",
        "print(\"RMSE: %0.3f\" % rmse_train)\n",
        "print(\"R2: %0.3f\" % RSQ_train)\n",
        "print(\"MBE: %0.3f\" % MBE_train)\n",
        "print(\"MAE: %0.3f\" % MAE_train)\n",
        "print(\"STD: %0.3f\" % STD_train)\n",
        "print(\"########################################\")\n",
        "print(\" \")\n",
        "# #----------------------------------------------------------------------------------------------------------\n",
        "# # AVALIAÇÃO DO MODELO\n",
        "# #----------------------------------------------------------------------------------------------------------\n",
        "Y_hat_test_xgreg = xg_reg_B_U2.predict(X_testeEB_N2)\n",
        "\n",
        "rmse_test = np.sqrt(mean_squared_error(y_final_log_EB,Y_hat_test_xgreg))\n",
        "RSQ_test = r2_score(y_final_log_EB,Y_hat_test_xgreg)\n",
        "MBE_test = np.mean(y_final_log_EB - Y_hat_test_xgreg)\n",
        "MAE_test = np.mean(abs(y_final_log_EB - Y_hat_test_xgreg))\n",
        "STD_test = np.std(y_final_log_EB - Y_hat_test_xgreg)\n",
        "# ################################################################\n",
        "# ################################################################\n",
        "print(\"############ Avaliação do Modelo no Conjunto de Teste ############\")\n",
        "print(\"RMSE: %0.3f\" % rmse_test)\n",
        "print(\"R2: %0.3f\" % RSQ_test)\n",
        "print(\"MBE: %0.3f\" % MBE_test)\n",
        "print(\"MAE: %0.3f\" % MAE_test)\n",
        "print(\"STD: %0.3f\" % STD_test)\n",
        "print(\"########################################\")\n",
        "print(\" \")"
      ],
      "metadata": {
        "id": "0E77aVMfoi_t"
      },
      "execution_count": null,
      "outputs": []
    },
    {
      "cell_type": "code",
      "source": [
        "residuos_U2_B = y_final_log_EB - Y_hat_test_xgreg"
      ],
      "metadata": {
        "id": "x3nTGRqFBPUn"
      },
      "execution_count": null,
      "outputs": []
    },
    {
      "cell_type": "code",
      "source": [
        "ecdf = ECDF(residuos_U2_B.ravel())\n",
        "ecdf_neg_U2_B = ecdf(0)\n",
        "ecdf_neg_U2_B"
      ],
      "metadata": {
        "id": "10aEIZImBPoM"
      },
      "execution_count": null,
      "outputs": []
    },
    {
      "cell_type": "code",
      "source": [
        "# Intervalo de Confiança U2 (XGBRegressor) - Cenário B\n",
        "\n",
        "dif_relativa_sup = math.exp(rmse_test * (1 - ecdf_neg_U2_B) + t_student_bicaudal_90 * STD_test / (len(y_final_log_EB)**(0.5)))\n",
        "dif_relativa_inf = math.exp(- rmse_test * ecdf_neg_U2_B - t_student_bicaudal_90 * STD_test / (len(y_final_log_EB)**(0.5)))\n",
        "\n",
        "print(\"Semiamplitude Superior do IC 90 U2 (Cenário B): %0.4f\" % (dif_relativa_sup - 1))\n",
        "print(\"Semiamplitude Inferior do IC 90 U2 (Cenário B): %0.4f\" % (dif_relativa_inf - 1))"
      ],
      "metadata": {
        "id": "Escj3aljoxQy"
      },
      "execution_count": null,
      "outputs": []
    },
    {
      "cell_type": "markdown",
      "source": [
        "#### U3"
      ],
      "metadata": {
        "id": "B245V4B4o843"
      }
    },
    {
      "cell_type": "code",
      "source": [
        "xg_reg_B_U3 = xgb.XGBRegressor(colsample_bytree = 1.0, learning_rate = 0.3, max_depth = 5, alpha = 5, n_estimators = 100, random_state = 0, min_split_loss = 0)"
      ],
      "metadata": {
        "id": "jqXLbtmAJsXt"
      },
      "execution_count": null,
      "outputs": []
    },
    {
      "cell_type": "code",
      "source": [
        "xg_reg_B_U3.fit(X_trainB_N3, y_final_log_reduzido.ravel())\n",
        "\n",
        "preds_xgboost = xg_reg_B_U3.predict(X_testeEB_N3)"
      ],
      "metadata": {
        "id": "Fm8cSOybpqbW"
      },
      "execution_count": null,
      "outputs": []
    },
    {
      "cell_type": "code",
      "source": [
        "scores_log_xg_B = cross_val_score(xg_reg_B_U3, X_trainB_N3, y_final_log_reduzido.ravel(), scoring='r2', cv=cv)"
      ],
      "metadata": {
        "id": "8kRmNv2Kp6IZ"
      },
      "execution_count": null,
      "outputs": []
    },
    {
      "cell_type": "code",
      "source": [
        "print('Coeficiente de Determinação Médio (R2) para os 10 folds (XGBRegressor): %.4f (dp: %.3f)' % (mean(scores_log_xg_B), std(scores_log_xg_B)))"
      ],
      "metadata": {
        "id": "IslEZIqmrlUM"
      },
      "execution_count": null,
      "outputs": []
    },
    {
      "cell_type": "code",
      "source": [
        "Y_hat_train_xgreg = xg_reg_B_U3.predict(X_trainB_N3)\n",
        "\n",
        "rmse_train = np.sqrt(mean_squared_error(y_final_log_reduzido,Y_hat_train_xgreg))\n",
        "RSQ_train = r2_score(y_final_log_reduzido,Y_hat_train_xgreg)\n",
        "MBE_train = np.mean(y_final_log_reduzido - Y_hat_train_xgreg)\n",
        "MAE_train = np.mean(abs(y_final_log_reduzido - Y_hat_train_xgreg))\n",
        "STD_train = np.std(y_final_log_reduzido - Y_hat_train_xgreg)\n",
        "# ################################################################\n",
        "# ################################################################\n",
        "print(\"############ Avaliação do Modelo no Conjunto de Treinamento ############\")\n",
        "print(\"RMSE: %0.3f\" % rmse_train)\n",
        "print(\"R2: %0.3f\" % RSQ_train)\n",
        "print(\"MBE: %0.3f\" % MBE_train)\n",
        "print(\"MAE: %0.3f\" % MAE_train)\n",
        "print(\"STD: %0.3f\" % STD_train)\n",
        "print(\"########################################\")\n",
        "print(\" \")\n",
        "# #----------------------------------------------------------------------------------------------------------\n",
        "# # AVALIAÇÃO DO MODELO\n",
        "# #----------------------------------------------------------------------------------------------------------\n",
        "Y_hat_test_xgreg = xg_reg_B_U3.predict(X_testeEB_N3)\n",
        "\n",
        "rmse_test = np.sqrt(mean_squared_error(y_final_log_EB,Y_hat_test_xgreg))\n",
        "RSQ_test = r2_score(y_final_log_EB,Y_hat_test_xgreg)\n",
        "MBE_test = np.mean(y_final_log_EB - Y_hat_test_xgreg)\n",
        "MAE_test = np.mean(abs(y_final_log_EB - Y_hat_test_xgreg))\n",
        "STD_test = np.std(y_final_log_EB - Y_hat_test_xgreg)\n",
        "# ################################################################\n",
        "# ################################################################\n",
        "print(\"############ Avaliação do Modelo no Conjunto de Teste ############\")\n",
        "print(\"RMSE: %0.3f\" % rmse_test)\n",
        "print(\"R2: %0.3f\" % RSQ_test)\n",
        "print(\"MBE: %0.3f\" % MBE_test)\n",
        "print(\"MAE: %0.3f\" % MAE_test)\n",
        "print(\"STD: %0.3f\" % STD_test)\n",
        "print(\"########################################\")\n",
        "print(\" \")"
      ],
      "metadata": {
        "id": "DxfOpkjSrot3"
      },
      "execution_count": null,
      "outputs": []
    },
    {
      "cell_type": "code",
      "source": [
        "residuos_U3_B = y_final_log_EB - Y_hat_test_xgreg"
      ],
      "metadata": {
        "id": "nwR7lBnbCZXM"
      },
      "execution_count": null,
      "outputs": []
    },
    {
      "cell_type": "code",
      "source": [
        "ecdf = ECDF(residuos_U3_B.ravel())\n",
        "ecdf_neg_U3_B = ecdf(0)\n",
        "ecdf_neg_U3_B"
      ],
      "metadata": {
        "id": "zGJ7lcN5Ccns"
      },
      "execution_count": null,
      "outputs": []
    },
    {
      "cell_type": "code",
      "source": [
        "# Intervalo de Confiança U3 (XGBRegressor) - Cenário B\n",
        "\n",
        "dif_relativa_sup = math.exp(rmse_test * (1 - ecdf_neg_U3_B) + t_student_bicaudal_90 * STD_test / (len(y_final_log_EB)**(0.5)))\n",
        "dif_relativa_inf = math.exp(- rmse_test * ecdf_neg_U3_B - t_student_bicaudal_90 * STD_test / (len(y_final_log_EB)**(0.5)))\n",
        "\n",
        "print(\"Semiamplitude Superior do IC 90 U3 (Cenário B): %0.4f\" % (dif_relativa_sup - 1))\n",
        "print(\"Semiamplitude Inferior do IC 90 U3 (Cenário B): %0.4f\" % (dif_relativa_inf - 1))"
      ],
      "metadata": {
        "id": "TYQfst6LruxF"
      },
      "execution_count": null,
      "outputs": []
    },
    {
      "cell_type": "markdown",
      "metadata": {
        "id": "f98U7aImmVzA"
      },
      "source": [
        "## Interpretabilidade dos Modelos *XGBRegressor* (não lineares)"
      ]
    },
    {
      "cell_type": "markdown",
      "source": [
        "### Cenário A"
      ],
      "metadata": {
        "id": "uBKZbaFuSQwV"
      }
    },
    {
      "cell_type": "markdown",
      "source": [
        "#### U1"
      ],
      "metadata": {
        "id": "MCU0n7vkG8RF"
      }
    },
    {
      "cell_type": "code",
      "source": [
        "X_test_log_N1.columns"
      ],
      "metadata": {
        "id": "s1FSJpWhHTRh"
      },
      "execution_count": null,
      "outputs": []
    },
    {
      "cell_type": "code",
      "source": [
        "# Valores Shapley - SHAP (SHapley Additive exPlanations) - U1 (Cenário A)\n",
        "\n",
        "explainer = shap.TreeExplainer(xg_reg_A_U1)\n",
        "shap_values = explainer.shap_values(X_test_log_N1)\n",
        "shap.summary_plot(shap_values, features=X_test_log_N1, feature_names=['Capital UF', 'IDHM', 'Terreno', 'CUB * Área Construída', 'Ln(Área do Terreno)',\n",
        "       'Vocação Comercial', 'Vocação Institucional', 'Vocação Misto',\n",
        "       'Vocação Residencial'],color=None,plot_size=(14.0,8.0),title=' Valores de Shapley Modelo XGBRegressor U1 (Cenário A)')"
      ],
      "metadata": {
        "id": "JvSU1LiaHTFJ"
      },
      "execution_count": null,
      "outputs": []
    },
    {
      "cell_type": "markdown",
      "source": [
        "#### U2"
      ],
      "metadata": {
        "id": "YVrG5yA4G9ut"
      }
    },
    {
      "cell_type": "code",
      "source": [
        "X_test_log_N2.columns"
      ],
      "metadata": {
        "id": "W2hlljqsHW2g"
      },
      "execution_count": null,
      "outputs": []
    },
    {
      "cell_type": "code",
      "source": [
        "# Valores Shapley - SHAP (SHapley Additive exPlanations) - U2 (Cenário A)\n",
        "\n",
        "explainer = shap.TreeExplainer(xg_reg_A_U2)\n",
        "shap_values = explainer.shap_values(X_test_log_N2)\n",
        "shap.summary_plot(shap_values, features=X_test_log_N2, feature_names=['Capital UF', 'IDHM', 'Terreno', 'Idade Aparente', 'CUB * Área Construída', 'Ln(Área do Terreno)',\n",
        "       'Vocação Comercial', 'Vocação Institucional', 'Vocação Misto',\n",
        "       'Vocação Residencial'],color=None,plot_size=(14.0,8.0),title=' Valores de Shapley Modelo XGBRegressor U2 (Cenário A)')"
      ],
      "metadata": {
        "id": "WW0AgLRDHWua"
      },
      "execution_count": null,
      "outputs": []
    },
    {
      "cell_type": "markdown",
      "source": [
        "#### U3"
      ],
      "metadata": {
        "id": "WqgKyMarFJX6"
      }
    },
    {
      "cell_type": "code",
      "execution_count": null,
      "metadata": {
        "id": "8_eUvr1E8Ozd"
      },
      "outputs": [],
      "source": [
        "X_test_log_N3.columns"
      ]
    },
    {
      "cell_type": "code",
      "execution_count": null,
      "metadata": {
        "id": "n3XFWmvyWb8a"
      },
      "outputs": [],
      "source": [
        "# Valores Shapley - SHAP (SHapley Additive exPlanations) - U3 (Cenário A)\n",
        "\n",
        "explainer = shap.TreeExplainer(xg_reg_A_U3)\n",
        "shap_values = explainer.shap_values(X_test_log_N3)\n",
        "shap.summary_plot(shap_values, features=X_test_log_N3, feature_names=['Capital UF', 'IDHM', 'Terreno', 'Idade Aparente',\n",
        "       'Renda Domiciliar AP (IBGE)', 'Qtd Equipamentos (API Google)',\n",
        "       'Qtd Shopping Centers (API Google)', 'Qtd Estabelecimentos (API Google)', 'CUB * Área Construída', 'Ln(Área do Terreno)',\n",
        "       'Vocação Comercial', 'Vocação Institucional', 'Vocação Misto',\n",
        "       'Vocação Residencial'],color=None,plot_size=(14.0,8.0),title=' Valores de Shapley Modelo XGBRegressor U3 (Cenário A)')"
      ]
    },
    {
      "cell_type": "markdown",
      "source": [
        "### Cenário B"
      ],
      "metadata": {
        "id": "GVvYnlztsIni"
      }
    },
    {
      "cell_type": "markdown",
      "source": [
        "#### U1"
      ],
      "metadata": {
        "id": "CPBobekDG5PW"
      }
    },
    {
      "cell_type": "code",
      "source": [
        "X_testeEB_N1.columns"
      ],
      "metadata": {
        "id": "_DsqxOLdHEtz"
      },
      "execution_count": null,
      "outputs": []
    },
    {
      "cell_type": "code",
      "source": [
        "# Valores Shapley - SHAP (SHapley Additive exPlanations) - U1 (Cenário B)\n",
        "\n",
        "explainer = shap.TreeExplainer(xg_reg_B_U1)\n",
        "shap_values = explainer.shap_values(X_testeEB_N1)\n",
        "shap.summary_plot(shap_values, features=X_testeEB_N1, feature_names=['Capital UF', 'IDHM', 'Terreno', 'CUB * Área Construída', 'Ln(Área do Terreno)',\n",
        "       'Vocação Comercial', 'Vocação Institucional', 'Vocação Misto',\n",
        "       'Vocação Residencial'],color=None,plot_size=(14.0,8.0),title=' Valores de Shapley Modelo XGBRegressor U1 (Cenário B)')"
      ],
      "metadata": {
        "id": "1jjF14TFHIlt"
      },
      "execution_count": null,
      "outputs": []
    },
    {
      "cell_type": "markdown",
      "source": [
        "#### U2"
      ],
      "metadata": {
        "id": "o2h5GCP1G3oF"
      }
    },
    {
      "cell_type": "code",
      "source": [
        "X_testeEB_N2.columns"
      ],
      "metadata": {
        "id": "RddDKCrVHLLG"
      },
      "execution_count": null,
      "outputs": []
    },
    {
      "cell_type": "code",
      "source": [
        "# Valores Shapley - SHAP (SHapley Additive exPlanations) - U2 (Cenário B)\n",
        "\n",
        "explainer = shap.TreeExplainer(xg_reg_B_U2)\n",
        "shap_values = explainer.shap_values(X_testeEB_N2)\n",
        "shap.summary_plot(shap_values, features=X_testeEB_N2, feature_names=['Capital UF', 'IDHM', 'Terreno', 'Idade Aparente', 'CUB * Área Construída', 'Ln(Área do Terreno)',\n",
        "       'Vocação Comercial', 'Vocação Institucional', 'Vocação Misto',\n",
        "       'Vocação Residencial'],color=None,plot_size=(14.0,8.0),title=' Valores de Shapley Modelo XGBRegressor U2 (Cenário B)')"
      ],
      "metadata": {
        "id": "SQSZB_zkHSN6"
      },
      "execution_count": null,
      "outputs": []
    },
    {
      "cell_type": "markdown",
      "source": [
        "#### U3"
      ],
      "metadata": {
        "id": "28SB3nMUFLI5"
      }
    },
    {
      "cell_type": "code",
      "source": [
        "X_testeEB_N3.columns"
      ],
      "metadata": {
        "id": "n9vE843usIKB"
      },
      "execution_count": null,
      "outputs": []
    },
    {
      "cell_type": "code",
      "source": [
        "# Valores Shapley - SHAP (SHapley Additive exPlanations) - U3 (Cenário B)\n",
        "\n",
        "explainer = shap.TreeExplainer(xg_reg_B_U3)\n",
        "shap_values = explainer.shap_values(X_testeEB_N3)\n",
        "shap.summary_plot(shap_values, features=X_testeEB_N3, feature_names=['Capital UF', 'IDHM', 'Terreno', 'Idade Aparente',\n",
        "       'Renda Domiciliar AP (IBGE)', 'Qtd Equipamentos (API Google)',\n",
        "       'Qtd Shopping Centers (API Google)', 'Qtd Estabelecimentos (API Google)', 'CUB * Área Construída', 'Ln(Área do Terreno)',\n",
        "       'Vocação Comercial', 'Vocação Institucional', 'Vocação Misto',\n",
        "       'Vocação Residencial'],color=None,plot_size=(14.0,8.0),title=' Valores de Shapley Modelo XGBRegressor U3 (Cenário B)')"
      ],
      "metadata": {
        "id": "cMoR1wOjsfgM"
      },
      "execution_count": null,
      "outputs": []
    }
  ],
  "metadata": {
    "colab": {
      "collapsed_sections": [
        "2afgTF0BEdbH",
        "mRzuDBKTjpMX",
        "Cm_vM4US_5Ah",
        "hoLbYOBBJnNn",
        "p1SY8he_lKGl",
        "2Knfww-8pVaC",
        "IgbO_uumozqI",
        "1haowUvmdFGx",
        "jgw2cytNpB4b",
        "zEik7obIo8Qk",
        "dWlqjal4nVq0",
        "EX8xfU_io1we",
        "D-pcueFJ3hsC",
        "PNvfif_H6lll",
        "wKB9awakEDWn",
        "7sF0Vr9OdSwQ",
        "D6VNHZVHJnOQ",
        "DZKyBNh0xhvz",
        "Fs5zd6n5li5h",
        "jRXXwFIrGE6_",
        "C8obqin3hRZA",
        "ikXFhPH-sCBG",
        "RIddAXxVtTm5",
        "sZ9jfEfaoY_f",
        "NnyBc5ozsMU3",
        "6_akqVf20JRQ",
        "HklFnzlzQfgH",
        "XXWtajrSV7td",
        "soklK9F3dvYG",
        "LFaK0QQoggXk",
        "0_vqUru2vnQZ",
        "oOABa2d-9mRc",
        "p-5C7UXUHOfL",
        "dPufZ4cvCQ2m",
        "8-bTgxZ9Cfuz",
        "w-BIkbTK3EZT",
        "cwRSzph84LYX"
      ],
      "provenance": [],
      "toc_visible": true
    },
    "kernelspec": {
      "display_name": "Python 3",
      "language": "python",
      "name": "python3"
    },
    "language_info": {
      "codemirror_mode": {
        "name": "ipython",
        "version": 3
      },
      "file_extension": ".py",
      "mimetype": "text/x-python",
      "name": "python",
      "nbconvert_exporter": "python",
      "pygments_lexer": "ipython3",
      "version": "3.7.7"
    }
  },
  "nbformat": 4,
  "nbformat_minor": 0
}