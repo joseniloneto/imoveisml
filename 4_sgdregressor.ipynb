{
  "cells": [
    {
      "cell_type": "markdown",
      "metadata": {
        "id": "bf0vtLyrJnMS"
      },
      "source": [
        "# Modelo Linear (*SGDRegressor*)"
      ]
    },
    {
      "cell_type": "markdown",
      "metadata": {
        "id": "Np1mCFdMGgMa"
      },
      "source": [
        "## Instalação de Pacotes Necessários"
      ]
    },
    {
      "cell_type": "code",
      "execution_count": null,
      "metadata": {
        "id": "J90uWu-vJnMb"
      },
      "outputs": [],
      "source": [
        "%time\n",
        "import os\n",
        "import numpy as np\n",
        "from numpy import mean\n",
        "from numpy import std\n",
        "import seaborn as sns\n",
        "import statsmodels.api as sm\n",
        "\n",
        "!pip install --upgrade pandas\n",
        "import pandas as pd\n",
        "from pandas import read_csv\n",
        "\n",
        "import matplotlib.pyplot as plt\n",
        "%matplotlib inline\n",
        "\n",
        "import math as math\n",
        "\n",
        "from sklearn.preprocessing import MinMaxScaler\n",
        "from sklearn.model_selection import train_test_split\n",
        "from sklearn.linear_model import SGDRegressor\n",
        "from sklearn.metrics import r2_score\n",
        "from sklearn.metrics import mean_squared_error, r2_score, make_scorer\n",
        "from sklearn.model_selection import KFold\n",
        "from sklearn.model_selection import cross_val_score, cross_val_predict\n",
        "from sklearn.model_selection import GridSearchCV\n",
        "from sklearn.model_selection import StratifiedKFold\n",
        "from sklearn.svm import SVR\n",
        "from sklearn.model_selection import RepeatedKFold\n",
        "\n",
        "!pip install --upgrade scipy\n",
        "import scipy as scipy\n",
        "from scipy import stats\n",
        "from scipy.stats import t\n",
        "\n",
        "!pip install --upgrade shap\n",
        "import shap as shap\n",
        "shap.initjs()"
      ]
    },
    {
      "cell_type": "markdown",
      "metadata": {
        "id": "9oEFjCaNc9VE"
      },
      "source": [
        "## Importação de Dados Geolocalizados"
      ]
    },
    {
      "cell_type": "code",
      "execution_count": null,
      "metadata": {
        "id": "kAv-3akyEufC"
      },
      "outputs": [],
      "source": [
        "!pip install --upgrade gspread"
      ]
    },
    {
      "cell_type": "code",
      "execution_count": null,
      "metadata": {
        "id": "QPO_dfUQFU_8"
      },
      "outputs": [],
      "source": [
        "# autorização de acesso ao Google Drive \n",
        "\n",
        "from google.colab import auth\n",
        "auth.authenticate_user()\n",
        "\n",
        "import gspread\n",
        "from google.auth import default\n",
        "creds, _ = default()\n",
        "\n",
        "gc = gspread.authorize(creds)"
      ]
    },
    {
      "cell_type": "code",
      "execution_count": null,
      "metadata": {
        "id": "AwB3jIZcmSBZ"
      },
      "outputs": [],
      "source": [
        "planilha = gc.open('nome_basededados')\n",
        "pagina = planilha.sheet1\n",
        "pagina.row_values(1)"
      ]
    },
    {
      "cell_type": "code",
      "execution_count": null,
      "metadata": {
        "id": "6n0evdndoFYj"
      },
      "outputs": [],
      "source": [
        "df_Uniao = pd.DataFrame(pagina.get_all_records())"
      ]
    },
    {
      "cell_type": "code",
      "execution_count": null,
      "metadata": {
        "id": "GDCpi-CPHUD6"
      },
      "outputs": [],
      "source": [
        "df_Uniao.head(5)"
      ]
    },
    {
      "cell_type": "code",
      "execution_count": null,
      "metadata": {
        "id": "NKW1gNFQ1CzV"
      },
      "outputs": [],
      "source": [
        "df_Uniao.columns"
      ]
    },
    {
      "cell_type": "code",
      "execution_count": null,
      "metadata": {
        "id": "DFERU6z-JLvC"
      },
      "outputs": [],
      "source": [
        "df_Uniao.shape"
      ]
    },
    {
      "cell_type": "code",
      "execution_count": null,
      "metadata": {
        "id": "q_-YGhovKTsV"
      },
      "outputs": [],
      "source": [
        "df_Uniao.isna().sum()"
      ]
    },
    {
      "cell_type": "code",
      "execution_count": null,
      "metadata": {
        "id": "HypwoORUKcQS"
      },
      "outputs": [],
      "source": [
        "df_Uniao = df_Uniao.dropna()"
      ]
    },
    {
      "cell_type": "code",
      "execution_count": null,
      "metadata": {
        "id": "4E-w3Q4-KfvS"
      },
      "outputs": [],
      "source": [
        "df_Uniao = df_Uniao.reset_index(drop=True)"
      ]
    },
    {
      "cell_type": "code",
      "execution_count": null,
      "metadata": {
        "id": "U5PCANzqKnKt"
      },
      "outputs": [],
      "source": [
        "df_Uniao.dtypes"
      ]
    },
    {
      "cell_type": "code",
      "execution_count": null,
      "metadata": {
        "id": "9lRstVwFKqa1"
      },
      "outputs": [],
      "source": [
        "df_Uniao = df_Uniao.astype({\"% Superior Completo\": float})\n",
        "df_Uniao = df_Uniao.astype({\"% Rede Geral de Distribuicao de Agua\": float})\n",
        "df_Uniao = df_Uniao.astype({\"% Microcomputador com Acesso a Internet\": float})\n",
        "df_Uniao = df_Uniao.astype({\"Rendimento Domiciliar Medio\": float})\n",
        "\n",
        "df_Uniao.dtypes"
      ]
    },
    {
      "cell_type": "code",
      "execution_count": null,
      "metadata": {
        "id": "oupT_O0OK0kK"
      },
      "outputs": [],
      "source": [
        "df_Uniao.describe()"
      ]
    },
    {
      "cell_type": "code",
      "execution_count": null,
      "metadata": {
        "id": "VP7pYRtUb9ba"
      },
      "outputs": [],
      "source": [
        "df_Uniao[df_Uniao[\"Fonte\"]  == \"ME\"].count()"
      ]
    },
    {
      "cell_type": "code",
      "execution_count": null,
      "metadata": {
        "id": "9Zocl9SVUB_M"
      },
      "outputs": [],
      "source": [
        "df_Uniao[df_Uniao[\"Fonte\"]  == \"EB\"].count()"
      ]
    },
    {
      "cell_type": "code",
      "execution_count": null,
      "metadata": {
        "id": "j-3dwqKLbthj"
      },
      "outputs": [],
      "source": [
        "# remoção dos pontos influenciantes (Distância de Cook)\n",
        "\n",
        "df_Uniao.drop([2730,4341,4581], axis=0, inplace=True)"
      ]
    },
    {
      "cell_type": "markdown",
      "metadata": {
        "id": "lQ_fdqLFlB2M"
      },
      "source": [
        "# Abordagem 2 \n",
        "\n",
        "Transformação da área do terreno (área projetada horizontal do imóvel) e do valor total atualizado com logaritmo neperiano (sem remoção de *outliers*), logaritmo neperiano do valor total atualizado como variável dependente."
      ]
    },
    {
      "cell_type": "markdown",
      "source": [
        "## Preparação dos Conjuntos de Treinamento e de Teste"
      ],
      "metadata": {
        "id": "1b3FPdNcOYNk"
      }
    },
    {
      "cell_type": "markdown",
      "metadata": {
        "id": "BWlBV_vyyFSW"
      },
      "source": [
        "### Cenário A"
      ]
    },
    {
      "cell_type": "code",
      "execution_count": null,
      "metadata": {
        "id": "7wtbNeJpLebB"
      },
      "outputs": [],
      "source": [
        "df_Uniao.columns"
      ]
    },
    {
      "cell_type": "code",
      "execution_count": null,
      "metadata": {
        "id": "My3QoK-k4lZr"
      },
      "outputs": [],
      "source": [
        "df_Uniao.describe()"
      ]
    },
    {
      "cell_type": "code",
      "execution_count": null,
      "metadata": {
        "id": "yAHbd1WASDqY"
      },
      "outputs": [],
      "source": [
        "df_Uniao['CUB*AreaConstruida'] = df_Uniao['CUBJan22'] * df_Uniao['AreaConstruidaTratada']"
      ]
    },
    {
      "cell_type": "code",
      "execution_count": null,
      "metadata": {
        "id": "ieXSPFKe4yQy"
      },
      "outputs": [],
      "source": [
        "df_Uniao.columns"
      ]
    },
    {
      "cell_type": "code",
      "execution_count": null,
      "metadata": {
        "id": "iWtTzh7q5ZFJ"
      },
      "outputs": [],
      "source": [
        "# U1\n",
        "\n",
        "col_list = df_Uniao.columns.tolist()\n",
        "\n",
        "listaaremover = ['Fonte', 'Id', 'Município', 'UF', 'TipologiaMunicipalIBGE', 'IVS_2010', 'TaxaHomicidios_2019',\n",
        "       'TipoImovel', 'CUBJan22', 'VidaUtil', 'AreaConstruidaTratada',\n",
        "       'AreaProjetadaTratada', 'IndiceFipeZapAvaliacao', 'IndiceFipeZapJan22',\n",
        "       'ValorTotalAtualizado', 'ValorUnitarioAtualizado', 'CodigoAP', 'NomeAP',\n",
        "       '% Superior Completo', '% Rede Geral de Distribuicao de Agua',\n",
        "       '% Microcomputador com Acesso a Internet', 'xcoord', 'ycoord', 'LatLong',\n",
        "       'qtd_equipamento', 'qtd_hospital',\n",
        "       'qtd_parque', 'qtd_delegacia', 'qtd_escola',\n",
        "       'qtd_universidade', 'qtd_atracaoturistica', 'qtd_supermercado',\n",
        "       'qtd_restaurante', 'qtd_padaria', 'qtd_cafeteria', 'qtd_loja', 'qtd_parada_onibus', 'qtd_estacao_vlt',\n",
        "       'qtd_estacao_metro', 'qtd_estacao_trem', 'qtd_aeroporto',\n",
        "       'acessibilidade', 'GoogleTrends2022', 'GrauUrbanizacaoIBGE', 'Rendimento Domiciliar Medio', 'qtd_shopping', 'qtd_estabelecimento', 'IdadeAparente']\n",
        "\n",
        "for e in listaaremover:\n",
        "  col_list.remove(e)\n",
        "\n",
        "X_final_log_N1 = df_Uniao[col_list]\n",
        "\n",
        "y_final_log_N1 = np.log(df_Uniao['ValorTotalAtualizado'])\n",
        "\n",
        "y_final_log_N1 = y_final_log_N1[:,np.newaxis]"
      ]
    },
    {
      "cell_type": "code",
      "execution_count": null,
      "metadata": {
        "id": "Nvt1vf3mEsSA"
      },
      "outputs": [],
      "source": [
        "# U2\n",
        "\n",
        "col_list = df_Uniao.columns.tolist()\n",
        "\n",
        "listaaremover = ['Fonte', 'Id', 'Município', 'UF', 'TipologiaMunicipalIBGE', 'IVS_2010', 'TaxaHomicidios_2019',\n",
        "       'TipoImovel', 'CUBJan22', 'VidaUtil', 'AreaConstruidaTratada',\n",
        "       'AreaProjetadaTratada', 'IndiceFipeZapAvaliacao', 'IndiceFipeZapJan22',\n",
        "       'ValorTotalAtualizado', 'ValorUnitarioAtualizado', 'CodigoAP', 'NomeAP',\n",
        "       '% Superior Completo', '% Rede Geral de Distribuicao de Agua',\n",
        "       '% Microcomputador com Acesso a Internet', 'xcoord', 'ycoord', 'LatLong',\n",
        "       'qtd_equipamento', 'qtd_hospital',\n",
        "       'qtd_parque', 'qtd_delegacia', 'qtd_escola',\n",
        "       'qtd_universidade', 'qtd_atracaoturistica', 'qtd_supermercado',\n",
        "       'qtd_restaurante', 'qtd_padaria', 'qtd_cafeteria', 'qtd_loja', 'qtd_parada_onibus', 'qtd_estacao_vlt',\n",
        "       'qtd_estacao_metro', 'qtd_estacao_trem', 'qtd_aeroporto',\n",
        "       'acessibilidade', 'GoogleTrends2022', 'GrauUrbanizacaoIBGE', 'Rendimento Domiciliar Medio', 'qtd_shopping', 'qtd_estabelecimento']\n",
        "\n",
        "for e in listaaremover:\n",
        "  col_list.remove(e)\n",
        "\n",
        "X_final_log_N2 = df_Uniao[col_list]\n",
        "\n",
        "y_final_log_N2 = np.log(df_Uniao['ValorTotalAtualizado'])\n",
        "\n",
        "y_final_log_N2 = y_final_log_N2[:,np.newaxis]"
      ]
    },
    {
      "cell_type": "code",
      "execution_count": null,
      "metadata": {
        "id": "CjWogmpNshye"
      },
      "outputs": [],
      "source": [
        "# U3\n",
        "\n",
        "col_list = df_Uniao.columns.tolist()\n",
        "\n",
        "listaaremover = ['Fonte', 'Id', 'Município', 'UF', 'TipologiaMunicipalIBGE', 'IVS_2010', 'TaxaHomicidios_2019',\n",
        "       'TipoImovel', 'CUBJan22', 'VidaUtil', 'AreaConstruidaTratada',\n",
        "       'AreaProjetadaTratada', 'IndiceFipeZapAvaliacao', 'IndiceFipeZapJan22',\n",
        "       'ValorTotalAtualizado', 'ValorUnitarioAtualizado', 'CodigoAP', 'NomeAP',\n",
        "       '% Superior Completo', '% Rede Geral de Distribuicao de Agua',\n",
        "       '% Microcomputador com Acesso a Internet', 'xcoord', 'ycoord', 'LatLong', 'qtd_hospital',\n",
        "       'qtd_parque', 'qtd_delegacia', 'qtd_escola',\n",
        "       'qtd_universidade', 'qtd_atracaoturistica', 'qtd_supermercado',\n",
        "       'qtd_restaurante', 'qtd_padaria', 'qtd_cafeteria', 'qtd_loja', 'qtd_parada_onibus', 'qtd_estacao_vlt',\n",
        "       'qtd_estacao_metro', 'qtd_estacao_trem', 'qtd_aeroporto',\n",
        "       'acessibilidade', 'GoogleTrends2022', 'GrauUrbanizacaoIBGE']\n",
        "\n",
        "for e in listaaremover:\n",
        "  col_list.remove(e)\n",
        "\n",
        "X_final_log_N3 = df_Uniao[col_list]\n",
        "\n",
        "y_final_log_N3 = np.log(df_Uniao['ValorTotalAtualizado'])\n",
        "\n",
        "y_final_log_N3 = y_final_log_N3[:,np.newaxis]"
      ]
    },
    {
      "cell_type": "code",
      "execution_count": null,
      "metadata": {
        "id": "leydCKtPxBix"
      },
      "outputs": [],
      "source": [
        "X_final_log_N3.dtypes"
      ]
    },
    {
      "cell_type": "code",
      "execution_count": null,
      "metadata": {
        "id": "3vfXmcXgoM-5"
      },
      "outputs": [],
      "source": [
        "# Teste de Shapiro-Wilk \n",
        "\n",
        "col_list = df_Uniao.columns.tolist()\n",
        "\n",
        "listaaremover_testesnormalidade = ['Fonte', 'Id', 'Município', 'UF', 'TipologiaMunicipalIBGE', 'IVS_2010', 'TaxaHomicidios_2019',\n",
        "       'TipoImovel', 'CUBJan22', 'VidaUtil', 'AreaConstruidaTratada',\n",
        "       'AreaProjetadaTratada', 'IndiceFipeZapAvaliacao', 'IndiceFipeZapJan22',\n",
        "       'ValorTotalAtualizado', 'ValorUnitarioAtualizado', 'CodigoAP', 'NomeAP',\n",
        "       '% Superior Completo', '% Rede Geral de Distribuicao de Agua',\n",
        "       '% Microcomputador com Acesso a Internet', 'xcoord', 'ycoord', 'LatLong', 'qtd_hospital',\n",
        "       'qtd_parque', 'qtd_delegacia', 'qtd_escola',\n",
        "       'qtd_universidade', 'qtd_atracaoturistica', 'qtd_supermercado',\n",
        "       'qtd_restaurante', 'qtd_padaria', 'qtd_cafeteria', 'qtd_loja', 'qtd_parada_onibus', 'qtd_estacao_vlt',\n",
        "       'qtd_estacao_metro', 'qtd_estacao_trem', 'qtd_aeroporto',\n",
        "       'acessibilidade', 'GoogleTrends2022', 'GrauUrbanizacaoIBGE', 'Vocacao']\n",
        "\n",
        "for e in listaaremover_testesnormalidade:\n",
        "  col_list.remove(e)\n",
        "\n",
        "X_testesnormalidade = df_Uniao[col_list]\n",
        "\n",
        "logArea_normalidade = np.log(df_Uniao.loc[:,'AreaProjetadaTratada'])\n",
        "\n",
        "X_testesnormalidade['logArea'] = logArea_normalidade\n",
        "\n",
        "for variavel in X_testesnormalidade.columns:\n",
        "  shapiro_test = stats.shapiro(X_testesnormalidade[variavel])\n",
        "  print(variavel)\n",
        "  print(shapiro_test)"
      ]
    },
    {
      "cell_type": "code",
      "execution_count": null,
      "metadata": {
        "id": "gmQqYYnwpS67"
      },
      "outputs": [],
      "source": [
        "# Teste de Jarque-Bera\n",
        "\n",
        "for variavel in X_testesnormalidade.columns:\n",
        "  jarque_bera_test = stats.jarque_bera(X_testesnormalidade[variavel])\n",
        "  print(variavel)\n",
        "  print(jarque_bera_test)"
      ]
    },
    {
      "cell_type": "markdown",
      "metadata": {
        "id": "UO1xjpyveqGF"
      },
      "source": [
        "Há evidências de que as variáveis têm assimetria e curtose significativamente\n",
        "diferentes de uma distribuição normal. Portanto, não se aplicará a transformação StandardScaler()."
      ]
    },
    {
      "cell_type": "code",
      "execution_count": null,
      "metadata": {
        "id": "Ii4qaTyUnGwo"
      },
      "outputs": [],
      "source": [
        "logArea = np.log(df_Uniao.loc[:,'AreaProjetadaTratada'])\n",
        "\n",
        "X_final_log_N1.loc[:,'logArea'] = logArea\n",
        "X_final_log_N2.loc[:,'logArea'] = logArea\n",
        "X_final_log_N3.loc[:,'logArea'] = logArea"
      ]
    },
    {
      "cell_type": "code",
      "execution_count": null,
      "metadata": {
        "id": "kSE5afWd7afb"
      },
      "outputs": [],
      "source": [
        "X_train_log_N1, X_test_log_N1, y_train_log_N1, y_test_log_N1 = train_test_split(X_final_log_N1, y_final_log_N1, test_size=0.33, shuffle=True, random_state=7, stratify=X_final_log_N1['Vocacao'])"
      ]
    },
    {
      "cell_type": "code",
      "execution_count": null,
      "metadata": {
        "id": "JQL47epEFDmC"
      },
      "outputs": [],
      "source": [
        "X_train_log_N2, X_test_log_N2, y_train_log_N2, y_test_log_N2 = train_test_split(X_final_log_N2, y_final_log_N2, test_size=0.33, shuffle=True, random_state=7, stratify=X_final_log_N2['Vocacao'])"
      ]
    },
    {
      "cell_type": "code",
      "execution_count": null,
      "metadata": {
        "id": "U-IDs59vtJEa"
      },
      "outputs": [],
      "source": [
        "X_train_log_N3, X_test_log_N3, y_train_log_N3, y_test_log_N3 = train_test_split(X_final_log_N3, y_final_log_N3, test_size=0.33, shuffle=True, random_state=7, stratify=X_final_log_N3['Vocacao'])"
      ]
    },
    {
      "cell_type": "code",
      "execution_count": null,
      "metadata": {
        "id": "JG8fjhPywpI7"
      },
      "outputs": [],
      "source": [
        "# gráfico de frequências (histograma)\n",
        "\n",
        "plt.figure(figsize=(12,10))\n",
        "sns.histplot(data=y_train_log_N3, kde = False, legend = False, color = 'go')\n",
        "\n",
        "ax = plt.subplot(1,1,1)\n",
        "\n",
        "plt.rcParams.update({'font.size': 10})\n",
        "\n",
        "ax.set_title('Histograma dos Conjuntos de Treinamento e de Validação para a Variável Explicada (Ln Valor Total Atualizado)')\n",
        "plt.rcParams.update({'font.size': 10})\n",
        "ax.set_ylabel('Número de Ocorrências')\n",
        "ax.set_xlabel('Ln Valor Total Atualizado')"
      ]
    },
    {
      "cell_type": "code",
      "execution_count": null,
      "metadata": {
        "id": "3haVdGjLw3Fc"
      },
      "outputs": [],
      "source": [
        "# gráfico de frequências (histograma)\n",
        "\n",
        "plt.figure(figsize=(12,10))\n",
        "sns.histplot(data=y_test_log_N3, kde = False, legend = False, color=\"green\")\n",
        "\n",
        "ax = plt.subplot(1,1,1)\n",
        "\n",
        "plt.rcParams.update({'font.size': 10})\n",
        "\n",
        "ax.set_title('Histograma do Conjunto de Teste para a Variável Explicada (Ln Valor Total Atualizado)')\n",
        "plt.rcParams.update({'font.size': 10})\n",
        "ax.set_ylabel('Número de Ocorrências')\n",
        "ax.set_xlabel('Ln Valor Total Atualizado')"
      ]
    },
    {
      "cell_type": "code",
      "execution_count": null,
      "metadata": {
        "id": "sFcFfzeauIY8"
      },
      "outputs": [],
      "source": [
        "X_train_log_N1 = pd.get_dummies(X_train_log_N1, columns = ['Vocacao'])\n",
        "X_test_log_N1 = pd.get_dummies(X_test_log_N1, columns = ['Vocacao'])"
      ]
    },
    {
      "cell_type": "code",
      "execution_count": null,
      "metadata": {
        "id": "Wvw7nIUNFcLm"
      },
      "outputs": [],
      "source": [
        "X_train_log_N2 = pd.get_dummies(X_train_log_N2, columns = ['Vocacao'])\n",
        "X_test_log_N2 = pd.get_dummies(X_test_log_N2, columns = ['Vocacao'])"
      ]
    },
    {
      "cell_type": "code",
      "execution_count": null,
      "metadata": {
        "id": "CbGcjeTB8FXc"
      },
      "outputs": [],
      "source": [
        "X_train_log_N3 = pd.get_dummies(X_train_log_N3, columns = ['Vocacao'])\n",
        "X_test_log_N3 = pd.get_dummies(X_test_log_N3, columns = ['Vocacao'])"
      ]
    },
    {
      "cell_type": "code",
      "execution_count": null,
      "metadata": {
        "id": "r5CZKc4BAAP9"
      },
      "outputs": [],
      "source": [
        "X_train_log_N1.columns"
      ]
    },
    {
      "cell_type": "code",
      "execution_count": null,
      "metadata": {
        "id": "H_9jRv7WFiN1"
      },
      "outputs": [],
      "source": [
        "X_train_log_N2.columns"
      ]
    },
    {
      "cell_type": "code",
      "execution_count": null,
      "metadata": {
        "id": "Iszf__1PBC72"
      },
      "outputs": [],
      "source": [
        "X_train_log_N3.columns"
      ]
    },
    {
      "cell_type": "code",
      "execution_count": null,
      "metadata": {
        "id": "IMzX9NXP_91W"
      },
      "outputs": [],
      "source": [
        "# U1\n",
        "\n",
        "mms_N1_A = MinMaxScaler()\n",
        "\n",
        "X_train_log_N1[['CapitalUF', 'IDHM_2010', 'Terreno', 'CUB*AreaConstruida',\n",
        "       'Vocacao_Comercial', 'Vocacao_Institucional', 'Vocacao_Misto',\n",
        "       'Vocacao_Residencial']] = mms_N1_A.fit_transform(X_train_log_N1[['CapitalUF', 'IDHM_2010', 'Terreno', 'CUB*AreaConstruida',\n",
        "       'Vocacao_Comercial', 'Vocacao_Institucional', 'Vocacao_Misto',\n",
        "       'Vocacao_Residencial']])\n",
        "\n",
        "X_test_log_N1[['CapitalUF', 'IDHM_2010', 'Terreno', 'CUB*AreaConstruida',\n",
        "       'Vocacao_Comercial', 'Vocacao_Institucional', 'Vocacao_Misto',\n",
        "       'Vocacao_Residencial']] = mms_N1_A.transform(X_test_log_N1[['CapitalUF', 'IDHM_2010', 'Terreno', 'CUB*AreaConstruida',\n",
        "       'Vocacao_Comercial', 'Vocacao_Institucional', 'Vocacao_Misto',\n",
        "       'Vocacao_Residencial']])"
      ]
    },
    {
      "cell_type": "code",
      "execution_count": null,
      "metadata": {
        "id": "-M0XADP8Fg6d"
      },
      "outputs": [],
      "source": [
        "# U2\n",
        "\n",
        "mms_N2_A = MinMaxScaler()\n",
        "\n",
        "X_train_log_N2[['CapitalUF', 'IDHM_2010', 'Terreno', 'IdadeAparente',\n",
        "       'CUB*AreaConstruida', 'Vocacao_Comercial',\n",
        "       'Vocacao_Institucional', 'Vocacao_Misto', 'Vocacao_Residencial']] = mms_N2_A.fit_transform(X_train_log_N2[['CapitalUF', 'IDHM_2010', 'Terreno', 'IdadeAparente',\n",
        "       'CUB*AreaConstruida', 'Vocacao_Comercial',\n",
        "       'Vocacao_Institucional', 'Vocacao_Misto', 'Vocacao_Residencial']])\n",
        "\n",
        "X_test_log_N2[['CapitalUF', 'IDHM_2010', 'Terreno', 'IdadeAparente',\n",
        "       'CUB*AreaConstruida', 'Vocacao_Comercial',\n",
        "       'Vocacao_Institucional', 'Vocacao_Misto', 'Vocacao_Residencial']] = mms_N2_A.transform(X_test_log_N2[['CapitalUF', 'IDHM_2010', 'Terreno', 'IdadeAparente',\n",
        "       'CUB*AreaConstruida', 'Vocacao_Comercial',\n",
        "       'Vocacao_Institucional', 'Vocacao_Misto', 'Vocacao_Residencial']])"
      ]
    },
    {
      "cell_type": "code",
      "execution_count": null,
      "metadata": {
        "id": "KC_8OyDQT8mg"
      },
      "outputs": [],
      "source": [
        "# U3\n",
        "\n",
        "mms_N3_A = MinMaxScaler()\n",
        "\n",
        "X_train_log_N3[['CapitalUF', 'IDHM_2010', 'Terreno', 'IdadeAparente',\n",
        "       'Rendimento Domiciliar Medio', 'qtd_equipamento',\n",
        "       'qtd_shopping', 'qtd_estabelecimento', 'CUB*AreaConstruida', 'Vocacao_Comercial', 'Vocacao_Institucional',\n",
        "       'Vocacao_Misto', 'Vocacao_Residencial']] = mms_N3_A.fit_transform(X_train_log_N3[['CapitalUF', 'IDHM_2010', 'Terreno', 'IdadeAparente',\n",
        "       'Rendimento Domiciliar Medio', 'qtd_equipamento',\n",
        "       'qtd_shopping', 'qtd_estabelecimento', 'CUB*AreaConstruida', 'Vocacao_Comercial', 'Vocacao_Institucional',\n",
        "       'Vocacao_Misto', 'Vocacao_Residencial']])\n",
        "\n",
        "X_test_log_N3[['CapitalUF', 'IDHM_2010', 'Terreno', 'IdadeAparente',\n",
        "       'Rendimento Domiciliar Medio', 'qtd_equipamento_semshopping',\n",
        "       'qtd_shopping', 'qtd_estabelecimento', 'CUB*AreaConstruida', 'Vocacao_Comercial', 'Vocacao_Institucional',\n",
        "       'Vocacao_Misto', 'Vocacao_Residencial']] = mms_N3_A.transform(X_test_log_N3[['CapitalUF', 'IDHM_2010', 'Terreno', 'IdadeAparente',\n",
        "       'Rendimento Domiciliar Medio', 'qtd_equipamento_semshopping',\n",
        "       'qtd_shopping', 'qtd_estabelecimento', 'CUB*AreaConstruida', 'Vocacao_Comercial', 'Vocacao_Institucional',\n",
        "       'Vocacao_Misto', 'Vocacao_Residencial']])"
      ]
    },
    {
      "cell_type": "markdown",
      "source": [
        "### Cenário B"
      ],
      "metadata": {
        "id": "bEDI_sUBQ-8w"
      }
    },
    {
      "cell_type": "code",
      "source": [
        "df_EB = df_Uniao[df_Uniao.Fonte == \"EB\"].sample(130,random_state=0)"
      ],
      "metadata": {
        "id": "kFwCDz97RBsS"
      },
      "execution_count": null,
      "outputs": []
    },
    {
      "cell_type": "code",
      "source": [
        "df_EB.head()"
      ],
      "metadata": {
        "id": "HarWp0YeRQBr"
      },
      "execution_count": null,
      "outputs": []
    },
    {
      "cell_type": "code",
      "source": [
        "df_EB.describe()"
      ],
      "metadata": {
        "id": "DCM-PNZqRSS7"
      },
      "execution_count": null,
      "outputs": []
    },
    {
      "cell_type": "code",
      "source": [
        "df_Uniao_reduzido = df_Uniao.drop(df_EB.index)"
      ],
      "metadata": {
        "id": "fuA7E4G9RUAB"
      },
      "execution_count": null,
      "outputs": []
    },
    {
      "cell_type": "code",
      "source": [
        "df_Uniao_reduzido.head()"
      ],
      "metadata": {
        "id": "YvzNcg9kRV1y"
      },
      "execution_count": null,
      "outputs": []
    },
    {
      "cell_type": "code",
      "source": [
        "df_Uniao_reduzido.describe()"
      ],
      "metadata": {
        "id": "oFyHiOWxRYJq"
      },
      "execution_count": null,
      "outputs": []
    },
    {
      "cell_type": "code",
      "source": [
        "df_Uniao_reduzido.isna().sum()"
      ],
      "metadata": {
        "id": "zbPon_EaRaBh"
      },
      "execution_count": null,
      "outputs": []
    },
    {
      "cell_type": "code",
      "source": [
        "# U1, U2 e U3 (Cenário B)\n",
        "\n",
        "col_list = df_Uniao.columns.tolist()\n",
        "\n",
        "listaaremover = ['Fonte', 'Id', 'Município', 'UF', 'TipologiaMunicipalIBGE', 'IVS_2010', 'TaxaHomicidios_2019',\n",
        "       'TipoImovel', 'CUBJan22', 'VidaUtil', 'AreaConstruidaTratada',\n",
        "       'AreaProjetadaTratada', 'IndiceFipeZapAvaliacao', 'IndiceFipeZapJan22',\n",
        "       'ValorTotalAtualizado', 'ValorUnitarioAtualizado', 'CodigoAP', 'NomeAP',\n",
        "       '% Superior Completo', '% Rede Geral de Distribuicao de Agua',\n",
        "       '% Microcomputador com Acesso a Internet', 'xcoord', 'ycoord', 'LatLong', 'qtd_hospital',\n",
        "       'qtd_parque', 'qtd_delegacia', 'qtd_escola',\n",
        "       'qtd_universidade', 'qtd_atracaoturistica', 'qtd_supermercado',\n",
        "       'qtd_restaurante', 'qtd_padaria', 'qtd_cafeteria', 'qtd_loja', 'qtd_parada_onibus', 'qtd_estacao_vlt',\n",
        "       'qtd_estacao_metro', 'qtd_estacao_trem', 'qtd_aeroporto',\n",
        "       'acessibilidade', 'GoogleTrends2022', 'GrauUrbanizacaoIBGE']\n",
        "\n",
        "for e in listaaremover:\n",
        "  col_list.remove(e)\n",
        "\n",
        "X_final_log_reduzido = df_Uniao_reduzido[col_list]\n",
        "X_final_log_EB = df_EB[col_list]\n",
        "\n",
        "y_final_log_reduzido = np.log(df_Uniao_reduzido['ValorTotalAtualizado'])\n",
        "y_final_log_EB = np.log(df_EB['ValorTotalAtualizado'])\n",
        "\n",
        "y_final_log_reduzido = y_final_log_reduzido[:,np.newaxis]\n",
        "y_final_log_EB = y_final_log_EB[:,np.newaxis]"
      ],
      "metadata": {
        "id": "1tdr7i57Rb0y"
      },
      "execution_count": null,
      "outputs": []
    },
    {
      "cell_type": "code",
      "source": [
        "logArea_reduzido = np.log(df_Uniao_reduzido.loc[:,'AreaProjetadaTratada'])\n",
        "logArea_EB = np.log(df_EB.loc[:,'AreaProjetadaTratada'])\n",
        "\n",
        "X_final_log_reduzido['logArea'] = logArea_reduzido\n",
        "X_final_log_EB['logArea'] = logArea_EB"
      ],
      "metadata": {
        "id": "z_zmSQ5IRfK5"
      },
      "execution_count": null,
      "outputs": []
    },
    {
      "cell_type": "code",
      "source": [
        "X_final_log_reduzido = pd.get_dummies(X_final_log_reduzido, columns = ['Vocacao'])\n",
        "X_final_log_EB = pd.get_dummies(X_final_log_EB, columns = ['Vocacao'])"
      ],
      "metadata": {
        "id": "Pn9YOZMJRhI5"
      },
      "execution_count": null,
      "outputs": []
    },
    {
      "cell_type": "code",
      "source": [
        "X_final_log_reduzido.columns"
      ],
      "metadata": {
        "id": "fmijvpuQRihd"
      },
      "execution_count": null,
      "outputs": []
    },
    {
      "cell_type": "code",
      "source": [
        "X_final_log_EB.columns"
      ],
      "metadata": {
        "id": "2gHodtEnRkIj"
      },
      "execution_count": null,
      "outputs": []
    },
    {
      "cell_type": "code",
      "source": [
        "# Transformação de Variáveis\n",
        "\n",
        "mms_B = MinMaxScaler()\n",
        "\n",
        "X_final_log_reduzido[['CapitalUF', 'IDHM_2010', 'Terreno', 'IdadeAparente',\n",
        "       'Rendimento Domiciliar Medio', 'qtd_equipamento',\n",
        "       'qtd_shopping', 'qtd_estabelecimento', 'CUB*AreaConstruida',\n",
        "       'Vocacao_Comercial', 'Vocacao_Institucional', 'Vocacao_Misto',\n",
        "       'Vocacao_Residencial']] = mms_B.fit_transform(X_final_log_reduzido[['CapitalUF', 'IDHM_2010', 'Terreno', 'IdadeAparente',\n",
        "       'Rendimento Domiciliar Medio', 'qtd_equipamento',\n",
        "       'qtd_shopping', 'qtd_estabelecimento', 'CUB*AreaConstruida',\n",
        "       'Vocacao_Comercial', 'Vocacao_Institucional', 'Vocacao_Misto',\n",
        "       'Vocacao_Residencial']])\n",
        "\n",
        "X_final_log_EB[['CapitalUF', 'IDHM_2010', 'Terreno', 'IdadeAparente',\n",
        "       'Rendimento Domiciliar Medio', 'qtd_equipamento',\n",
        "       'qtd_shopping', 'qtd_estabelecimento', 'CUB*AreaConstruida',\n",
        "       'Vocacao_Comercial', 'Vocacao_Institucional', 'Vocacao_Misto',\n",
        "       'Vocacao_Residencial']] = mms_B.transform(X_final_log_EB[['CapitalUF', 'IDHM_2010', 'Terreno', 'IdadeAparente',\n",
        "       'Rendimento Domiciliar Medio', 'qtd_equipamento',\n",
        "       'qtd_shopping', 'qtd_estabelecimento', 'CUB*AreaConstruida',\n",
        "       'Vocacao_Comercial', 'Vocacao_Institucional', 'Vocacao_Misto',\n",
        "       'Vocacao_Residencial']])"
      ],
      "metadata": {
        "id": "b9WAeUzeRl3P"
      },
      "execution_count": null,
      "outputs": []
    },
    {
      "cell_type": "code",
      "source": [
        "X_final_log_reduzido.columns"
      ],
      "metadata": {
        "id": "80HEZGcKRo8P"
      },
      "execution_count": null,
      "outputs": []
    },
    {
      "cell_type": "code",
      "source": [
        "X_trainB_N1 = X_final_log_reduzido[['CapitalUF', 'IDHM_2010', 'Terreno', \n",
        "      'CUB*AreaConstruida', 'logArea',\n",
        "      'Vocacao_Comercial', 'Vocacao_Institucional', 'Vocacao_Misto',\n",
        "      'Vocacao_Residencial']]\n",
        "\n",
        "X_trainB_N2 = X_final_log_reduzido[['CapitalUF', 'IDHM_2010', 'Terreno', 'IdadeAparente', \n",
        "      'CUB*AreaConstruida', 'logArea',\n",
        "      'Vocacao_Comercial', 'Vocacao_Institucional', 'Vocacao_Misto',\n",
        "      'Vocacao_Residencial']]\n",
        "\n",
        "X_trainB_N3 = X_final_log_reduzido[['CapitalUF', 'IDHM_2010', 'Terreno', 'IdadeAparente',\n",
        "       'Rendimento Domiciliar Medio', 'qtd_equipamento',\n",
        "       'qtd_shopping', 'qtd_estabelecimento', 'CUB*AreaConstruida', 'logArea',\n",
        "       'Vocacao_Comercial', 'Vocacao_Institucional', 'Vocacao_Misto',\n",
        "       'Vocacao_Residencial']]"
      ],
      "metadata": {
        "id": "0q7cUDDfRql3"
      },
      "execution_count": null,
      "outputs": []
    },
    {
      "cell_type": "code",
      "source": [
        "X_testeEB_N1 = X_final_log_EB[['CapitalUF', 'IDHM_2010', 'Terreno', \n",
        "      'CUB*AreaConstruida', 'logArea',\n",
        "      'Vocacao_Comercial', 'Vocacao_Institucional', 'Vocacao_Misto',\n",
        "      'Vocacao_Residencial']]\n",
        "\n",
        "X_testeEB_N2 = X_final_log_EB[['CapitalUF', 'IDHM_2010', 'Terreno', 'IdadeAparente', \n",
        "      'CUB*AreaConstruida', 'logArea',\n",
        "      'Vocacao_Comercial', 'Vocacao_Institucional', 'Vocacao_Misto',\n",
        "      'Vocacao_Residencial']]\n",
        "\n",
        "X_testeEB_N3 = X_final_log_EB[['CapitalUF', 'IDHM_2010', 'Terreno', 'IdadeAparenteCategorica',\n",
        "       'Rendimento Domiciliar Medio', 'qtd_equipamento',\n",
        "       'qtd_shopping', 'qtd_estabelecimento', 'CUB*AreaConstruida', 'logArea',\n",
        "       'Vocacao_Comercial', 'Vocacao_Institucional', 'Vocacao_Misto',\n",
        "       'Vocacao_Residencial']]"
      ],
      "metadata": {
        "id": "RUKXVm8VRsq-"
      },
      "execution_count": null,
      "outputs": []
    },
    {
      "cell_type": "code",
      "source": [
        "X_final_log_reduzido.isna().sum()"
      ],
      "metadata": {
        "id": "DeyW6odJRvXl"
      },
      "execution_count": null,
      "outputs": []
    },
    {
      "cell_type": "markdown",
      "metadata": {
        "id": "E8wmmGnigHfp"
      },
      "source": [
        "## Modelagem Linear (*SGDRegressor*)"
      ]
    },
    {
      "cell_type": "markdown",
      "source": [
        "### Definições Gerais"
      ],
      "metadata": {
        "id": "ez3M5FphR_4Y"
      }
    },
    {
      "cell_type": "code",
      "source": [
        "# Validação Cruzada (testes de 2 a 15 folds)\n",
        "\n",
        "cv = KFold(n_splits=10, random_state=0, shuffle=True)"
      ],
      "metadata": {
        "id": "XcHDGg_gSDUk"
      },
      "execution_count": null,
      "outputs": []
    },
    {
      "cell_type": "code",
      "source": [
        "# t de Student para cálculo do IC\n",
        "\n",
        "t_student_bicaudal_90 = 1.645"
      ],
      "metadata": {
        "id": "DEBdCZvgSD1G"
      },
      "execution_count": null,
      "outputs": []
    },
    {
      "cell_type": "markdown",
      "source": [
        "### Cenário A"
      ],
      "metadata": {
        "id": "7Q0m_lIENG4O"
      }
    },
    {
      "cell_type": "code",
      "execution_count": null,
      "metadata": {
        "id": "4hadl3TCgzsA"
      },
      "outputs": [],
      "source": [
        "grid = {\n",
        "    'alpha': [0.1,0.01,0.001,0.0001],\n",
        "    'random_state': [0,1,12,123,1234,12345]\n",
        "}\n",
        "\n",
        "sgdregressor_cv = GridSearchCV(estimator=SGDRegressor(), param_grid=grid, cv= 10, scoring='r2')\n",
        "sgdregressor_cv.fit(X_train_log_N3, y_train_log_N3.ravel())\n",
        "\n",
        "sgdregressor_cv.best_params_"
      ]
    },
    {
      "cell_type": "markdown",
      "metadata": {
        "id": "eWMCiMq1qUCf"
      },
      "source": [
        "melhores parâmetros com base em U3: {'alpha': 0.0001, 'random_state': 123}"
      ]
    },
    {
      "cell_type": "markdown",
      "source": [
        "#### U1"
      ],
      "metadata": {
        "id": "oW-MxJ_kT0cn"
      }
    },
    {
      "cell_type": "code",
      "execution_count": null,
      "metadata": {
        "id": "M5cZ8M3JEaDj"
      },
      "outputs": [],
      "source": [
        "nn_log_A_N1 = SGDRegressor(alpha=0.0001, learning_rate='constant', eta0=0.01,\n",
        "             max_iter=1000, random_state=123, verbose=False, early_stopping=False, validation_fraction=0.2, penalty='l2')\n",
        "\n",
        "nn_log_A_N1.fit(X_train_log_N1, y_train_log_N1.ravel())\n",
        "\n",
        "nn_log_A_N1.predict(X_test_log_N1)\n",
        "\n",
        "# avaliação do modelo utilizando validação cruzada\n",
        "scores_log = cross_val_score(estimator=nn_log_A_N1, X=X_train_log_N1, y=y_train_log_N1.ravel(), scoring='r2', cv=cv)\n",
        "\n",
        "print('Coeficiente de Determinacao Medio (R2) para os 10 folds: %.4f (dp: %.4f)' % (mean(scores_log), std(scores_log)))"
      ]
    },
    {
      "cell_type": "code",
      "execution_count": null,
      "metadata": {
        "id": "1jfkqNg-mhdL"
      },
      "outputs": [],
      "source": [
        "# U1\n",
        "\n",
        "Y_hat_train_sgd = nn_log_A_N1.predict(X_train_log_N1)\n",
        "\n",
        "rmse_train = np.sqrt(mean_squared_error(y_train_log_N1,Y_hat_train_sgd))\n",
        "RSQ_train = r2_score(y_train_log_N1,Y_hat_train_sgd)\n",
        "MBE_train = np.mean(y_train_log_N1 - Y_hat_train_sgd)\n",
        "MAE_train = np.mean(abs(y_train_log_N1 - Y_hat_train_sgd))\n",
        "STD_train = np.std(y_train_log_N1 - Y_hat_train_sgd)\n",
        "# ################################################################\n",
        "# ################################################################\n",
        "print(\"############ Avaliação do Modelo no Conjunto de Treinamento ############\")\n",
        "print(\"RMSE: %0.4f\" % rmse_train)\n",
        "print(\"R2: %0.4f\" % RSQ_train)\n",
        "print(\"MBE: %0.4f\" % MBE_train)\n",
        "print(\"MAE: %0.4f\" % MAE_train)\n",
        "print(\"STD: %0.4f\" % STD_train)\n",
        "print(\"########################################\")\n",
        "print(\" \")\n",
        "# #----------------------------------------------------------------------------------------------------------\n",
        "# # AVALIAÇÃO DO MODELO\n",
        "# #----------------------------------------------------------------------------------------------------------\n",
        "Y_hat_test_sgd = nn_log_A_N1.predict(X_test_log_N1)\n",
        "\n",
        "rmse_test = np.sqrt(mean_squared_error(y_test_log_N1,Y_hat_test_sgd))\n",
        "RSQ_test = r2_score(y_test_log_N1,Y_hat_test_sgd)\n",
        "MBE_test = np.mean(y_test_log_N1 - Y_hat_test_sgd)\n",
        "MAE_test = np.mean(abs(y_test_log_N1 - Y_hat_test_sgd))\n",
        "STD_test = np.std(y_test_log_N1 - Y_hat_test_sgd)\n",
        "# ################################################################\n",
        "# ################################################################\n",
        "print(\"############ Avaliação do Modelo no Conjunto de Teste ############\")\n",
        "print(\"RMSE: %0.4f\" % rmse_test)\n",
        "print(\"R2: %0.4f\" % RSQ_test)\n",
        "print(\"MBE: %0.4f\" % MBE_test)\n",
        "print(\"MAE: %0.4f\" % MAE_test)\n",
        "print(\"STD: %0.4f\" % STD_test)\n",
        "print(\"########################################\")\n",
        "print(\" \")"
      ]
    },
    {
      "cell_type": "code",
      "source": [
        "residuos_U1_A = y_test_log_N1 - Y_hat_test_sgd"
      ],
      "metadata": {
        "id": "lwWQ3El7DKiW"
      },
      "execution_count": null,
      "outputs": []
    },
    {
      "cell_type": "code",
      "source": [
        "ecdf = ECDF(residuos_U1_A.ravel())\n",
        "ecdf_neg_U1_A = ecdf(0)\n",
        "ecdf_neg_U1_A"
      ],
      "metadata": {
        "id": "IVFeD9lWDQS4"
      },
      "execution_count": null,
      "outputs": []
    },
    {
      "cell_type": "code",
      "execution_count": null,
      "metadata": {
        "id": "Wi3TtjKSwXk_"
      },
      "outputs": [],
      "source": [
        "# Intervalo de Confiança U1 (SGDRegressor) - Cenário A\n",
        "\n",
        "dif_relativa_sup = math.exp(rmse_test * (1 - ecdf_neg_U1_A) + t_student_bicaudal_90 * STD_test / (len(y_test_log_N1)**(0.5)))\n",
        "dif_relativa_inf = math.exp(- rmse_test * ecdf_neg_U1_A - t_student_bicaudal_90 * STD_test / (len(y_test_log_N1)**(0.5)))\n",
        "\n",
        "print(\"Semiamplitude Superior do IC 90 U1 (Cenário A): %0.4f\" % (dif_relativa_sup - 1))\n",
        "print(\"Semiamplitude Inferior do IC 90 U1 (Cenário A): %0.4f\" % (dif_relativa_inf - 1))"
      ]
    },
    {
      "cell_type": "markdown",
      "source": [
        "#### U2"
      ],
      "metadata": {
        "id": "rXi92U1FDkUp"
      }
    },
    {
      "cell_type": "code",
      "execution_count": null,
      "metadata": {
        "id": "CKWG4-dVF_sN"
      },
      "outputs": [],
      "source": [
        "nn_log_A_N2 = SGDRegressor(alpha=0.0001, learning_rate='constant', eta0=0.01,\n",
        "             max_iter=1000, random_state=123, verbose=False, early_stopping=False, validation_fraction=0.2, penalty='l2')\n",
        "\n",
        "nn_log_A_N2.fit(X_train_log_N2, y_train_log_N2.ravel())\n",
        "\n",
        "nn_log_A_N2.predict(X_test_log_N2)\n",
        "\n",
        "# avaliação do modelo utilizando validação cruzada\n",
        "scores_log = cross_val_score(estimator=nn_log_A_N2, X=X_train_log_N2, y=y_train_log_N2.ravel(), scoring='r2', cv=cv)\n",
        "\n",
        "print('Coeficiente de Determinacao Medio (R2) para os 10 folds: %.4f (dp: %.4f)' % (mean(scores_log), std(scores_log)))"
      ]
    },
    {
      "cell_type": "code",
      "execution_count": null,
      "metadata": {
        "id": "iK11nWO4nwiA"
      },
      "outputs": [],
      "source": [
        "# U2\n",
        "\n",
        "Y_hat_train_sgd = nn_log_A_N2.predict(X_train_log_N2)\n",
        "\n",
        "rmse_train = np.sqrt(mean_squared_error(y_train_log_N2,Y_hat_train_sgd))\n",
        "RSQ_train = r2_score(y_train_log_N2,Y_hat_train_sgd)\n",
        "MBE_train = np.mean(y_train_log_N2 - Y_hat_train_sgd)\n",
        "MAE_train = np.mean(abs(y_train_log_N2 - Y_hat_train_sgd))\n",
        "STD_train = np.std(y_train_log_N2 - Y_hat_train_sgd)\n",
        "# ################################################################\n",
        "# ################################################################\n",
        "print(\"############ Avaliação do Modelo no Conjunto de Treinamento ############\")\n",
        "print(\"RMSE: %0.4f\" % rmse_train)\n",
        "print(\"R2: %0.4f\" % RSQ_train)\n",
        "print(\"MBE: %0.4f\" % MBE_train)\n",
        "print(\"MAE: %0.4f\" % MAE_train)\n",
        "print(\"STD: %0.4f\" % STD_train)\n",
        "print(\"########################################\")\n",
        "print(\" \")\n",
        "# #----------------------------------------------------------------------------------------------------------\n",
        "# # AVALIAÇÃO DO MODELO\n",
        "# #----------------------------------------------------------------------------------------------------------\n",
        "Y_hat_test_sgd = nn_log_A_N2.predict(X_test_log_N2)\n",
        "\n",
        "rmse_test = np.sqrt(mean_squared_error(y_test_log_N2,Y_hat_test_sgd))\n",
        "RSQ_test = r2_score(y_test_log_N2,Y_hat_test_sgd)\n",
        "MBE_test = np.mean(y_test_log_N2 - Y_hat_test_sgd)\n",
        "MAE_test = np.mean(abs(y_test_log_N2 - Y_hat_test_sgd))\n",
        "STD_test = np.std(y_test_log_N2 - Y_hat_test_sgd)\n",
        "# ################################################################\n",
        "# ################################################################\n",
        "print(\"############ Avaliação do Modelo no Conjunto de Teste ############\")\n",
        "print(\"RMSE: %0.4f\" % rmse_test)\n",
        "print(\"R2: %0.4f\" % RSQ_test)\n",
        "print(\"MBE: %0.4f\" % MBE_test)\n",
        "print(\"MAE: %0.4f\" % MAE_test)\n",
        "print(\"STD: %0.4f\" % STD_test)\n",
        "print(\"########################################\")\n",
        "print(\" \")"
      ]
    },
    {
      "cell_type": "code",
      "source": [
        "residuos_U2_A = y_test_log_N2 - Y_hat_test_sgd"
      ],
      "metadata": {
        "id": "uMGUq2vvGjsg"
      },
      "execution_count": null,
      "outputs": []
    },
    {
      "cell_type": "code",
      "source": [
        "ecdf = ECDF(residuos_U2_A.ravel())\n",
        "ecdf_neg_U2_A = ecdf(0)\n",
        "ecdf_neg_U2_A"
      ],
      "metadata": {
        "id": "6qGQNbh_Gmyi"
      },
      "execution_count": null,
      "outputs": []
    },
    {
      "cell_type": "code",
      "execution_count": null,
      "metadata": {
        "id": "pB9pq0kI0YuU"
      },
      "outputs": [],
      "source": [
        "# Intervalo de Confiança U2 (SGDRegressor) - Cenário A\n",
        "\n",
        "dif_relativa_sup = math.exp(rmse_test * (1 - ecdf_neg_U2_A) + t_student_bicaudal_90 * STD_test / (len(y_test_log_N2)**(0.5)))\n",
        "dif_relativa_inf = math.exp(- rmse_test * ecdf_neg_U2_A - t_student_bicaudal_90 * STD_test / (len(y_test_log_N2)**(0.5)))\n",
        "\n",
        "print(\"Semiamplitude Superior do IC 90 U2 (Cenário A): %0.4f\" % (dif_relativa_sup - 1))\n",
        "print(\"Semiamplitude Inferior do IC 90 U2 (Cenário A): %0.4f\" % (dif_relativa_inf - 1))"
      ]
    },
    {
      "cell_type": "markdown",
      "source": [
        "#### U3"
      ],
      "metadata": {
        "id": "cJWE_2LUG0ie"
      }
    },
    {
      "cell_type": "code",
      "execution_count": null,
      "metadata": {
        "id": "10ITY2shG-zc"
      },
      "outputs": [],
      "source": [
        "nn_log_A_N3 = SGDRegressor(alpha=0.0001, learning_rate='constant', eta0=0.01,\n",
        "             max_iter=1000, random_state=123, verbose=False, early_stopping=False, validation_fraction=0.2, penalty='l2')\n",
        "\n",
        "nn_log_A_N3.fit(X_train_log_N3, y_train_log_N3.ravel())\n",
        "\n",
        "nn_log_A_N3.predict(X_test_log_N3)\n",
        "\n",
        "# avaliação do modelo utilizando validação cruzada\n",
        "scores_log = cross_val_score(nn_log_A_N3, X_train_log_N3, y_train_log_N3.ravel(), scoring='r2', cv=cv)\n",
        "\n",
        "print('Coeficiente de Determinacao Medio (R2) para os 10 folds: %.4f (dp: %.4f)' % (mean(scores_log), std(scores_log)))"
      ]
    },
    {
      "cell_type": "code",
      "execution_count": null,
      "metadata": {
        "id": "SmGnwNjOLgRs"
      },
      "outputs": [],
      "source": [
        "nn_log_A_N3.coef_"
      ]
    },
    {
      "cell_type": "code",
      "execution_count": null,
      "metadata": {
        "id": "UrOVz7j8G5Xj"
      },
      "outputs": [],
      "source": [
        "nn_log_A_N3.feature_names_in_"
      ]
    },
    {
      "cell_type": "code",
      "execution_count": null,
      "metadata": {
        "id": "I2ogdxQKHTqw"
      },
      "outputs": [],
      "source": [
        "# U3\n",
        "\n",
        "Y_hat_train_sgd = nn_log_A_N3.predict(X_train_log_N3)\n",
        "\n",
        "rmse_train = np.sqrt(mean_squared_error(y_train_log_N3,Y_hat_train_sgd))\n",
        "RSQ_train = r2_score(y_train_log_N3,Y_hat_train_sgd)\n",
        "MBE_train = np.mean(y_train_log_N3 - Y_hat_train_sgd)\n",
        "MAE_train = np.mean(abs(y_train_log_N3 - Y_hat_train_sgd))\n",
        "STD_train = np.std(y_train_log_N3 - Y_hat_train_sgd)\n",
        "# ################################################################\n",
        "# ################################################################\n",
        "print(\"############ Avaliação do Modelo no Conjunto de Treinamento ############\")\n",
        "print(\"RMSE: %0.4f\" % rmse_train)\n",
        "print(\"R2: %0.4f\" % RSQ_train)\n",
        "print(\"MBE: %0.4f\" % MBE_train)\n",
        "print(\"MAE: %0.4f\" % MAE_train)\n",
        "print(\"STD: %0.4f\" % STD_train)\n",
        "print(\"########################################\")\n",
        "print(\" \")\n",
        "# #----------------------------------------------------------------------------------------------------------\n",
        "# # AVALIAÇÃO DO MODELO\n",
        "# #----------------------------------------------------------------------------------------------------------\n",
        "Y_hat_test_sgd = nn_log_A_N3.predict(X_test_log_N3)\n",
        "\n",
        "rmse_test = np.sqrt(mean_squared_error(y_test_log_N3,Y_hat_test_sgd))\n",
        "RSQ_test = r2_score(y_test_log_N3,Y_hat_test_sgd)\n",
        "MBE_test = np.mean(y_test_log_N3 - Y_hat_test_sgd)\n",
        "MAE_test = np.mean(abs(y_test_log_N3 - Y_hat_test_sgd))\n",
        "STD_test = np.std(y_test_log_N3 - Y_hat_test_sgd)\n",
        "# ################################################################\n",
        "# ################################################################\n",
        "print(\"############ Avaliação do Modelo no Conjunto de Teste ############\")\n",
        "print(\"RMSE: %0.4f\" % rmse_test)\n",
        "print(\"R2: %0.4f\" % RSQ_test)\n",
        "print(\"MBE: %0.4f\" % MBE_test)\n",
        "print(\"MAE: %0.4f\" % MAE_test)\n",
        "print(\"STD: %0.4f\" % STD_test)\n",
        "print(\"########################################\")\n",
        "print(\" \")"
      ]
    },
    {
      "cell_type": "code",
      "source": [
        "residuos_U3_A = y_test_log_N3 - Y_hat_test_sgd"
      ],
      "metadata": {
        "id": "3ViWk_NMIzV6"
      },
      "execution_count": null,
      "outputs": []
    },
    {
      "cell_type": "code",
      "source": [
        "ecdf = ECDF(residuos_U3_A.ravel())\n",
        "ecdf_neg_U3_A = ecdf(0)\n",
        "ecdf_neg_U3_A"
      ],
      "metadata": {
        "id": "FoH4ND33I2W6"
      },
      "execution_count": null,
      "outputs": []
    },
    {
      "cell_type": "code",
      "execution_count": null,
      "metadata": {
        "id": "FjdqHjx61T3b"
      },
      "outputs": [],
      "source": [
        "# Intervalo de Confiança U3 (SGDRegressor) - Cenário A\n",
        "\n",
        "dif_relativa_sup = math.exp(rmse_test * (1 - ecdf_neg_U3_A) + t_student_bicaudal_90 * STD_test / (len(y_test_log_N3)**(0.5)))\n",
        "dif_relativa_inf = math.exp(- rmse_test * ecdf_neg_U3_A - t_student_bicaudal_90 * STD_test / (len(y_test_log_N3)**(0.5)))\n",
        "\n",
        "print(\"Semiamplitude Superior do IC 90 U3 (Cenário A): %0.4f\" % (dif_relativa_sup - 1))\n",
        "print(\"Semiamplitude Inferior do IC 90 U3 (Cenário A): %0.4f\" % (dif_relativa_inf - 1))"
      ]
    },
    {
      "cell_type": "code",
      "execution_count": null,
      "metadata": {
        "id": "nMYp9LnHRDyV"
      },
      "outputs": [],
      "source": [
        "fig = plt.figure(figsize=(15,15))\n",
        "ax = plt.subplot(1,1,1)\n",
        "\n",
        "#ax.plot(Y_hat_train_N3,y_train_log_N3,'go',label='dados de treinamento')\n",
        "#ax.plot(Y_hat_test_N3,y_test_log_N3,'bo',label='dados de teste')\n",
        "\n",
        "ax.plot(Y_hat_train_sgd,y_train_log_N3,'go')\n",
        "ax.plot(Y_hat_test_sgd,y_test_log_N3,'bo')\n",
        "\n",
        "plt.rcParams.update({'font.size': 10})\n",
        "\n",
        "ax.set_title('Observações vs Projeções do Modelo Linear SGDRegressor (Ln Valor Total Atualizado) - Cenário A')\n",
        "plt.rcParams.update({'font.size': 10})\n",
        "ax.set_ylabel('Ln Valores Totais Calculados pelas Instituições Atualizados (JAN 22)')\n",
        "ax.set_xlabel('Projeções do Modelo (Ln Valor Total do Imóvel)')\n",
        "\n",
        "plt.legend(loc=\"lower right\")\n",
        "\n",
        "x_bis = np.linspace(0, 30, 1000)\n",
        "plt.plot(x_bis, x_bis + 0, linestyle='solid', color='red')\n",
        "\n",
        "ax.set_xlim([8, 20])\n",
        "ax.set_ylim([8, 20])"
      ]
    },
    {
      "cell_type": "markdown",
      "metadata": {
        "id": "8qpLE0Rlzq4Y"
      },
      "source": [
        "### Cenário B"
      ]
    },
    {
      "cell_type": "markdown",
      "metadata": {
        "id": "708s8K0n5gp_"
      },
      "source": [
        "#### U1"
      ]
    },
    {
      "cell_type": "code",
      "execution_count": null,
      "metadata": {
        "id": "6AcyrE6W40tw"
      },
      "outputs": [],
      "source": [
        "sgd_B_U1 = SGDRegressor(alpha=0.0001, learning_rate='constant', eta0=0.01,\n",
        "             max_iter=1000, random_state=123, verbose=False, early_stopping=False, validation_fraction=0.2, penalty='l2')\n",
        "\n",
        "sgd_B_U1.fit(X_trainB_N1, y_final_log_reduzido.ravel())\n",
        "\n",
        "sgd_B_U1.predict(X_testeEB_N1)\n",
        "\n",
        "# avaliação do modelo utilizando validação cruzada\n",
        "scores_log = cross_val_score(sgd_B_U1, X_trainB_N1, y_final_log_reduzido.ravel(), scoring='r2', cv=cv)\n",
        "\n",
        "print('Coeficiente de Determinacao Medio (R2) para os 10 folds: %.4f (dp: %.3f)' % (mean(scores_log), std(scores_log)))"
      ]
    },
    {
      "cell_type": "code",
      "execution_count": null,
      "metadata": {
        "id": "RfW75WhlkQJO"
      },
      "outputs": [],
      "source": [
        "Y_hat_train_sgd = sgd_B_U1.predict(X_trainB_N1)\n",
        "\n",
        "rmse_train = np.sqrt(mean_squared_error(y_final_log_reduzido,Y_hat_train_sgd))\n",
        "RSQ_train = r2_score(y_final_log_reduzido,Y_hat_train_sgd)\n",
        "MBE_train = np.mean(y_final_log_reduzido - Y_hat_train_sgd)\n",
        "MAE_train = np.mean(abs(y_final_log_reduzido - Y_hat_train_sgd))\n",
        "STD_train = np.std(y_final_log_reduzido - Y_hat_train_sgd)\n",
        "# ################################################################\n",
        "# ################################################################\n",
        "print(\"############ Avaliação do Modelo no Conjunto de Treinamento ############\")\n",
        "print(\"RMSE: %0.3f\" % rmse_train)\n",
        "print(\"R2: %0.3f\" % RSQ_train)\n",
        "print(\"MBE: %0.3f\" % MBE_train)\n",
        "print(\"MAE: %0.3f\" % MAE_train)\n",
        "print(\"STD: %0.3f\" % STD_train)\n",
        "print(\"########################################\")\n",
        "print(\" \")\n",
        "# #----------------------------------------------------------------------------------------------------------\n",
        "# # AVALIAÇÃO DO MODELO\n",
        "# #----------------------------------------------------------------------------------------------------------\n",
        "Y_hat_test_sgd = sgd_B_U1.predict(X_testeEB_N1)\n",
        "\n",
        "rmse_test = np.sqrt(mean_squared_error(y_final_log_EB,Y_hat_test_sgd))\n",
        "RSQ_test = r2_score(y_final_log_EB,Y_hat_test_sgd)\n",
        "MBE_test = np.mean(y_final_log_EB - Y_hat_test_sgd)\n",
        "MAE_test = np.mean(abs(y_final_log_EB - Y_hat_test_sgd))\n",
        "STD_test = np.std(y_final_log_EB - Y_hat_test_sgd)\n",
        "# ################################################################\n",
        "# ################################################################\n",
        "print(\"############ Avaliação do Modelo no Conjunto de Teste ############\")\n",
        "print(\"RMSE: %0.3f\" % rmse_test)\n",
        "print(\"R2: %0.3f\" % RSQ_test)\n",
        "print(\"MBE: %0.3f\" % MBE_test)\n",
        "print(\"MAE: %0.3f\" % MAE_test)\n",
        "print(\"STD: %0.3f\" % STD_test)\n",
        "print(\"########################################\")\n",
        "print(\" \")"
      ]
    },
    {
      "cell_type": "code",
      "source": [
        "residuos_U1_B = y_final_log_EB - Y_hat_test_sgd"
      ],
      "metadata": {
        "id": "if_YR3jXbWkK"
      },
      "execution_count": null,
      "outputs": []
    },
    {
      "cell_type": "code",
      "source": [
        "ecdf = ECDF(residuos_U1_B.ravel())\n",
        "ecdf_neg_U1_B = ecdf(0)\n",
        "ecdf_neg_U1_B"
      ],
      "metadata": {
        "id": "7bzWX-vUbaHN"
      },
      "execution_count": null,
      "outputs": []
    },
    {
      "cell_type": "code",
      "source": [
        "# Intervalo de Confiança U1 (SGDRegressor) - Cenário B\n",
        "\n",
        "dif_relativa_sup = math.exp(rmse_test * (1 - ecdf_neg_U1_B) + t_student_bicaudal_90 * STD_test / (len(y_final_log_EB)**(0.5)))\n",
        "dif_relativa_inf = math.exp(- rmse_test * ecdf_neg_U1_B - t_student_bicaudal_90 * STD_test / (len(y_final_log_EB)**(0.5)))\n",
        "\n",
        "print(\"Semiamplitude Superior do IC 90 U1 (Cenário B): %0.4f\" % (dif_relativa_sup - 1))\n",
        "print(\"Semiamplitude Inferior do IC 90 U1 (Cenário B): %0.4f\" % (dif_relativa_inf - 1))"
      ],
      "metadata": {
        "id": "UBKayghNbeEf"
      },
      "execution_count": null,
      "outputs": []
    },
    {
      "cell_type": "markdown",
      "source": [
        "#### U2"
      ],
      "metadata": {
        "id": "XkJNVzuzbi3_"
      }
    },
    {
      "cell_type": "code",
      "source": [
        "sgd_B_U2 = SGDRegressor(alpha=0.0001, learning_rate='constant', eta0=0.01,\n",
        "             max_iter=1000, random_state=123, verbose=False, early_stopping=False, validation_fraction=0.2, penalty='l2')\n",
        "\n",
        "sgd_B_U2.fit(X_trainB_N2, y_final_log_reduzido.ravel())\n",
        "\n",
        "sgd_B_U2.predict(X_testeEB_N2)\n",
        "\n",
        "# avaliação do modelo utilizando validação cruzada\n",
        "scores_log = cross_val_score(sgd_B_U2, X_trainB_N2, y_final_log_reduzido.ravel(), scoring='r2', cv=cv)\n",
        "\n",
        "print('Coeficiente de Determinacao Medio (R2) para os 10 folds: %.4f (dp: %.3f)' % (mean(scores_log), std(scores_log)))"
      ],
      "metadata": {
        "id": "dCqk0kYnbkFP"
      },
      "execution_count": null,
      "outputs": []
    },
    {
      "cell_type": "code",
      "source": [
        "Y_hat_train_sgd = sgd_B_U2.predict(X_trainB_N2)\n",
        "\n",
        "rmse_train = np.sqrt(mean_squared_error(y_final_log_reduzido,Y_hat_train_sgd))\n",
        "RSQ_train = r2_score(y_final_log_reduzido,Y_hat_train_sgd)\n",
        "MBE_train = np.mean(y_final_log_reduzido - Y_hat_train_sgd)\n",
        "MAE_train = np.mean(abs(y_final_log_reduzido - Y_hat_train_sgd))\n",
        "STD_train = np.std(y_final_log_reduzido - Y_hat_train_sgd)\n",
        "# ################################################################\n",
        "# ################################################################\n",
        "print(\"############ Avaliação do Modelo no Conjunto de Treinamento ############\")\n",
        "print(\"RMSE: %0.3f\" % rmse_train)\n",
        "print(\"R2: %0.3f\" % RSQ_train)\n",
        "print(\"MBE: %0.3f\" % MBE_train)\n",
        "print(\"MAE: %0.3f\" % MAE_train)\n",
        "print(\"STD: %0.3f\" % STD_train)\n",
        "print(\"########################################\")\n",
        "print(\" \")\n",
        "# #----------------------------------------------------------------------------------------------------------\n",
        "# # AVALIAÇÃO DO MODELO\n",
        "# #----------------------------------------------------------------------------------------------------------\n",
        "Y_hat_test_sgd = sgd_B_U2.predict(X_testeEB_N2)\n",
        "\n",
        "rmse_test = np.sqrt(mean_squared_error(y_final_log_EB,Y_hat_test_sgd))\n",
        "RSQ_test = r2_score(y_final_log_EB,Y_hat_test_sgd)\n",
        "MBE_test = np.mean(y_final_log_EB - Y_hat_test_sgd)\n",
        "MAE_test = np.mean(abs(y_final_log_EB - Y_hat_test_sgd))\n",
        "STD_test = np.std(y_final_log_EB - Y_hat_test_sgd)\n",
        "# ################################################################\n",
        "# ################################################################\n",
        "print(\"############ Avaliação do Modelo no Conjunto de Teste ############\")\n",
        "print(\"RMSE: %0.3f\" % rmse_test)\n",
        "print(\"R2: %0.3f\" % RSQ_test)\n",
        "print(\"MBE: %0.3f\" % MBE_test)\n",
        "print(\"MAE: %0.3f\" % MAE_test)\n",
        "print(\"STD: %0.3f\" % STD_test)\n",
        "print(\"########################################\")\n",
        "print(\" \")"
      ],
      "metadata": {
        "id": "Sa4r0BoXcYBu"
      },
      "execution_count": null,
      "outputs": []
    },
    {
      "cell_type": "code",
      "source": [
        "residuos_U2_B = y_final_log_EB - Y_hat_test_sgd"
      ],
      "metadata": {
        "id": "0NAV4hnvdnb4"
      },
      "execution_count": null,
      "outputs": []
    },
    {
      "cell_type": "code",
      "source": [
        "ecdf = ECDF(residuos_U2_B.ravel())\n",
        "ecdf_neg_U2_B = ecdf(0)\n",
        "ecdf_neg_U2_B"
      ],
      "metadata": {
        "id": "Z8ujc-UEejrr"
      },
      "execution_count": null,
      "outputs": []
    },
    {
      "cell_type": "code",
      "source": [
        "# Intervalo de Confiança U2 (SGDRegressor) - Cenário B\n",
        "\n",
        "dif_relativa_sup = math.exp(rmse_test * (1 - ecdf_neg_U2_B) + t_student_bicaudal_90 * STD_test / (len(y_final_log_EB)**(0.5)))\n",
        "dif_relativa_inf = math.exp(- rmse_test * ecdf_neg_U2_B - t_student_bicaudal_90 * STD_test / (len(y_final_log_EB)**(0.5)))\n",
        "\n",
        "print(\"Semiamplitude Superior do IC 90 U2 (Cenário B): %0.4f\" % (dif_relativa_sup - 1))\n",
        "print(\"Semiamplitude Inferior do IC 90 U2 (Cenário B): %0.4f\" % (dif_relativa_inf - 1))"
      ],
      "metadata": {
        "id": "4M3jiwnTempL"
      },
      "execution_count": null,
      "outputs": []
    },
    {
      "cell_type": "markdown",
      "source": [
        "#### U3"
      ],
      "metadata": {
        "id": "T88XhRqZevES"
      }
    },
    {
      "cell_type": "code",
      "source": [
        "sgd_B_U3 = SGDRegressor(alpha=0.0001, learning_rate='constant', eta0=0.01,\n",
        "             max_iter=1000, random_state=123, verbose=False, early_stopping=False, validation_fraction=0.2, penalty='l2')\n",
        "\n",
        "sgd_B_U3.fit(X_trainB_N3, y_final_log_reduzido.ravel())\n",
        "\n",
        "sgd_B_U3.predict(X_testeEB_N3)\n",
        "\n",
        "# avaliação do modelo utilizando validação cruzada\n",
        "scores_log = cross_val_score(sgd_B_U3, X_trainB_N3, y_final_log_reduzido.ravel(), scoring='r2', cv=cv)\n",
        "\n",
        "print('Coeficiente de Determinacao Medio (R2) para os 10 folds: %.4f (dp: %.3f)' % (mean(scores_log), std(scores_log)))"
      ],
      "metadata": {
        "id": "A3LlSC1zewi4"
      },
      "execution_count": null,
      "outputs": []
    },
    {
      "cell_type": "code",
      "source": [
        "Y_hat_train_sgd = sgd_B_U3.predict(X_trainB_N3)\n",
        "\n",
        "rmse_train = np.sqrt(mean_squared_error(y_final_log_reduzido,Y_hat_train_sgd))\n",
        "RSQ_train = r2_score(y_final_log_reduzido,Y_hat_train_sgd)\n",
        "MBE_train = np.mean(y_final_log_reduzido - Y_hat_train_sgd)\n",
        "MAE_train = np.mean(abs(y_final_log_reduzido - Y_hat_train_sgd))\n",
        "STD_train = np.std(y_final_log_reduzido - Y_hat_train_sgd)\n",
        "# ################################################################\n",
        "# ################################################################\n",
        "print(\"############ Avaliação do Modelo no Conjunto de Treinamento ############\")\n",
        "print(\"RMSE: %0.3f\" % rmse_train)\n",
        "print(\"R2: %0.3f\" % RSQ_train)\n",
        "print(\"MBE: %0.3f\" % MBE_train)\n",
        "print(\"MAE: %0.3f\" % MAE_train)\n",
        "print(\"STD: %0.3f\" % STD_train)\n",
        "print(\"########################################\")\n",
        "print(\" \")\n",
        "# #----------------------------------------------------------------------------------------------------------\n",
        "# # AVALIAÇÃO DO MODELO\n",
        "# #----------------------------------------------------------------------------------------------------------\n",
        "Y_hat_test_sgd = sgd_B_U3.predict(X_testeEB_N3)\n",
        "\n",
        "rmse_test = np.sqrt(mean_squared_error(y_final_log_EB,Y_hat_test_sgd))\n",
        "RSQ_test = r2_score(y_final_log_EB,Y_hat_test_sgd)\n",
        "MBE_test = np.mean(y_final_log_EB - Y_hat_test_sgd)\n",
        "MAE_test = np.mean(abs(y_final_log_EB - Y_hat_test_sgd))\n",
        "STD_test = np.std(y_final_log_EB - Y_hat_test_sgd)\n",
        "# ################################################################\n",
        "# ################################################################\n",
        "print(\"############ Avaliação do Modelo no Conjunto de Teste ############\")\n",
        "print(\"RMSE: %0.3f\" % rmse_test)\n",
        "print(\"R2: %0.3f\" % RSQ_test)\n",
        "print(\"MBE: %0.3f\" % MBE_test)\n",
        "print(\"MAE: %0.3f\" % MAE_test)\n",
        "print(\"STD: %0.3f\" % STD_test)\n",
        "print(\"########################################\")\n",
        "print(\" \")"
      ],
      "metadata": {
        "id": "hatCaIXYe_HI"
      },
      "execution_count": null,
      "outputs": []
    },
    {
      "cell_type": "code",
      "source": [
        "residuos_U3_B = y_final_log_EB - Y_hat_test_sgd"
      ],
      "metadata": {
        "id": "quNxEpwxfWoK"
      },
      "execution_count": null,
      "outputs": []
    },
    {
      "cell_type": "code",
      "source": [
        "ecdf = ECDF(residuos_U3_B.ravel())\n",
        "ecdf_neg_U3_B = ecdf(0)\n",
        "ecdf_neg_U3_B"
      ],
      "metadata": {
        "id": "UMavduPlfZ7z"
      },
      "execution_count": null,
      "outputs": []
    },
    {
      "cell_type": "code",
      "source": [
        "# Intervalo de Confiança U3 (SGDRegressor) - Cenário B\n",
        "\n",
        "dif_relativa_sup = math.exp(rmse_test * (1 - ecdf_neg_U3_B) + t_student_bicaudal_90 * STD_test / (len(y_final_log_EB)**(0.5)))\n",
        "dif_relativa_inf = math.exp(- rmse_test * ecdf_neg_U3_B - t_student_bicaudal_90 * STD_test / (len(y_final_log_EB)**(0.5)))\n",
        "\n",
        "print(\"Semiamplitude Superior do IC 90 U3 (Cenário B): %0.4f\" % (dif_relativa_sup - 1))\n",
        "print(\"Semiamplitude Inferior do IC 90 U3 (Cenário B): %0.4f\" % (dif_relativa_inf - 1))"
      ],
      "metadata": {
        "id": "jzzOnj-IfboX"
      },
      "execution_count": null,
      "outputs": []
    },
    {
      "cell_type": "markdown",
      "metadata": {
        "id": "0YtDWEW0WVsx"
      },
      "source": [
        "## Interpretabilidade dos Modelos *SGDRegressor* (lineares)"
      ]
    },
    {
      "cell_type": "markdown",
      "source": [
        "### Cenário A"
      ],
      "metadata": {
        "id": "dNqQ9fyIKvkG"
      }
    },
    {
      "cell_type": "markdown",
      "source": [
        "#### U1"
      ],
      "metadata": {
        "id": "8RlecWVNgJ6v"
      }
    },
    {
      "cell_type": "code",
      "source": [
        "X_test_log_N1.columns"
      ],
      "metadata": {
        "id": "UZM6dmvZgnhP"
      },
      "execution_count": null,
      "outputs": []
    },
    {
      "cell_type": "code",
      "source": [
        "# Valores Shapley - SHAP (SHapley Additive exPlanations) U1 (Cenário A)\n",
        "\n",
        "explainer = shap.LinearExplainer(nn_log_A_N1, X_train_log_N1)\n",
        "shap_values = explainer.shap_values(X_test_log_N1)\n",
        "shap.summary_plot(shap_values, features=X_test_log_N1, feature_names=['Capital UF', 'IDHM', 'Terreno', 'CUB * Área Construída', 'Ln(Área do Terreno)',\n",
        "       'Vocação Comercial', 'Vocação Institucional', 'Vocação Misto',\n",
        "       'Vocação Residencial'],plot_size=(14.0,8.0),title=' Valores de Shapley Modelo SGDRegressor Linear U1 (Cenário A)')"
      ],
      "metadata": {
        "id": "OmX2RSFCgpUO"
      },
      "execution_count": null,
      "outputs": []
    },
    {
      "cell_type": "markdown",
      "source": [
        "#### U2"
      ],
      "metadata": {
        "id": "fEjAiF5bgMfy"
      }
    },
    {
      "cell_type": "code",
      "source": [
        "X_test_log_N2.columns"
      ],
      "metadata": {
        "id": "uB2SjeXAg4eC"
      },
      "execution_count": null,
      "outputs": []
    },
    {
      "cell_type": "code",
      "source": [
        "# Valores Shapley - SHAP (SHapley Additive exPlanations) N3U (Cenário A)\n",
        "\n",
        "explainer = shap.LinearExplainer(nn_log_A_N2, X_train_log_N2)\n",
        "shap_values = explainer.shap_values(X_test_log_N2)\n",
        "shap.summary_plot(shap_values, features=X_test_log_N3, feature_names=['Capital UF', 'IDHM', 'Terreno', 'Idade Aparente', 'CUB * Área Construída', 'Ln(Área do Terreno)',\n",
        "       'Vocação Comercial', 'Vocação Institucional', 'Vocação Misto',\n",
        "       'Vocação Residencial'],plot_size=(14.0,8.0),title=' Valores de Shapley Modelo SGDRegressor Linear U2 (Cenário A)')"
      ],
      "metadata": {
        "id": "mzcF5VnEg6H5"
      },
      "execution_count": null,
      "outputs": []
    },
    {
      "cell_type": "markdown",
      "source": [
        "#### U3"
      ],
      "metadata": {
        "id": "ONXr4qIQgOZi"
      }
    },
    {
      "cell_type": "code",
      "execution_count": null,
      "metadata": {
        "id": "8_P763cMC4ra"
      },
      "outputs": [],
      "source": [
        "X_test_log_N3.columns"
      ]
    },
    {
      "cell_type": "code",
      "execution_count": null,
      "metadata": {
        "id": "bVkZwQumUiQo"
      },
      "outputs": [],
      "source": [
        "# Valores Shapley - SHAP (SHapley Additive exPlanations) N3U (Cenário A)\n",
        "\n",
        "explainer = shap.LinearExplainer(nn_log_A_N3, X_train_log_N3)\n",
        "shap_values = explainer.shap_values(X_test_log_N3)\n",
        "shap.summary_plot(shap_values, features=X_test_log_N3, feature_names=['Capital UF', 'IDHM', 'Terreno', 'Idade Aparente',\n",
        "       'Renda Domiciliar AP (IBGE)', 'Qtd Equipamentos (API Google)',\n",
        "       'Qtd Shopping Centers (API Google)', 'Qtd Estabelecimentos (API Google)', 'CUB * Área Construída', 'Ln(Área do Terreno)',\n",
        "       'Vocação Comercial', 'Vocação Institucional', 'Vocação Misto',\n",
        "       'Vocação Residencial'],plot_size=(14.0,8.0),title=' Valores de Shapley Modelo SGDRegressor Linear U3 (Cenário A)')"
      ]
    },
    {
      "cell_type": "markdown",
      "source": [
        "### Cenário B"
      ],
      "metadata": {
        "id": "Rb94aCjNKy9H"
      }
    },
    {
      "cell_type": "markdown",
      "source": [
        "#### U1"
      ],
      "metadata": {
        "id": "3RjGRIRahGJX"
      }
    },
    {
      "cell_type": "code",
      "source": [
        "X_testeEB_N1.columns"
      ],
      "metadata": {
        "id": "qAO6Shj8hh36"
      },
      "execution_count": null,
      "outputs": []
    },
    {
      "cell_type": "code",
      "source": [
        "# Valores Shapley - SHAP (SHapley Additive exPlanations) N3U (Cenário B)\n",
        "\n",
        "explainer = shap.LinearExplainer(sgd_B_U1, X_trainB_N1)\n",
        "shap_values = explainer.shap_values(X_testeEB_N1)\n",
        "shap.summary_plot(shap_values, features=X_testeEB_N1, feature_names=['Capital UF', 'IDHM', 'Terreno', 'CUB * Área Construída', 'Ln(Área do Terreno)',\n",
        "       'Vocação Comercial', 'Vocação Institucional', 'Vocação Misto',\n",
        "       'Vocação Residencial'],plot_size=(14.0,8.0),title=' Valores de Shapley Modelo SGDRegressor Linear U1 (Cenário B)')"
      ],
      "metadata": {
        "id": "4eyJ41gEhmws"
      },
      "execution_count": null,
      "outputs": []
    },
    {
      "cell_type": "markdown",
      "source": [
        "#### U2"
      ],
      "metadata": {
        "id": "T9Qvwk0rhH0P"
      }
    },
    {
      "cell_type": "code",
      "source": [
        "X_testeEB_N2.columns"
      ],
      "metadata": {
        "id": "8jHTZzaThsUf"
      },
      "execution_count": null,
      "outputs": []
    },
    {
      "cell_type": "code",
      "source": [
        "# Valores Shapley - SHAP (SHapley Additive exPlanations) N3U (Cenário B)\n",
        "\n",
        "explainer = shap.LinearExplainer(sgd_B_U2, X_trainB_N2)\n",
        "shap_values = explainer.shap_values(X_testeEB_N2)\n",
        "shap.summary_plot(shap_values, features=X_testeEB_N2, feature_names=['Capital UF', 'IDHM', 'Terreno', 'Idade Aparente', 'CUB * Área Construída', 'Ln(Área do Terreno)',\n",
        "       'Vocação Comercial', 'Vocação Institucional', 'Vocação Misto',\n",
        "       'Vocação Residencial'],plot_size=(14.0,8.0),title=' Valores de Shapley Modelo SGDRegressor Linear U2 (Cenário B)')"
      ],
      "metadata": {
        "id": "Mvj9dKaLht5B"
      },
      "execution_count": null,
      "outputs": []
    },
    {
      "cell_type": "markdown",
      "source": [
        "#### U3"
      ],
      "metadata": {
        "id": "1mkVN67ghJSw"
      }
    },
    {
      "cell_type": "code",
      "source": [
        "X_testeEB_N3.columns"
      ],
      "metadata": {
        "id": "wPXpoSCDKyj9"
      },
      "execution_count": null,
      "outputs": []
    },
    {
      "cell_type": "code",
      "source": [
        "# Valores Shapley - SHAP (SHapley Additive exPlanations) N3U (Cenário B)\n",
        "\n",
        "explainer = shap.LinearExplainer(sgd_B_U3, X_trainB_N3)\n",
        "shap_values = explainer.shap_values(X_testeEB_N3)\n",
        "shap.summary_plot(shap_values, features=X_testeEB_N3, feature_names=['Capital UF', 'IDHM', 'Terreno', 'Idade Aparente',\n",
        "       'Renda Domiciliar AP (IBGE)', 'Qtd Equipamentos (API Google)',\n",
        "       'Qtd Shopping Centers (API Google)', 'Qtd Estabelecimentos (API Google)', 'CUB * Área Construída', 'Ln(Área do Terreno)',\n",
        "       'Vocação Comercial', 'Vocação Institucional', 'Vocação Misto',\n",
        "       'Vocação Residencial'],plot_size=(14.0,8.0),title=' Valores de Shapley Modelo SGDRegressor Linear U3 (Cenário B)')"
      ],
      "metadata": {
        "id": "ByVitYLEK5Zi"
      },
      "execution_count": null,
      "outputs": []
    }
  ],
  "metadata": {
    "colab": {
      "collapsed_sections": [
        "2afgTF0BEdbH",
        "mRzuDBKTjpMX",
        "Cm_vM4US_5Ah",
        "hoLbYOBBJnNn",
        "p1SY8he_lKGl",
        "2Knfww-8pVaC",
        "IgbO_uumozqI",
        "1haowUvmdFGx",
        "jgw2cytNpB4b",
        "zEik7obIo8Qk",
        "dWlqjal4nVq0",
        "EX8xfU_io1we",
        "D-pcueFJ3hsC",
        "PNvfif_H6lll",
        "wKB9awakEDWn",
        "7sF0Vr9OdSwQ",
        "D6VNHZVHJnOQ",
        "DZKyBNh0xhvz",
        "Fs5zd6n5li5h",
        "jRXXwFIrGE6_",
        "C8obqin3hRZA",
        "ikXFhPH-sCBG",
        "RIddAXxVtTm5",
        "sZ9jfEfaoY_f",
        "NnyBc5ozsMU3",
        "6_akqVf20JRQ",
        "HklFnzlzQfgH",
        "XXWtajrSV7td",
        "soklK9F3dvYG",
        "LFaK0QQoggXk",
        "0_vqUru2vnQZ",
        "oOABa2d-9mRc",
        "p-5C7UXUHOfL",
        "dPufZ4cvCQ2m",
        "8-bTgxZ9Cfuz",
        "w-BIkbTK3EZT",
        "cwRSzph84LYX"
      ],
      "provenance": [],
      "toc_visible": true
    },
    "kernelspec": {
      "display_name": "Python 3",
      "language": "python",
      "name": "python3"
    },
    "language_info": {
      "codemirror_mode": {
        "name": "ipython",
        "version": 3
      },
      "file_extension": ".py",
      "mimetype": "text/x-python",
      "name": "python",
      "nbconvert_exporter": "python",
      "pygments_lexer": "ipython3",
      "version": "3.7.7"
    }
  },
  "nbformat": 4,
  "nbformat_minor": 0
}