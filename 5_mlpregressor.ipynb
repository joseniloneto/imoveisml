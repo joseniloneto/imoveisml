{
  "cells": [
    {
      "cell_type": "markdown",
      "metadata": {
        "id": "bf0vtLyrJnMS"
      },
      "source": [
        "# ANN MLPRegressor"
      ]
    },
    {
      "cell_type": "markdown",
      "metadata": {
        "id": "Np1mCFdMGgMa"
      },
      "source": [
        "## Instalação de Pacotes Necessários"
      ]
    },
    {
      "cell_type": "code",
      "execution_count": null,
      "metadata": {
        "id": "J90uWu-vJnMb"
      },
      "outputs": [],
      "source": [
        "%time\n",
        "import os\n",
        "import numpy as np\n",
        "from numpy import mean\n",
        "from numpy import std\n",
        "import seaborn as sns\n",
        "import statsmodels.api as sm\n",
        "from statsmodels.distributions.empirical_distribution import ECDF\n",
        "\n",
        "!pip install --upgrade pandas\n",
        "import pandas as pd\n",
        "from pandas import read_csv\n",
        "\n",
        "import matplotlib.pyplot as plt\n",
        "%matplotlib inline\n",
        "\n",
        "import math as math\n",
        "\n",
        "from sklearn.preprocessing import MinMaxScaler\n",
        "from sklearn.model_selection import train_test_split\n",
        "from sklearn.neural_network import MLPRegressor\n",
        "from sklearn.model_selection import GridSearchCV\n",
        "from sklearn.metrics import r2_score\n",
        "from sklearn.metrics import mean_squared_error, r2_score, make_scorer\n",
        "from sklearn.model_selection import KFold\n",
        "from sklearn.model_selection import cross_val_score, cross_val_predict\n",
        "\n",
        "from sklearn.model_selection import GridSearchCV\n",
        "\n",
        "from sklearn.feature_selection import RFECV\n",
        "from sklearn.model_selection import StratifiedKFold\n",
        "\n",
        "from sklearn.model_selection import RepeatedKFold\n",
        "\n",
        "!pip install --upgrade scipy\n",
        "import scipy as scipy\n",
        "from scipy import stats\n",
        "from scipy.stats import t\n",
        "\n",
        "!pip install --upgrade shap\n",
        "import shap as shap\n",
        "shap.initjs()"
      ]
    },
    {
      "cell_type": "markdown",
      "metadata": {
        "id": "9oEFjCaNc9VE"
      },
      "source": [
        "## Importação de Dados Geolocalizados"
      ]
    },
    {
      "cell_type": "code",
      "execution_count": null,
      "metadata": {
        "id": "kAv-3akyEufC"
      },
      "outputs": [],
      "source": [
        "!pip install --upgrade gspread"
      ]
    },
    {
      "cell_type": "code",
      "execution_count": null,
      "metadata": {
        "id": "QPO_dfUQFU_8"
      },
      "outputs": [],
      "source": [
        "# autorização de acesso ao Google Drive \n",
        "\n",
        "from google.colab import auth\n",
        "auth.authenticate_user()\n",
        "\n",
        "import gspread\n",
        "from google.auth import default\n",
        "creds, _ = default()\n",
        "\n",
        "gc = gspread.authorize(creds)"
      ]
    },
    {
      "cell_type": "code",
      "execution_count": null,
      "metadata": {
        "id": "AwB3jIZcmSBZ"
      },
      "outputs": [],
      "source": [
        "planilha = gc.open('nome_basededados')\n",
        "pagina = planilha.sheet1\n",
        "pagina.row_values(1)"
      ]
    },
    {
      "cell_type": "code",
      "execution_count": null,
      "metadata": {
        "id": "6n0evdndoFYj"
      },
      "outputs": [],
      "source": [
        "df_Uniao = pd.DataFrame(pagina.get_all_records())"
      ]
    },
    {
      "cell_type": "code",
      "execution_count": null,
      "metadata": {
        "id": "GDCpi-CPHUD6"
      },
      "outputs": [],
      "source": [
        "df_Uniao.head(5)"
      ]
    },
    {
      "cell_type": "code",
      "execution_count": null,
      "metadata": {
        "id": "NKW1gNFQ1CzV"
      },
      "outputs": [],
      "source": [
        "df_Uniao.columns"
      ]
    },
    {
      "cell_type": "code",
      "execution_count": null,
      "metadata": {
        "id": "DFERU6z-JLvC"
      },
      "outputs": [],
      "source": [
        "df_Uniao.shape"
      ]
    },
    {
      "cell_type": "code",
      "execution_count": null,
      "metadata": {
        "id": "q_-YGhovKTsV"
      },
      "outputs": [],
      "source": [
        "df_Uniao.isna().sum()"
      ]
    },
    {
      "cell_type": "code",
      "execution_count": null,
      "metadata": {
        "id": "HypwoORUKcQS"
      },
      "outputs": [],
      "source": [
        "df_Uniao = df_Uniao.dropna()"
      ]
    },
    {
      "cell_type": "code",
      "execution_count": null,
      "metadata": {
        "id": "4E-w3Q4-KfvS"
      },
      "outputs": [],
      "source": [
        "df_Uniao = df_Uniao.reset_index(drop=True)"
      ]
    },
    {
      "cell_type": "code",
      "execution_count": null,
      "metadata": {
        "id": "U5PCANzqKnKt"
      },
      "outputs": [],
      "source": [
        "df_Uniao.dtypes"
      ]
    },
    {
      "cell_type": "code",
      "execution_count": null,
      "metadata": {
        "id": "9lRstVwFKqa1"
      },
      "outputs": [],
      "source": [
        "df_Uniao = df_Uniao.astype({\"% Superior Completo\": float})\n",
        "df_Uniao = df_Uniao.astype({\"% Rede Geral de Distribuicao de Agua\": float})\n",
        "df_Uniao = df_Uniao.astype({\"% Microcomputador com Acesso a Internet\": float})\n",
        "df_Uniao = df_Uniao.astype({\"Rendimento Domiciliar Medio\": float})\n",
        "\n",
        "df_Uniao.dtypes"
      ]
    },
    {
      "cell_type": "code",
      "execution_count": null,
      "metadata": {
        "id": "oupT_O0OK0kK"
      },
      "outputs": [],
      "source": [
        "df_Uniao.describe()"
      ]
    },
    {
      "cell_type": "code",
      "execution_count": null,
      "metadata": {
        "id": "VP7pYRtUb9ba"
      },
      "outputs": [],
      "source": [
        "df_Uniao[df_Uniao[\"Fonte\"]  == \"ME\"].count()"
      ]
    },
    {
      "cell_type": "code",
      "execution_count": null,
      "metadata": {
        "id": "9Zocl9SVUB_M"
      },
      "outputs": [],
      "source": [
        "df_Uniao[df_Uniao[\"Fonte\"]  == \"EB\"].count()"
      ]
    },
    {
      "cell_type": "code",
      "execution_count": null,
      "metadata": {
        "id": "j-3dwqKLbthj"
      },
      "outputs": [],
      "source": [
        "# remoção dos pontos influenciantes (Distância de Cook)\n",
        "\n",
        "df_Uniao.drop([2730,4341,4581], axis=0, inplace=True)"
      ]
    },
    {
      "cell_type": "markdown",
      "metadata": {
        "id": "lQ_fdqLFlB2M"
      },
      "source": [
        "# Abordagem 2\n",
        "\n",
        "Transformação da área do terreno (área projetada horizontal do imóvel) e do valor total atualizado com logaritmo neperiano (sem remoção de outliers), logaritmo neperiano do valor total atualizado como variável dependente."
      ]
    },
    {
      "cell_type": "markdown",
      "metadata": {
        "id": "Hk2newApuSPP"
      },
      "source": [
        "## Preparação dos Conjuntos de Treinamento e de Teste"
      ]
    },
    {
      "cell_type": "markdown",
      "metadata": {
        "id": "BWlBV_vyyFSW"
      },
      "source": [
        "### Cenário A"
      ]
    },
    {
      "cell_type": "code",
      "execution_count": null,
      "metadata": {
        "id": "7wtbNeJpLebB"
      },
      "outputs": [],
      "source": [
        "df_Uniao.columns"
      ]
    },
    {
      "cell_type": "code",
      "execution_count": null,
      "metadata": {
        "id": "My3QoK-k4lZr"
      },
      "outputs": [],
      "source": [
        "df_Uniao.describe()"
      ]
    },
    {
      "cell_type": "code",
      "execution_count": null,
      "metadata": {
        "id": "yAHbd1WASDqY"
      },
      "outputs": [],
      "source": [
        "df_Uniao['CUB*AreaConstruida'] = df_Uniao['CUBJan22'] * df_Uniao['AreaConstruidaTratada']"
      ]
    },
    {
      "cell_type": "code",
      "execution_count": null,
      "metadata": {
        "id": "ieXSPFKe4yQy"
      },
      "outputs": [],
      "source": [
        "df_Uniao.columns"
      ]
    },
    {
      "cell_type": "code",
      "execution_count": null,
      "metadata": {
        "id": "iWtTzh7q5ZFJ"
      },
      "outputs": [],
      "source": [
        "# U1\n",
        "\n",
        "col_list = df_Uniao.columns.tolist()\n",
        "\n",
        "listaaremover = ['Fonte', 'Id', 'Município', 'UF', 'TipologiaMunicipalIBGE', 'IVS_2010', 'TaxaHomicidios_2019',\n",
        "       'TipoImovel', 'CUBJan22', 'VidaUtil', 'AreaConstruidaTratada',\n",
        "       'AreaProjetadaTratada', 'IndiceFipeZapAvaliacao', 'IndiceFipeZapJan22',\n",
        "       'ValorTotalAtualizado', 'ValorUnitarioAtualizado', 'CodigoAP', 'NomeAP',\n",
        "       '% Superior Completo', '% Rede Geral de Distribuicao de Agua',\n",
        "       '% Microcomputador com Acesso a Internet', 'xcoord', 'ycoord', 'LatLong',\n",
        "       'qtd_equipamento', 'qtd_hospital',\n",
        "       'qtd_parque', 'qtd_delegacia', 'qtd_escola',\n",
        "       'qtd_universidade', 'qtd_atracaoturistica', 'qtd_supermercado',\n",
        "       'qtd_restaurante', 'qtd_padaria', 'qtd_cafeteria', 'qtd_loja', 'qtd_parada_onibus', 'qtd_estacao_vlt',\n",
        "       'qtd_estacao_metro', 'qtd_estacao_trem', 'qtd_aeroporto',\n",
        "       'acessibilidade', 'GoogleTrends2022', 'GrauUrbanizacaoIBGE', 'Rendimento Domiciliar Medio', 'qtd_shopping', 'qtd_estabelecimento', 'IdadeAparente']\n",
        "\n",
        "for e in listaaremover:\n",
        "  col_list.remove(e)\n",
        "\n",
        "X_final_log_N1 = df_Uniao[col_list]\n",
        "\n",
        "y_final_log_N1 = np.log(df_Uniao['ValorTotalAtualizado'])\n",
        "\n",
        "y_final_log_N1 = y_final_log_N1[:,np.newaxis]"
      ]
    },
    {
      "cell_type": "code",
      "execution_count": null,
      "metadata": {
        "id": "Nvt1vf3mEsSA"
      },
      "outputs": [],
      "source": [
        "# U2\n",
        "\n",
        "col_list = df_Uniao.columns.tolist()\n",
        "\n",
        "listaaremover = ['Fonte', 'Id', 'Município', 'UF', 'TipologiaMunicipalIBGE', 'IVS_2010', 'TaxaHomicidios_2019',\n",
        "       'TipoImovel', 'CUBJan22', 'VidaUtil', 'AreaConstruidaTratada',\n",
        "       'AreaProjetadaTratada', 'IndiceFipeZapAvaliacao', 'IndiceFipeZapJan22',\n",
        "       'ValorTotalAtualizado', 'ValorUnitarioAtualizado', 'CodigoAP', 'NomeAP',\n",
        "       '% Superior Completo', '% Rede Geral de Distribuicao de Agua',\n",
        "       '% Microcomputador com Acesso a Internet', 'xcoord', 'ycoord', 'LatLong',\n",
        "       'qtd_equipamento', 'qtd_hospital',\n",
        "       'qtd_parque', 'qtd_delegacia', 'qtd_escola',\n",
        "       'qtd_universidade', 'qtd_atracaoturistica', 'qtd_supermercado',\n",
        "       'qtd_restaurante', 'qtd_padaria', 'qtd_cafeteria', 'qtd_loja', 'qtd_parada_onibus', 'qtd_estacao_vlt',\n",
        "       'qtd_estacao_metro', 'qtd_estacao_trem', 'qtd_aeroporto',\n",
        "       'acessibilidade', 'GoogleTrends2022', 'GrauUrbanizacaoIBGE', 'Rendimento Domiciliar Medio', 'qtd_shopping', 'qtd_estabelecimento']\n",
        "\n",
        "for e in listaaremover:\n",
        "  col_list.remove(e)\n",
        "\n",
        "X_final_log_N2 = df_Uniao[col_list]\n",
        "\n",
        "y_final_log_N2 = np.log(df_Uniao['ValorTotalAtualizado'])\n",
        "\n",
        "y_final_log_N2 = y_final_log_N2[:,np.newaxis]"
      ]
    },
    {
      "cell_type": "code",
      "execution_count": null,
      "metadata": {
        "id": "CjWogmpNshye"
      },
      "outputs": [],
      "source": [
        "# U3\n",
        "\n",
        "col_list = df_Uniao.columns.tolist()\n",
        "\n",
        "listaaremover = ['Fonte', 'Id', 'Município', 'UF', 'TipologiaMunicipalIBGE', 'IVS_2010', 'TaxaHomicidios_2019',\n",
        "       'TipoImovel', 'CUBJan22', 'VidaUtil', 'AreaConstruidaTratada',\n",
        "       'AreaProjetadaTratada', 'IndiceFipeZapAvaliacao', 'IndiceFipeZapJan22',\n",
        "       'ValorTotalAtualizado', 'ValorUnitarioAtualizado', 'CodigoAP', 'NomeAP',\n",
        "       '% Superior Completo', '% Rede Geral de Distribuicao de Agua',\n",
        "       '% Microcomputador com Acesso a Internet', 'xcoord', 'ycoord', 'LatLong', 'qtd_hospital',\n",
        "       'qtd_parque', 'qtd_delegacia', 'qtd_escola',\n",
        "       'qtd_universidade', 'qtd_atracaoturistica', 'qtd_supermercado',\n",
        "       'qtd_restaurante', 'qtd_padaria', 'qtd_cafeteria', 'qtd_loja', 'qtd_parada_onibus', 'qtd_estacao_vlt',\n",
        "       'qtd_estacao_metro', 'qtd_estacao_trem', 'qtd_aeroporto',\n",
        "       'acessibilidade', 'GoogleTrends2022', 'GrauUrbanizacaoIBGE']\n",
        "\n",
        "for e in listaaremover:\n",
        "  col_list.remove(e)\n",
        "\n",
        "X_final_log_N3 = df_Uniao[col_list]\n",
        "\n",
        "y_final_log_N3 = np.log(df_Uniao['ValorTotalAtualizado'])\n",
        "\n",
        "y_final_log_N3 = y_final_log_N3[:,np.newaxis]"
      ]
    },
    {
      "cell_type": "code",
      "execution_count": null,
      "metadata": {
        "id": "leydCKtPxBix"
      },
      "outputs": [],
      "source": [
        "X_final_log_N3.dtypes"
      ]
    },
    {
      "cell_type": "code",
      "execution_count": null,
      "metadata": {
        "id": "Ii4qaTyUnGwo"
      },
      "outputs": [],
      "source": [
        "logArea = np.log(df_Uniao.loc[:,'AreaProjetadaTratada'])\n",
        "\n",
        "X_final_log_N1.loc[:,'logArea'] = logArea\n",
        "X_final_log_N2.loc[:,'logArea'] = logArea\n",
        "X_final_log_N3.loc[:,'logArea'] = logArea"
      ]
    },
    {
      "cell_type": "code",
      "execution_count": null,
      "metadata": {
        "id": "kSE5afWd7afb"
      },
      "outputs": [],
      "source": [
        "X_train_log_N1, X_test_log_N1, y_train_log_N1, y_test_log_N1 = train_test_split(X_final_log_N1, y_final_log_N1, test_size=0.33, shuffle=True, random_state=7, stratify=X_final_log_N1['Vocacao'])"
      ]
    },
    {
      "cell_type": "code",
      "execution_count": null,
      "metadata": {
        "id": "JQL47epEFDmC"
      },
      "outputs": [],
      "source": [
        "X_train_log_N2, X_test_log_N2, y_train_log_N2, y_test_log_N2 = train_test_split(X_final_log_N2, y_final_log_N2, test_size=0.33, shuffle=True, random_state=7, stratify=X_final_log_N2['Vocacao'])"
      ]
    },
    {
      "cell_type": "code",
      "execution_count": null,
      "metadata": {
        "id": "U-IDs59vtJEa"
      },
      "outputs": [],
      "source": [
        "X_train_log_N3, X_test_log_N3, y_train_log_N3, y_test_log_N3 = train_test_split(X_final_log_N3, y_final_log_N3, test_size=0.33, shuffle=True, random_state=7, stratify=X_final_log_N3['Vocacao'])"
      ]
    },
    {
      "cell_type": "code",
      "execution_count": null,
      "metadata": {
        "id": "sFcFfzeauIY8"
      },
      "outputs": [],
      "source": [
        "X_train_log_N1 = pd.get_dummies(X_train_log_N1, columns = ['Vocacao'])\n",
        "X_test_log_N1 = pd.get_dummies(X_test_log_N1, columns = ['Vocacao'])"
      ]
    },
    {
      "cell_type": "code",
      "execution_count": null,
      "metadata": {
        "id": "Wvw7nIUNFcLm"
      },
      "outputs": [],
      "source": [
        "X_train_log_N2 = pd.get_dummies(X_train_log_N2, columns = ['Vocacao'])\n",
        "X_test_log_N2 = pd.get_dummies(X_test_log_N2, columns = ['Vocacao'])"
      ]
    },
    {
      "cell_type": "code",
      "execution_count": null,
      "metadata": {
        "id": "CbGcjeTB8FXc"
      },
      "outputs": [],
      "source": [
        "X_train_log_N3 = pd.get_dummies(X_train_log_N3, columns = ['Vocacao'])\n",
        "X_test_log_N3 = pd.get_dummies(X_test_log_N3, columns = ['Vocacao'])"
      ]
    },
    {
      "cell_type": "code",
      "execution_count": null,
      "metadata": {
        "id": "r5CZKc4BAAP9"
      },
      "outputs": [],
      "source": [
        "X_train_log_N1.columns"
      ]
    },
    {
      "cell_type": "code",
      "execution_count": null,
      "metadata": {
        "id": "H_9jRv7WFiN1"
      },
      "outputs": [],
      "source": [
        "X_train_log_N2.columns"
      ]
    },
    {
      "cell_type": "code",
      "execution_count": null,
      "metadata": {
        "id": "Iszf__1PBC72"
      },
      "outputs": [],
      "source": [
        "X_train_log_N3.columns"
      ]
    },
    {
      "cell_type": "code",
      "execution_count": null,
      "metadata": {
        "id": "IMzX9NXP_91W"
      },
      "outputs": [],
      "source": [
        "# U1\n",
        "\n",
        "mms_N1_A = MinMaxScaler()\n",
        "\n",
        "X_train_log_N1[['CapitalUF', 'IDHM_2010', 'Terreno', 'CUB*AreaConstruida',\n",
        "       'Vocacao_Comercial', 'Vocacao_Institucional', 'Vocacao_Misto',\n",
        "       'Vocacao_Residencial']] = mms_N1_A.fit_transform(X_train_log_N1[['CapitalUF', 'IDHM_2010', 'Terreno', 'CUB*AreaConstruida',\n",
        "       'Vocacao_Comercial', 'Vocacao_Institucional', 'Vocacao_Misto',\n",
        "       'Vocacao_Residencial']])\n",
        "\n",
        "X_test_log_N1[['CapitalUF', 'IDHM_2010', 'Terreno', 'CUB*AreaConstruida',\n",
        "       'Vocacao_Comercial', 'Vocacao_Institucional', 'Vocacao_Misto',\n",
        "       'Vocacao_Residencial']] = mms_N1_A.transform(X_test_log_N1[['CapitalUF', 'IDHM_2010', 'Terreno', 'CUB*AreaConstruida',\n",
        "       'Vocacao_Comercial', 'Vocacao_Institucional', 'Vocacao_Misto',\n",
        "       'Vocacao_Residencial']])"
      ]
    },
    {
      "cell_type": "code",
      "execution_count": null,
      "metadata": {
        "id": "-M0XADP8Fg6d"
      },
      "outputs": [],
      "source": [
        "# U2\n",
        "\n",
        "mms_N2_A = MinMaxScaler()\n",
        "\n",
        "X_train_log_N2[['CapitalUF', 'IDHM_2010', 'Terreno', 'IdadeAparente',\n",
        "       'CUB*AreaConstruida', 'Vocacao_Comercial',\n",
        "       'Vocacao_Institucional', 'Vocacao_Misto', 'Vocacao_Residencial']] = mms_N2_A.fit_transform(X_train_log_N2[['CapitalUF', 'IDHM_2010', 'Terreno', 'IdadeAparente',\n",
        "       'CUB*AreaConstruida', 'Vocacao_Comercial',\n",
        "       'Vocacao_Institucional', 'Vocacao_Misto', 'Vocacao_Residencial']])\n",
        "\n",
        "X_test_log_N2[['CapitalUF', 'IDHM_2010', 'Terreno', 'IdadeAparente',\n",
        "       'CUB*AreaConstruida', 'Vocacao_Comercial',\n",
        "       'Vocacao_Institucional', 'Vocacao_Misto', 'Vocacao_Residencial']] = mms_N2_A.transform(X_test_log_N2[['CapitalUF', 'IDHM_2010', 'Terreno', 'IdadeAparente',\n",
        "       'CUB*AreaConstruida', 'Vocacao_Comercial',\n",
        "       'Vocacao_Institucional', 'Vocacao_Misto', 'Vocacao_Residencial']])"
      ]
    },
    {
      "cell_type": "code",
      "execution_count": null,
      "metadata": {
        "id": "KC_8OyDQT8mg"
      },
      "outputs": [],
      "source": [
        "# U3\n",
        "\n",
        "mms_N3_A = MinMaxScaler()\n",
        "\n",
        "X_train_log_N3[['CapitalUF', 'IDHM_2010', 'Terreno', 'IdadeAparente',\n",
        "       'Rendimento Domiciliar Medio', 'qtd_equipamento',\n",
        "       'qtd_shopping', 'qtd_estabelecimento', 'CUB*AreaConstruida', 'Vocacao_Comercial', 'Vocacao_Institucional',\n",
        "       'Vocacao_Misto', 'Vocacao_Residencial']] = mms_N3_A.fit_transform(X_train_log_N3[['CapitalUF', 'IDHM_2010', 'Terreno', 'IdadeAparente',\n",
        "       'Rendimento Domiciliar Medio', 'qtd_equipamento',\n",
        "       'qtd_shopping', 'qtd_estabelecimento', 'CUB*AreaConstruida', 'Vocacao_Comercial', 'Vocacao_Institucional',\n",
        "       'Vocacao_Misto', 'Vocacao_Residencial']])\n",
        "\n",
        "X_test_log_N3[['CapitalUF', 'IDHM_2010', 'Terreno', 'IdadeAparente',\n",
        "       'Rendimento Domiciliar Medio', 'qtd_equipamento_semshopping',\n",
        "       'qtd_shopping', 'qtd_estabelecimento', 'CUB*AreaConstruida', 'Vocacao_Comercial', 'Vocacao_Institucional',\n",
        "       'Vocacao_Misto', 'Vocacao_Residencial']] = mms_N3_A.transform(X_test_log_N3[['CapitalUF', 'IDHM_2010', 'Terreno', 'IdadeAparente',\n",
        "       'Rendimento Domiciliar Medio', 'qtd_equipamento_semshopping',\n",
        "       'qtd_shopping', 'qtd_estabelecimento', 'CUB*AreaConstruida', 'Vocacao_Comercial', 'Vocacao_Institucional',\n",
        "       'Vocacao_Misto', 'Vocacao_Residencial']])"
      ]
    },
    {
      "cell_type": "markdown",
      "metadata": {
        "id": "8qpLE0Rlzq4Y"
      },
      "source": [
        "### Cenário B"
      ]
    },
    {
      "cell_type": "code",
      "execution_count": null,
      "metadata": {
        "id": "vlVFHwfh1bki"
      },
      "outputs": [],
      "source": [
        "df_EB = df_Uniao[df_Uniao.Fonte == \"EB\"].sample(130,random_state=0)"
      ]
    },
    {
      "cell_type": "code",
      "execution_count": null,
      "metadata": {
        "id": "JCr3zurD1cGd"
      },
      "outputs": [],
      "source": [
        "df_EB.head()"
      ]
    },
    {
      "cell_type": "code",
      "execution_count": null,
      "metadata": {
        "id": "p5MgYFge1pJC"
      },
      "outputs": [],
      "source": [
        "df_EB.describe()"
      ]
    },
    {
      "cell_type": "code",
      "execution_count": null,
      "metadata": {
        "id": "D-m1M3gM10_z"
      },
      "outputs": [],
      "source": [
        "df_Uniao_reduzido = df_Uniao.drop(df_EB.index)"
      ]
    },
    {
      "cell_type": "code",
      "execution_count": null,
      "metadata": {
        "id": "1RN_ICLt2S19"
      },
      "outputs": [],
      "source": [
        "df_Uniao_reduzido.head()"
      ]
    },
    {
      "cell_type": "code",
      "execution_count": null,
      "metadata": {
        "id": "jMRmPQFj2NR-"
      },
      "outputs": [],
      "source": [
        "df_Uniao_reduzido.describe()"
      ]
    },
    {
      "cell_type": "code",
      "execution_count": null,
      "metadata": {
        "id": "W_v_pM1LA223"
      },
      "outputs": [],
      "source": [
        "df_Uniao_reduzido.isna().sum()"
      ]
    },
    {
      "cell_type": "code",
      "execution_count": null,
      "metadata": {
        "id": "QV95E3r82lXe"
      },
      "outputs": [],
      "source": [
        "# U1, U2 e U3 (Cenário B)\n",
        "\n",
        "col_list = df_Uniao.columns.tolist()\n",
        "\n",
        "listaaremover = ['Fonte', 'Id', 'Município', 'UF', 'TipologiaMunicipalIBGE', 'IVS_2010', 'TaxaHomicidios_2019',\n",
        "       'TipoImovel', 'CUBJan22', 'VidaUtil', 'AreaConstruidaTratada',\n",
        "       'AreaProjetadaTratada', 'IndiceFipeZapAvaliacao', 'IndiceFipeZapJan22',\n",
        "       'ValorTotalAtualizado', 'ValorUnitarioAtualizado', 'CodigoAP', 'NomeAP',\n",
        "       '% Superior Completo', '% Rede Geral de Distribuicao de Agua',\n",
        "       '% Microcomputador com Acesso a Internet', 'xcoord', 'ycoord', 'LatLong', 'qtd_hospital',\n",
        "       'qtd_parque', 'qtd_delegacia', 'qtd_escola',\n",
        "       'qtd_universidade', 'qtd_atracaoturistica', 'qtd_supermercado',\n",
        "       'qtd_restaurante', 'qtd_padaria', 'qtd_cafeteria', 'qtd_loja', 'qtd_parada_onibus', 'qtd_estacao_vlt',\n",
        "       'qtd_estacao_metro', 'qtd_estacao_trem', 'qtd_aeroporto',\n",
        "       'acessibilidade', 'GoogleTrends2022', 'GrauUrbanizacaoIBGE']\n",
        "\n",
        "for e in listaaremover:\n",
        "  col_list.remove(e)\n",
        "\n",
        "X_final_log_reduzido = df_Uniao_reduzido[col_list]\n",
        "X_final_log_EB = df_EB[col_list]\n",
        "\n",
        "y_final_log_reduzido = np.log(df_Uniao_reduzido['ValorTotalAtualizado'])\n",
        "y_final_log_EB = np.log(df_EB['ValorTotalAtualizado'])\n",
        "\n",
        "y_final_log_reduzido = y_final_log_reduzido[:,np.newaxis]\n",
        "y_final_log_EB = y_final_log_EB[:,np.newaxis]"
      ]
    },
    {
      "cell_type": "code",
      "execution_count": null,
      "metadata": {
        "id": "Bx4dgClY3ItT"
      },
      "outputs": [],
      "source": [
        "logArea_reduzido = np.log(df_Uniao_reduzido.loc[:,'AreaProjetadaTratada'])\n",
        "logArea_EB = np.log(df_EB.loc[:,'AreaProjetadaTratada'])\n",
        "\n",
        "X_final_log_reduzido['logArea'] = logArea_reduzido\n",
        "X_final_log_EB['logArea'] = logArea_EB"
      ]
    },
    {
      "cell_type": "code",
      "execution_count": null,
      "metadata": {
        "id": "nIzwSJ1WGc1V"
      },
      "outputs": [],
      "source": [
        "X_final_log_reduzido = pd.get_dummies(X_final_log_reduzido, columns = ['Vocacao'])\n",
        "X_final_log_EB = pd.get_dummies(X_final_log_EB, columns = ['Vocacao'])"
      ]
    },
    {
      "cell_type": "code",
      "execution_count": null,
      "metadata": {
        "id": "7HywLi1j34iy"
      },
      "outputs": [],
      "source": [
        "X_final_log_reduzido.columns"
      ]
    },
    {
      "cell_type": "code",
      "execution_count": null,
      "metadata": {
        "id": "4qLymH6rGPY9"
      },
      "outputs": [],
      "source": [
        "X_final_log_EB.columns"
      ]
    },
    {
      "cell_type": "code",
      "execution_count": null,
      "metadata": {
        "id": "oeDvHP8cXVGB"
      },
      "outputs": [],
      "source": [
        "# Transformação de Variáveis\n",
        "\n",
        "mms_B = MinMaxScaler()\n",
        "\n",
        "X_final_log_reduzido[['CapitalUF', 'IDHM_2010', 'Terreno', 'IdadeAparente',\n",
        "       'Rendimento Domiciliar Medio', 'qtd_equipamento',\n",
        "       'qtd_shopping', 'qtd_estabelecimento', 'CUB*AreaConstruida',\n",
        "       'Vocacao_Comercial', 'Vocacao_Institucional', 'Vocacao_Misto',\n",
        "       'Vocacao_Residencial']] = mms_B.fit_transform(X_final_log_reduzido[['CapitalUF', 'IDHM_2010', 'Terreno', 'IdadeAparente',\n",
        "       'Rendimento Domiciliar Medio', 'qtd_equipamento',\n",
        "       'qtd_shopping', 'qtd_estabelecimento', 'CUB*AreaConstruida',\n",
        "       'Vocacao_Comercial', 'Vocacao_Institucional', 'Vocacao_Misto',\n",
        "       'Vocacao_Residencial']])\n",
        "\n",
        "X_final_log_EB[['CapitalUF', 'IDHM_2010', 'Terreno', 'IdadeAparente',\n",
        "       'Rendimento Domiciliar Medio', 'qtd_equipamento',\n",
        "       'qtd_shopping', 'qtd_estabelecimento', 'CUB*AreaConstruida',\n",
        "       'Vocacao_Comercial', 'Vocacao_Institucional', 'Vocacao_Misto',\n",
        "       'Vocacao_Residencial']] = mms_B.transform(X_final_log_EB[['CapitalUF', 'IDHM_2010', 'Terreno', 'IdadeAparente',\n",
        "       'Rendimento Domiciliar Medio', 'qtd_equipamento',\n",
        "       'qtd_shopping', 'qtd_estabelecimento', 'CUB*AreaConstruida',\n",
        "       'Vocacao_Comercial', 'Vocacao_Institucional', 'Vocacao_Misto',\n",
        "       'Vocacao_Residencial']])"
      ]
    },
    {
      "cell_type": "code",
      "execution_count": null,
      "metadata": {
        "id": "P_FdhPVUo3Mo"
      },
      "outputs": [],
      "source": [
        "X_final_log_reduzido.columns"
      ]
    },
    {
      "cell_type": "code",
      "execution_count": null,
      "metadata": {
        "id": "3czy9n0jUhDO"
      },
      "outputs": [],
      "source": [
        "X_trainB_N1 = X_final_log_reduzido[['CapitalUF', 'IDHM_2010', 'Terreno', \n",
        "      'CUB*AreaConstruida', 'logArea',\n",
        "      'Vocacao_Comercial', 'Vocacao_Institucional', 'Vocacao_Misto',\n",
        "      'Vocacao_Residencial']]\n",
        "\n",
        "X_trainB_N2 = X_final_log_reduzido[['CapitalUF', 'IDHM_2010', 'Terreno', 'IdadeAparente', \n",
        "      'CUB*AreaConstruida', 'logArea',\n",
        "      'Vocacao_Comercial', 'Vocacao_Institucional', 'Vocacao_Misto',\n",
        "      'Vocacao_Residencial']]\n",
        "\n",
        "X_trainB_N3 = X_final_log_reduzido[['CapitalUF', 'IDHM_2010', 'Terreno', 'IdadeAparente',\n",
        "       'Rendimento Domiciliar Medio', 'qtd_equipamento',\n",
        "       'qtd_shopping', 'qtd_estabelecimento', 'CUB*AreaConstruida', 'logArea',\n",
        "       'Vocacao_Comercial', 'Vocacao_Institucional', 'Vocacao_Misto',\n",
        "       'Vocacao_Residencial']]"
      ]
    },
    {
      "cell_type": "code",
      "execution_count": null,
      "metadata": {
        "id": "TS0KfZVSYTUF"
      },
      "outputs": [],
      "source": [
        "X_testeEB_N1 = X_final_log_EB[['CapitalUF', 'IDHM_2010', 'Terreno', \n",
        "      'CUB*AreaConstruida', 'logArea',\n",
        "      'Vocacao_Comercial', 'Vocacao_Institucional', 'Vocacao_Misto',\n",
        "      'Vocacao_Residencial']]\n",
        "\n",
        "X_testeEB_N2 = X_final_log_EB[['CapitalUF', 'IDHM_2010', 'Terreno', 'IdadeAparente', \n",
        "      'CUB*AreaConstruida', 'logArea',\n",
        "      'Vocacao_Comercial', 'Vocacao_Institucional', 'Vocacao_Misto',\n",
        "      'Vocacao_Residencial']]\n",
        "\n",
        "X_testeEB_N3 = X_final_log_EB[['CapitalUF', 'IDHM_2010', 'Terreno', 'IdadeAparenteCategorica',\n",
        "       'Rendimento Domiciliar Medio', 'qtd_equipamento',\n",
        "       'qtd_shopping', 'qtd_estabelecimento', 'CUB*AreaConstruida', 'logArea',\n",
        "       'Vocacao_Comercial', 'Vocacao_Institucional', 'Vocacao_Misto',\n",
        "       'Vocacao_Residencial']]"
      ]
    },
    {
      "cell_type": "code",
      "execution_count": null,
      "metadata": {
        "id": "OWmF5ymuBN1e"
      },
      "outputs": [],
      "source": [
        "X_final_log_reduzido.isna().sum()"
      ]
    },
    {
      "cell_type": "markdown",
      "metadata": {
        "id": "zr6qib0JssAp"
      },
      "source": [
        "## Modelagem Não Linear (ANN)"
      ]
    },
    {
      "cell_type": "markdown",
      "metadata": {
        "id": "NcxTVRGtD2Nd"
      },
      "source": [
        "### Definições Gerais"
      ]
    },
    {
      "cell_type": "code",
      "execution_count": null,
      "metadata": {
        "id": "YTFUtCjAEjdY"
      },
      "outputs": [],
      "source": [
        "# Validação Cruzada (testes de 2 a 15 folds)\n",
        "\n",
        "cv = KFold(n_splits=10, random_state=0, shuffle=True)"
      ]
    },
    {
      "cell_type": "code",
      "execution_count": null,
      "metadata": {
        "id": "QofR1owTEotn"
      },
      "outputs": [],
      "source": [
        "# t de Student para cálculo do IC\n",
        "\n",
        "t_student_bicaudal_90 = 1.645"
      ]
    },
    {
      "cell_type": "markdown",
      "metadata": {
        "id": "xUG_tL3hEmGX"
      },
      "source": [
        "### Cenário A"
      ]
    },
    {
      "cell_type": "code",
      "execution_count": null,
      "metadata": {
        "id": "SbFd-kOfwfxR"
      },
      "outputs": [],
      "source": [
        "grid = { \n",
        "    'hidden_layer_sizes': [(7,),(8,),(100,),(7,7),(8,8),(7,7,7),(8,8,8)],\n",
        "    'activation': ['relu', 'tanh'],\n",
        "    'solver': ['adam','sgd'],\n",
        "    'learning_rate_init': [0.1,0.01,0.001,0.0001],\n",
        "    'random_state': [0, 1, 12, 123, 1234, 12345]\n",
        "}\n",
        "\n",
        "# números de neurônios nas camadas ocultas testados como semissoma dos atributos de entrada e de saída, além da configuração padrão do MLPRegressor"
      ]
    },
    {
      "cell_type": "code",
      "execution_count": null,
      "metadata": {
        "id": "xIa0EhJJx234"
      },
      "outputs": [],
      "source": [
        "ann_cv = GridSearchCV(estimator=MLPRegressor(), param_grid=grid, cv=10, scoring='r2)\n",
        "ann_cv.fit(X_train_log_N3, y_train_log_N3.ravel())\n",
        "\n",
        "ann_cv.best_params_"
      ]
    },
    {
      "cell_type": "markdown",
      "metadata": {
        "id": "KpxnyaBZfZMH"
      },
      "source": [
        "melhores parâmetros para U3: {'activation': 'tanh',\n",
        " 'hidden_layer_sizes': (8, 8),\n",
        " 'learning_rate_init': 0.01,\n",
        " 'random_state': 1,\n",
        " 'solver': 'adam'}"
      ]
    },
    {
      "cell_type": "code",
      "execution_count": null,
      "metadata": {
        "id": "2uuG9AAEzYbJ"
      },
      "outputs": [],
      "source": [
        "ann_cv.best_score_"
      ]
    },
    {
      "cell_type": "markdown",
      "metadata": {
        "id": "PaGjSSYeFGKe"
      },
      "source": [
        "#### U1"
      ]
    },
    {
      "cell_type": "code",
      "execution_count": null,
      "metadata": {
        "id": "2eYnQ7_otq0g"
      },
      "outputs": [],
      "source": [
        "ann_reg_A_N1 = MLPRegressor(hidden_layer_sizes=(5,5), activation='tanh', solver='adam', alpha=0.1, batch_size='auto', learning_rate='constant', learning_rate_init=0.01, power_t=0.5, shuffle=True, random_state=1, verbose=False, warm_start=False, nesterovs_momentum=True, early_stopping=False, validation_fraction=0.2, max_iter = 500)"
      ]
    },
    {
      "cell_type": "code",
      "execution_count": null,
      "metadata": {
        "id": "zgaKswtRuxSw"
      },
      "outputs": [],
      "source": [
        "ann_reg_A_N1.fit(X_train_log_N1, y_train_log_N1.ravel())\n",
        "\n",
        "preds_ann = ann_reg_A_N1.predict(X_test_log_N1)"
      ]
    },
    {
      "cell_type": "code",
      "execution_count": null,
      "metadata": {
        "id": "eaqfjBXGxJa6"
      },
      "outputs": [],
      "source": [
        "rmse = np.sqrt(mean_squared_error(y_test_log_N1, preds_ann))\n",
        "print(\"RMSE: %f\" % (rmse))"
      ]
    },
    {
      "cell_type": "code",
      "execution_count": null,
      "metadata": {
        "id": "LmDXR90uxVV3"
      },
      "outputs": [],
      "source": [
        "scores_log_ann = cross_val_score(ann_reg_A_N1, X_train_log_N1, y_train_log_N1.ravel(), scoring='r2', cv=cv)"
      ]
    },
    {
      "cell_type": "code",
      "execution_count": null,
      "metadata": {
        "id": "5Pgk9WtPx1f6"
      },
      "outputs": [],
      "source": [
        "print('Coeficiente de Determinação Médio (R2) para os 10 folds (ANN): %.4f (dp: %.4f)' % (mean(scores_log_ann), std(scores_log_ann)))"
      ]
    },
    {
      "cell_type": "code",
      "execution_count": null,
      "metadata": {
        "id": "aOCJ-LRsuRCm"
      },
      "outputs": [],
      "source": [
        "Y_hat_train_ann = ann_reg_A_N1.predict(X_train_log_N1)\n",
        "\n",
        "rmse_train = np.sqrt(mean_squared_error(y_train_log_N1,Y_hat_train_ann))\n",
        "RSQ_train = r2_score(y_train_log_N1,Y_hat_train_ann)\n",
        "MBE_train = np.mean(y_train_log_N1 - Y_hat_train_ann)\n",
        "MAE_train = np.mean(abs(y_train_log_N1 - Y_hat_train_ann))\n",
        "STD_train = np.std(y_train_log_N1 - Y_hat_train_ann)\n",
        "# ################################################################\n",
        "# ################################################################\n",
        "print(\"############ Avaliação do Modelo no Conjunto de Treinamento ############\")\n",
        "print(\"RMSE: %0.4f\" % rmse_train)\n",
        "print(\"R2: %0.4f\" % RSQ_train)\n",
        "print(\"MBE: %0.4f\" % MBE_train)\n",
        "print(\"MAE: %0.4f\" % MAE_train)\n",
        "print(\"STD: %0.4f\" % STD_train)\n",
        "print(\"########################################\")\n",
        "print(\" \")\n",
        "# #----------------------------------------------------------------------------------------------------------\n",
        "# # AVALIAÇÃO DO MODELO\n",
        "# #----------------------------------------------------------------------------------------------------------\n",
        "Y_hat_test_ann = ann_reg_A_N1.predict(X_test_log_N1)\n",
        "\n",
        "rmse_test = np.sqrt(mean_squared_error(y_test_log_N1,Y_hat_test_ann))\n",
        "RSQ_test = r2_score(y_test_log_N1,Y_hat_test_ann)\n",
        "MBE_test = np.mean(y_test_log_N1 - Y_hat_test_ann)\n",
        "MAE_test = np.mean(abs(y_test_log_N1 - Y_hat_test_ann))\n",
        "STD_test = np.std(y_test_log_N1 - Y_hat_test_ann)\n",
        "# ################################################################\n",
        "# ################################################################\n",
        "print(\"############ Avaliação do Modelo no Conjunto de Teste ############\")\n",
        "print(\"RMSE: %0.4f\" % rmse_test)\n",
        "print(\"R2: %0.4f\" % RSQ_test)\n",
        "print(\"MBE: %0.4f\" % MBE_test)\n",
        "print(\"MAE: %0.4f\" % MAE_test)\n",
        "print(\"STD: %0.4f\" % STD_test)\n",
        "print(\"########################################\")\n",
        "print(\" \")"
      ]
    },
    {
      "cell_type": "code",
      "execution_count": null,
      "metadata": {
        "id": "m_NKnrPIqn2Q"
      },
      "outputs": [],
      "source": [
        "residuos_U1_A = y_test_log_N1 - Y_hat_test_ann"
      ]
    },
    {
      "cell_type": "code",
      "execution_count": null,
      "metadata": {
        "id": "AHNIvnKeqsdE"
      },
      "outputs": [],
      "source": [
        "ecdf = ECDF(residuos_U1_A.ravel())\n",
        "ecdf_neg_U1_A = ecdf(0)\n",
        "ecdf_neg_U1_A"
      ]
    },
    {
      "cell_type": "code",
      "execution_count": null,
      "metadata": {
        "id": "yB5_GjrHHMzY"
      },
      "outputs": [],
      "source": [
        "# Intervalo de Confiança U1 (ANN) - Cenário A\n",
        "\n",
        "dif_relativa_sup = math.exp(rmse_test * (1 - ecdf_neg_U1_A) + t_student_bicaudal_90 * STD_test / (len(y_test_log_N1)**(0.5)))\n",
        "dif_relativa_inf = math.exp(- rmse_test * ecdf_neg_U1_A - t_student_bicaudal_90 * STD_test / (len(y_test_log_N1)**(0.5)))\n",
        "\n",
        "print(\"Semiamplitude Superior do IC 90 U1 (Cenário A): %0.4f\" % (dif_relativa_sup - 1))\n",
        "print(\"Semiamplitude Inferior do IC 90 U1 (Cenário A): %0.4f\" % (dif_relativa_inf - 1))"
      ]
    },
    {
      "cell_type": "markdown",
      "metadata": {
        "id": "mqwE0vqoHWid"
      },
      "source": [
        "#### U2"
      ]
    },
    {
      "cell_type": "code",
      "execution_count": null,
      "metadata": {
        "id": "FH3DiUgFHfGB"
      },
      "outputs": [],
      "source": [
        "ann_reg_A_N2 = MLPRegressor(hidden_layer_sizes=(6,6), activation='tanh', solver='adam', alpha=0.1, batch_size='auto', learning_rate='constant', learning_rate_init=0.01, power_t=0.5, shuffle=True, random_state=1, verbose=False, warm_start=False, nesterovs_momentum=True, early_stopping=False, validation_fraction=0.2, max_iter = 500)"
      ]
    },
    {
      "cell_type": "code",
      "execution_count": null,
      "metadata": {
        "id": "KbiFsAjsH4Zr"
      },
      "outputs": [],
      "source": [
        "ann_reg_A_N2.fit(X_train_log_N2, y_train_log_N2.ravel())\n",
        "\n",
        "preds_ann = ann_reg_A_N2.predict(X_test_log_N2)"
      ]
    },
    {
      "cell_type": "code",
      "execution_count": null,
      "metadata": {
        "id": "NKyjEfdrH79i"
      },
      "outputs": [],
      "source": [
        "rmse = np.sqrt(mean_squared_error(y_test_log_N2, preds_ann))\n",
        "print(\"RMSE: %f\" % (rmse))"
      ]
    },
    {
      "cell_type": "code",
      "execution_count": null,
      "metadata": {
        "id": "Ql2jqNbzIFJG"
      },
      "outputs": [],
      "source": [
        "scores_log_ann = cross_val_score(ann_reg_A_N2, X_train_log_N2, y_train_log_N2.ravel(), scoring='r2', cv=cv)"
      ]
    },
    {
      "cell_type": "code",
      "execution_count": null,
      "metadata": {
        "id": "EpcOHg-eILKe"
      },
      "outputs": [],
      "source": [
        "print('Coeficiente de Determinação Médio (R2) para os 10 folds (ANN): %.4f (dp: %.4f)' % (mean(scores_log_ann), std(scores_log_ann)))"
      ]
    },
    {
      "cell_type": "code",
      "execution_count": null,
      "metadata": {
        "id": "ipPMXXWVIuJt"
      },
      "outputs": [],
      "source": [
        "Y_hat_train_ann = ann_reg_A_N2.predict(X_train_log_N2)\n",
        "\n",
        "rmse_train = np.sqrt(mean_squared_error(y_train_log_N2,Y_hat_train_ann))\n",
        "RSQ_train = r2_score(y_train_log_N2,Y_hat_train_ann)\n",
        "MBE_train = np.mean(y_train_log_N2 - Y_hat_train_ann)\n",
        "MAE_train = np.mean(abs(y_train_log_N2 - Y_hat_train_ann))\n",
        "STD_train = np.std(y_train_log_N2 - Y_hat_train_ann)\n",
        "# ################################################################\n",
        "# ################################################################\n",
        "print(\"############ Avaliação do Modelo no Conjunto de Treinamento ############\")\n",
        "print(\"RMSE: %0.4f\" % rmse_train)\n",
        "print(\"R2: %0.4f\" % RSQ_train)\n",
        "print(\"MBE: %0.4f\" % MBE_train)\n",
        "print(\"MAE: %0.4f\" % MAE_train)\n",
        "print(\"STD: %0.4f\" % STD_train)\n",
        "print(\"########################################\")\n",
        "print(\" \")\n",
        "# #----------------------------------------------------------------------------------------------------------\n",
        "# # AVALIAÇÃO DO MODELO\n",
        "# #----------------------------------------------------------------------------------------------------------\n",
        "Y_hat_test_ann = ann_reg_A_N2.predict(X_test_log_N2)\n",
        "\n",
        "rmse_test = np.sqrt(mean_squared_error(y_test_log_N2,Y_hat_test_ann))\n",
        "RSQ_test = r2_score(y_test_log_N2,Y_hat_test_ann)\n",
        "MBE_test = np.mean(y_test_log_N2 - Y_hat_test_ann)\n",
        "MAE_test = np.mean(abs(y_test_log_N2 - Y_hat_test_ann))\n",
        "STD_test = np.std(y_test_log_N2 - Y_hat_test_ann)\n",
        "# ################################################################\n",
        "# ################################################################\n",
        "print(\"############ Avaliação do Modelo no Conjunto de Teste ############\")\n",
        "print(\"RMSE: %0.4f\" % rmse_test)\n",
        "print(\"R2: %0.4f\" % RSQ_test)\n",
        "print(\"MBE: %0.4f\" % MBE_test)\n",
        "print(\"MAE: %0.4f\" % MAE_test)\n",
        "print(\"STD: %0.4f\" % STD_test)\n",
        "print(\"########################################\")\n",
        "print(\" \")"
      ]
    },
    {
      "cell_type": "code",
      "execution_count": null,
      "metadata": {
        "id": "8yDZOBoEq1fI"
      },
      "outputs": [],
      "source": [
        "residuos_U2_A = y_test_log_N2 - Y_hat_test_ann"
      ]
    },
    {
      "cell_type": "code",
      "execution_count": null,
      "metadata": {
        "id": "9t3yc3CEq81S"
      },
      "outputs": [],
      "source": [
        "ecdf = ECDF(residuos_U2_A.ravel())\n",
        "ecdf_neg_U2_A = ecdf(0)\n",
        "ecdf_neg_U2_A"
      ]
    },
    {
      "cell_type": "code",
      "execution_count": null,
      "metadata": {
        "id": "6ws4tvqUI9S1"
      },
      "outputs": [],
      "source": [
        "# Intervalo de Confiança U2 (ANN) - Cenário A\n",
        "\n",
        "dif_relativa_sup = math.exp(rmse_test * (1 - ecdf_neg_U2_A) + t_student_bicaudal_90 * STD_test / (len(y_test_log_N2)**(0.5)))\n",
        "dif_relativa_inf = math.exp(- rmse_test * ecdf_neg_U2_A - t_student_bicaudal_90 * STD_test / (len(y_test_log_N2)**(0.5)))\n",
        "\n",
        "print(\"Semiamplitude Superior do IC 90 U2 (Cenário A): %0.4f\" % (dif_relativa_sup - 1))\n",
        "print(\"Semiamplitude Inferior do IC 90 U2 (Cenário A): %0.4f\" % (dif_relativa_inf - 1))"
      ]
    },
    {
      "cell_type": "markdown",
      "metadata": {
        "id": "carCSpEpJCa8"
      },
      "source": [
        "#### U3"
      ]
    },
    {
      "cell_type": "code",
      "execution_count": null,
      "metadata": {
        "id": "emCxdG-oJEZK"
      },
      "outputs": [],
      "source": [
        "ann_reg_A_N3 = MLPRegressor(hidden_layer_sizes=(8,8), activation='tanh', solver='adam', alpha=0.1, batch_size='auto', learning_rate='constant', learning_rate_init=0.01, power_t=0.5, shuffle=True, random_state=1, verbose=False, warm_start=False, nesterovs_momentum=True, early_stopping=False, validation_fraction=0.2, max_iter = 500)"
      ]
    },
    {
      "cell_type": "code",
      "execution_count": null,
      "metadata": {
        "id": "pHPHLNRAJKx8"
      },
      "outputs": [],
      "source": [
        "ann_reg_A_N3.fit(X_train_log_N3, y_train_log_N3.ravel())\n",
        "\n",
        "preds_ann = ann_reg_A_N3.predict(X_test_log_N3)"
      ]
    },
    {
      "cell_type": "code",
      "execution_count": null,
      "metadata": {
        "id": "N_MyuiFvJQzE"
      },
      "outputs": [],
      "source": [
        "rmse = np.sqrt(mean_squared_error(y_test_log_N3, preds_ann))\n",
        "print(\"RMSE: %f\" % (rmse))"
      ]
    },
    {
      "cell_type": "code",
      "execution_count": null,
      "metadata": {
        "id": "29aN8JuRJUQD"
      },
      "outputs": [],
      "source": [
        "scores_log_ann = cross_val_score(ann_reg_A_N3, X_train_log_N3, y_train_log_N3.ravel(), scoring='r2', cv=cv)"
      ]
    },
    {
      "cell_type": "code",
      "execution_count": null,
      "metadata": {
        "id": "XjkjOu3OJbB0"
      },
      "outputs": [],
      "source": [
        "print('Coeficiente de Determinação Médio (R2) para os 10 folds (ANN): %.4f (dp: %.4f)' % (mean(scores_log_ann), std(scores_log_ann)))"
      ]
    },
    {
      "cell_type": "code",
      "execution_count": null,
      "metadata": {
        "id": "WIm11jnZJf3L"
      },
      "outputs": [],
      "source": [
        "Y_hat_train_ann = ann_reg_A_N3.predict(X_train_log_N3)\n",
        "\n",
        "rmse_train = np.sqrt(mean_squared_error(y_train_log_N3,Y_hat_train_ann))\n",
        "RSQ_train = r2_score(y_train_log_N3,Y_hat_train_ann)\n",
        "MBE_train = np.mean(y_train_log_N3 - Y_hat_train_ann)\n",
        "MAE_train = np.mean(abs(y_train_log_N3 - Y_hat_train_ann))\n",
        "STD_train = np.std(y_train_log_N3 - Y_hat_train_ann)\n",
        "# ################################################################\n",
        "# ################################################################\n",
        "print(\"############ Avaliação do Modelo no Conjunto de Treinamento ############\")\n",
        "print(\"RMSE: %0.4f\" % rmse_train)\n",
        "print(\"R2: %0.4f\" % RSQ_train)\n",
        "print(\"MBE: %0.4f\" % MBE_train)\n",
        "print(\"MAE: %0.4f\" % MAE_train)\n",
        "print(\"STD: %0.4f\" % STD_train)\n",
        "print(\"########################################\")\n",
        "print(\" \")\n",
        "# #----------------------------------------------------------------------------------------------------------\n",
        "# # AVALIAÇÃO DO MODELO\n",
        "# #----------------------------------------------------------------------------------------------------------\n",
        "Y_hat_test_ann = ann_reg_A_N3.predict(X_test_log_N3)\n",
        "\n",
        "rmse_test = np.sqrt(mean_squared_error(y_test_log_N3,Y_hat_test_ann))\n",
        "RSQ_test = r2_score(y_test_log_N3,Y_hat_test_ann)\n",
        "MBE_test = np.mean(y_test_log_N3 - Y_hat_test_ann)\n",
        "MAE_test = np.mean(abs(y_test_log_N3 - Y_hat_test_ann))\n",
        "STD_test = np.std(y_test_log_N3 - Y_hat_test_ann)\n",
        "# ################################################################\n",
        "# ################################################################\n",
        "print(\"############ Avaliação do Modelo no Conjunto de Teste ############\")\n",
        "print(\"RMSE: %0.4f\" % rmse_test)\n",
        "print(\"R2: %0.4f\" % RSQ_test)\n",
        "print(\"MBE: %0.4f\" % MBE_test)\n",
        "print(\"MAE: %0.4f\" % MAE_test)\n",
        "print(\"STD: %0.4f\" % STD_test)\n",
        "print(\"########################################\")\n",
        "print(\" \")"
      ]
    },
    {
      "cell_type": "code",
      "execution_count": null,
      "metadata": {
        "id": "JEwKwX7_rC11"
      },
      "outputs": [],
      "source": [
        "residuos_U3_A = y_test_log_N3 - Y_hat_test_ann"
      ]
    },
    {
      "cell_type": "code",
      "execution_count": null,
      "metadata": {
        "id": "84WlcxR9rJxZ"
      },
      "outputs": [],
      "source": [
        "ecdf = ECDF(residuos_U3_A.ravel())\n",
        "ecdf_neg_U3_A = ecdf(0)\n",
        "ecdf_neg_U3_A"
      ]
    },
    {
      "cell_type": "code",
      "execution_count": null,
      "metadata": {
        "id": "L0TOKoDaJvZ-"
      },
      "outputs": [],
      "source": [
        "# Intervalo de Confiança U3 (ANN) - Cenário A\n",
        "\n",
        "dif_relativa_sup = math.exp(rmse_test * (1 - ecdf_neg_N3_A) + t_student_bicaudal_90 * STD_test / (len(y_test_log_N3)**(0.5)))\n",
        "dif_relativa_inf = math.exp(- rmse_test * ecdf_neg_N3_A - t_student_bicaudal_90 * STD_test / (len(y_test_log_N3)**(0.5)))\n",
        "\n",
        "print(\"Semiamplitude Superior do IC 90 U3 (Cenário A): %0.4f\" % (dif_relativa_sup - 1))\n",
        "print(\"Semiamplitude Inferior do IC 90 U3 (Cenário A): %0.4f\" % (dif_relativa_inf - 1))"
      ]
    },
    {
      "cell_type": "code",
      "execution_count": null,
      "metadata": {
        "id": "X1YTtUo1btdN"
      },
      "outputs": [],
      "source": [
        "fig = plt.figure(figsize=(15,15))\n",
        "ax = plt.subplot(1,1,1)\n",
        "\n",
        "#ax.plot(Y_hat_train_ann,y_train_log_N3,'go',label='dados de treinamento')\n",
        "#ax.plot(Y_hat_test_ann,y_test_log_N3,'bo',label='dados de teste')\n",
        "\n",
        "ax.plot(Y_hat_train_ann,y_train_log_N3,'go')\n",
        "ax.plot(Y_hat_test_ann,y_test_log_N3,'bo')\n",
        "\n",
        "plt.rcParams.update({'font.size': 10})\n",
        "\n",
        "ax.set_title('Observações vs Projeções do Modelo Não Linear ANN Multilayer Perceptron (Ln Valor Total Atualizado) - Cenário A')\n",
        "plt.rcParams.update({'font.size': 10})\n",
        "ax.set_ylabel('Ln Valores Totais Calculados pelas Instituições Atualizados (JAN 22)')\n",
        "ax.set_xlabel('Projeções do Modelo (Ln Valor Total do Imóvel)')\n",
        "\n",
        "plt.legend(loc=\"lower right\")\n",
        "\n",
        "x_bis = np.linspace(0, 30, 1000)\n",
        "plt.plot(x_bis, x_bis + 0, linestyle='solid', color='red')\n",
        "\n",
        "ax.set_xlim([8, 20])\n",
        "ax.set_ylim([8, 20])"
      ]
    },
    {
      "cell_type": "markdown",
      "metadata": {
        "id": "y0ufLmhX3Z9o"
      },
      "source": [
        "### Cenário B"
      ]
    },
    {
      "cell_type": "markdown",
      "metadata": {
        "id": "BdZIgqa0Khdv"
      },
      "source": [
        "#### U1"
      ]
    },
    {
      "cell_type": "code",
      "execution_count": null,
      "metadata": {
        "id": "65zUPe5VLBZj"
      },
      "outputs": [],
      "source": [
        "ann_reg_B_N1 = MLPRegressor(hidden_layer_sizes=(5,5), activation='tanh', solver='adam', alpha=0.1, batch_size='auto', learning_rate='constant', learning_rate_init=0.01, power_t=0.5, shuffle=True, random_state=1, verbose=False, warm_start=False, nesterovs_momentum=True, early_stopping=False, validation_fraction=0.2, max_iter = 500)"
      ]
    },
    {
      "cell_type": "code",
      "execution_count": null,
      "metadata": {
        "id": "gIeON6NxLRNI"
      },
      "outputs": [],
      "source": [
        "ann_reg_B_N1.fit(X_trainB_N1, y_final_log_reduzido.ravel())\n",
        "\n",
        "preds_ann = ann_reg_B_N1.predict(X_testeEB_N1)"
      ]
    },
    {
      "cell_type": "code",
      "execution_count": null,
      "metadata": {
        "id": "f0vLA77PLfON"
      },
      "outputs": [],
      "source": [
        "scores_log_ann_B = cross_val_score(ann_reg_B_N1, X_trainB_N1, y_final_log_reduzido.ravel(), scoring='r2', cv=cv)"
      ]
    },
    {
      "cell_type": "code",
      "execution_count": null,
      "metadata": {
        "id": "OBJcMaVRLrSE"
      },
      "outputs": [],
      "source": [
        "print('Coeficiente de Determinação Médio (R2) para os 10 folds (XGBoost): %.4f (dp: %.3f)' % (mean(scores_log_ann_B), std(scores_log_ann_B)))"
      ]
    },
    {
      "cell_type": "code",
      "execution_count": null,
      "metadata": {
        "id": "HwkiKjrEL2dJ"
      },
      "outputs": [],
      "source": [
        "Y_hat_train_ann = ann_reg_B_N1.predict(X_trainB_N1)\n",
        "\n",
        "rmse_train = np.sqrt(mean_squared_error(y_final_log_reduzido,Y_hat_train_ann))\n",
        "RSQ_train = r2_score(y_final_log_reduzido,Y_hat_train_ann)\n",
        "MBE_train = np.mean(y_final_log_reduzido - Y_hat_train_ann)\n",
        "MAE_train = np.mean(abs(y_final_log_reduzido - Y_hat_train_ann))\n",
        "STD_train = np.std(y_final_log_reduzido - Y_hat_train_ann)\n",
        "# ################################################################\n",
        "# ################################################################\n",
        "print(\"############ Avaliação do Modelo no Conjunto de Treinamento ############\")\n",
        "print(\"RMSE: %0.3f\" % rmse_train)\n",
        "print(\"R2: %0.3f\" % RSQ_train)\n",
        "print(\"MBE: %0.3f\" % MBE_train)\n",
        "print(\"MAE: %0.3f\" % MAE_train)\n",
        "print(\"STD: %0.3f\" % STD_train)\n",
        "print(\"########################################\")\n",
        "print(\" \")\n",
        "# #----------------------------------------------------------------------------------------------------------\n",
        "# # AVALIAÇÃO DO MODELO\n",
        "# #----------------------------------------------------------------------------------------------------------\n",
        "Y_hat_test_ann = ann_reg_B_N1.predict(X_testeEB_N1)\n",
        "\n",
        "rmse_test = np.sqrt(mean_squared_error(y_final_log_EB,Y_hat_test_ann))\n",
        "RSQ_test = r2_score(y_final_log_EB,Y_hat_test_ann)\n",
        "MBE_test = np.mean(y_final_log_EB - Y_hat_test_ann)\n",
        "MAE_test = np.mean(abs(y_final_log_EB - Y_hat_test_ann))\n",
        "STD_test = np.std(y_final_log_EB - Y_hat_test_ann)\n",
        "# ################################################################\n",
        "# ################################################################\n",
        "print(\"############ Avaliação do Modelo no Conjunto de Teste ############\")\n",
        "print(\"RMSE: %0.3f\" % rmse_test)\n",
        "print(\"R2: %0.3f\" % RSQ_test)\n",
        "print(\"MBE: %0.3f\" % MBE_test)\n",
        "print(\"MAE: %0.3f\" % MAE_test)\n",
        "print(\"STD: %0.3f\" % STD_test)\n",
        "print(\"########################################\")\n",
        "print(\" \")"
      ]
    },
    {
      "cell_type": "code",
      "source": [
        "residuos_U1_B = y_final_log_EB - Y_hat_test_ann"
      ],
      "metadata": {
        "id": "KNMALXxCbarL"
      },
      "execution_count": null,
      "outputs": []
    },
    {
      "cell_type": "code",
      "source": [
        "ecdf = ECDF(residuos_U1_B.ravel())\n",
        "ecdf_neg_U1_B = ecdf(0)\n",
        "ecdf_neg_U1_B"
      ],
      "metadata": {
        "id": "zcwmqms7bfpQ"
      },
      "execution_count": null,
      "outputs": []
    },
    {
      "cell_type": "code",
      "source": [
        "# Intervalo de Confiança U1 (ANN) - Cenário B\n",
        "\n",
        "dif_relativa_sup = math.exp(rmse_test * (1 - ecdf_neg_U1_B) + t_student_bicaudal_90 * STD_test / (len(y_final_log_EB)**(0.5)))\n",
        "dif_relativa_inf = math.exp(- rmse_test * ecdf_neg_U1_B - t_student_bicaudal_90 * STD_test / (len(y_final_log_EB)**(0.5)))\n",
        "\n",
        "print(\"Semiamplitude Superior do IC 90 U1 (Cenário B): %0.4f\" % (dif_relativa_sup - 1))\n",
        "print(\"Semiamplitude Inferior do IC 90 U1 (Cenário B): %0.4f\" % (dif_relativa_inf - 1))"
      ],
      "metadata": {
        "id": "V6fw92lfbn2g"
      },
      "execution_count": null,
      "outputs": []
    },
    {
      "cell_type": "markdown",
      "metadata": {
        "id": "_IXBQi3PNvZr"
      },
      "source": [
        "#### U2"
      ]
    },
    {
      "cell_type": "code",
      "execution_count": null,
      "metadata": {
        "id": "P6IVM1AiN1HF"
      },
      "outputs": [],
      "source": [
        "ann_reg_B_N2 = MLPRegressor(hidden_layer_sizes=(6,6), activation='tanh', solver='adam', alpha=0.1, batch_size='auto', learning_rate='constant', learning_rate_init=0.01, power_t=0.5, shuffle=True, random_state=1, verbose=False, warm_start=False, nesterovs_momentum=True, early_stopping=False, validation_fraction=0.2, max_iter = 500)"
      ]
    },
    {
      "cell_type": "code",
      "execution_count": null,
      "metadata": {
        "id": "Dbr5WJayN5b1"
      },
      "outputs": [],
      "source": [
        "ann_reg_B_N2.fit(X_trainB_N2, y_final_log_reduzido.ravel())\n",
        "\n",
        "preds_ann = ann_reg_B_N2.predict(X_testeEB_N2)"
      ]
    },
    {
      "cell_type": "code",
      "execution_count": null,
      "metadata": {
        "id": "xW2-RSVZOE0A"
      },
      "outputs": [],
      "source": [
        "scores_log_ann_B = cross_val_score(ann_reg_B_N2, X_trainB_N2, y_final_log_reduzido.ravel(), scoring='r2', cv=cv)"
      ]
    },
    {
      "cell_type": "code",
      "execution_count": null,
      "metadata": {
        "id": "XY088ZvVPQF-"
      },
      "outputs": [],
      "source": [
        "print('Coeficiente de Determinação Médio (R2) para os 10 folds (XGBoost): %.4f (dp: %.3f)' % (mean(scores_log_ann_B), std(scores_log_ann_B)))"
      ]
    },
    {
      "cell_type": "code",
      "execution_count": null,
      "metadata": {
        "id": "_jtMvMiZPTsO"
      },
      "outputs": [],
      "source": [
        "Y_hat_train_ann = ann_reg_B_N2.predict(X_trainB_N2)\n",
        "\n",
        "rmse_train = np.sqrt(mean_squared_error(y_final_log_reduzido,Y_hat_train_ann))\n",
        "RSQ_train = r2_score(y_final_log_reduzido,Y_hat_train_ann)\n",
        "MBE_train = np.mean(y_final_log_reduzido - Y_hat_train_ann)\n",
        "MAE_train = np.mean(abs(y_final_log_reduzido - Y_hat_train_ann))\n",
        "STD_train = np.std(y_final_log_reduzido - Y_hat_train_ann)\n",
        "# ################################################################\n",
        "# ################################################################\n",
        "print(\"############ Avaliação do Modelo no Conjunto de Treinamento ############\")\n",
        "print(\"RMSE: %0.3f\" % rmse_train)\n",
        "print(\"R2: %0.3f\" % RSQ_train)\n",
        "print(\"MBE: %0.3f\" % MBE_train)\n",
        "print(\"MAE: %0.3f\" % MAE_train)\n",
        "print(\"STD: %0.3f\" % STD_train)\n",
        "print(\"########################################\")\n",
        "print(\" \")\n",
        "# #----------------------------------------------------------------------------------------------------------\n",
        "# # AVALIAÇÃO DO MODELO\n",
        "# #----------------------------------------------------------------------------------------------------------\n",
        "Y_hat_test_ann = ann_reg_B_N2.predict(X_testeEB_N2)\n",
        "\n",
        "rmse_test = np.sqrt(mean_squared_error(y_final_log_EB,Y_hat_test_ann))\n",
        "RSQ_test = r2_score(y_final_log_EB,Y_hat_test_ann)\n",
        "MBE_test = np.mean(y_final_log_EB - Y_hat_test_ann)\n",
        "MAE_test = np.mean(abs(y_final_log_EB - Y_hat_test_ann))\n",
        "STD_test = np.std(y_final_log_EB - Y_hat_test_ann)\n",
        "# ################################################################\n",
        "# ################################################################\n",
        "print(\"############ Avaliação do Modelo no Conjunto de Teste ############\")\n",
        "print(\"RMSE: %0.3f\" % rmse_test)\n",
        "print(\"R2: %0.3f\" % RSQ_test)\n",
        "print(\"MBE: %0.3f\" % MBE_test)\n",
        "print(\"MAE: %0.3f\" % MAE_test)\n",
        "print(\"STD: %0.3f\" % STD_test)\n",
        "print(\"########################################\")\n",
        "print(\" \")"
      ]
    },
    {
      "cell_type": "code",
      "source": [
        "residuos_U2_B = y_final_log_EB - Y_hat_test_ann"
      ],
      "metadata": {
        "id": "hdqenftf6G3o"
      },
      "execution_count": null,
      "outputs": []
    },
    {
      "cell_type": "code",
      "source": [
        "ecdf = ECDF(residuos_U2_B.ravel())\n",
        "ecdf_neg_U2_B = ecdf(0)\n",
        "ecdf_neg_U2_B"
      ],
      "metadata": {
        "id": "mz_0mEkP7BAS"
      },
      "execution_count": null,
      "outputs": []
    },
    {
      "cell_type": "code",
      "execution_count": null,
      "metadata": {
        "id": "WfVxqeHCPdx-"
      },
      "outputs": [],
      "source": [
        "# Intervalo de Confiança U2 (ANN) - Cenário B\n",
        "\n",
        "dif_relativa_sup = math.exp(rmse_test * (1 - ecdf_neg_U2_B) + t_student_bicaudal_90 * STD_test / (len(y_final_log_EB)**(0.5)))\n",
        "dif_relativa_inf = math.exp(- rmse_test * ecdf_neg_U2_B - t_student_bicaudal_90 * STD_test / (len(y_final_log_EB)**(0.5)))\n",
        "\n",
        "print(\"Semiamplitude Superior do IC 90 U2 (Cenário B): %0.4f\" % (dif_relativa_sup - 1))\n",
        "print(\"Semiamplitude Inferior do IC 90 U2 (Cenário B): %0.4f\" % (dif_relativa_inf - 1))"
      ]
    },
    {
      "cell_type": "markdown",
      "metadata": {
        "id": "n9bngmDIPtTH"
      },
      "source": [
        "#### U3"
      ]
    },
    {
      "cell_type": "code",
      "execution_count": null,
      "metadata": {
        "id": "1gWKEROpQiVz"
      },
      "outputs": [],
      "source": [
        "ann_reg_B_N3 = MLPRegressor(hidden_layer_sizes=(8,8), activation='tanh', solver='adam', alpha=0.1, batch_size='auto', learning_rate='constant', learning_rate_init=0.01, power_t=0.5, shuffle=True, random_state=1, verbose=False, warm_start=False, nesterovs_momentum=True, early_stopping=False, validation_fraction=0.2, max_iter = 500)"
      ]
    },
    {
      "cell_type": "code",
      "execution_count": null,
      "metadata": {
        "id": "A4BYNuQ7Qp25"
      },
      "outputs": [],
      "source": [
        "ann_reg_B_N3.fit(X_trainB_N3, y_final_log_reduzido.ravel())\n",
        "\n",
        "preds_ann = ann_reg_B_N3.predict(X_testeEB_N3)"
      ]
    },
    {
      "cell_type": "code",
      "execution_count": null,
      "metadata": {
        "id": "GcqhbiCbQzhx"
      },
      "outputs": [],
      "source": [
        "scores_log_ann_B = cross_val_score(ann_reg_B_N3, X_trainB_N3, y_final_log_reduzido.ravel(), scoring='r2', cv=cv)"
      ]
    },
    {
      "cell_type": "code",
      "execution_count": null,
      "metadata": {
        "id": "ebqL6hlUQ4j6"
      },
      "outputs": [],
      "source": [
        "print('Coeficiente de Determinação Médio (R2) para os 10 folds (XGBoost): %.4f (dp: %.3f)' % (mean(scores_log_ann_B), std(scores_log_ann_B)))"
      ]
    },
    {
      "cell_type": "code",
      "execution_count": null,
      "metadata": {
        "id": "Gz150Io6Q8nG"
      },
      "outputs": [],
      "source": [
        "Y_hat_train_ann = ann_reg_B_N3.predict(X_trainB_N3)\n",
        "\n",
        "rmse_train = np.sqrt(mean_squared_error(y_final_log_reduzido,Y_hat_train_ann))\n",
        "RSQ_train = r2_score(y_final_log_reduzido,Y_hat_train_ann)\n",
        "MBE_train = np.mean(y_final_log_reduzido - Y_hat_train_ann)\n",
        "MAE_train = np.mean(abs(y_final_log_reduzido - Y_hat_train_ann))\n",
        "STD_train = np.std(y_final_log_reduzido - Y_hat_train_ann)\n",
        "# ################################################################\n",
        "# ################################################################\n",
        "print(\"############ Avaliação do Modelo no Conjunto de Treinamento ############\")\n",
        "print(\"RMSE: %0.3f\" % rmse_train)\n",
        "print(\"R2: %0.3f\" % RSQ_train)\n",
        "print(\"MBE: %0.3f\" % MBE_train)\n",
        "print(\"MAE: %0.3f\" % MAE_train)\n",
        "print(\"STD: %0.3f\" % STD_train)\n",
        "print(\"########################################\")\n",
        "print(\" \")\n",
        "# #----------------------------------------------------------------------------------------------------------\n",
        "# # AVALIAÇÃO DO MODELO\n",
        "# #----------------------------------------------------------------------------------------------------------\n",
        "Y_hat_test_ann = ann_reg_B_N3.predict(X_testeEB_N3)\n",
        "\n",
        "rmse_test = np.sqrt(mean_squared_error(y_final_log_EB,Y_hat_test_ann))\n",
        "RSQ_test = r2_score(y_final_log_EB,Y_hat_test_ann)\n",
        "MBE_test = np.mean(y_final_log_EB - Y_hat_test_ann)\n",
        "MAE_test = np.mean(abs(y_final_log_EB - Y_hat_test_ann))\n",
        "STD_test = np.std(y_final_log_EB - Y_hat_test_ann)\n",
        "# ################################################################\n",
        "# ################################################################\n",
        "print(\"############ Avaliação do Modelo no Conjunto de Teste ############\")\n",
        "print(\"RMSE: %0.3f\" % rmse_test)\n",
        "print(\"R2: %0.3f\" % RSQ_test)\n",
        "print(\"MBE: %0.3f\" % MBE_test)\n",
        "print(\"MAE: %0.3f\" % MAE_test)\n",
        "print(\"STD: %0.3f\" % STD_test)\n",
        "print(\"########################################\")\n",
        "print(\" \")"
      ]
    },
    {
      "cell_type": "code",
      "source": [
        "residuos_U3_B = y_final_log_EB - Y_hat_test_ann"
      ],
      "metadata": {
        "id": "8b8VQdJZ9zIV"
      },
      "execution_count": null,
      "outputs": []
    },
    {
      "cell_type": "code",
      "source": [
        "ecdf = ECDF(residuos_U3_B.ravel())\n",
        "ecdf_neg_U3_B = ecdf(0)\n",
        "ecdf_neg_U3_B"
      ],
      "metadata": {
        "id": "r88brU2p93tk"
      },
      "execution_count": null,
      "outputs": []
    },
    {
      "cell_type": "code",
      "execution_count": null,
      "metadata": {
        "id": "UGfT99l2RLWU"
      },
      "outputs": [],
      "source": [
        "# Intervalo de Confiança U3 (ANN) - Cenário B\n",
        "\n",
        "dif_relativa_sup = math.exp(rmse_test * (1 - ecdf_neg_U3_B) + t_student_bicaudal_90 * STD_test / (len(y_final_log_EB)**(0.5)))\n",
        "dif_relativa_inf = math.exp(- rmse_test * ecdf_neg_U3_B - t_student_bicaudal_90 * STD_test / (len(y_final_log_EB)**(0.5)))\n",
        "\n",
        "print(\"Semiamplitude Superior do IC 90 U3 (Cenário B): %0.4f\" % (dif_relativa_sup - 1))\n",
        "print(\"Semiamplitude Inferior do IC 90 U3 (Cenário B): %0.4f\" % (dif_relativa_inf - 1))"
      ]
    },
    {
      "cell_type": "markdown",
      "metadata": {
        "id": "qVrkqWwN6AbG"
      },
      "source": [
        "## Interpretabilidade ANN"
      ]
    },
    {
      "cell_type": "markdown",
      "metadata": {
        "id": "VytywJcXMrqE"
      },
      "source": [
        "### Cenário A"
      ]
    },
    {
      "cell_type": "markdown",
      "metadata": {
        "id": "lzudt9AmT-9E"
      },
      "source": [
        "#### U1"
      ]
    },
    {
      "cell_type": "code",
      "execution_count": null,
      "metadata": {
        "colab": {
          "base_uri": "https://localhost:8080/"
        },
        "id": "0ZEzQkYpTlSH",
        "outputId": "96bd331f-7da0-4442-fde5-8a8e25edd650"
      },
      "outputs": [
        {
          "output_type": "execute_result",
          "data": {
            "text/plain": [
              "Index(['CapitalUF', 'IDHM_2010', 'Terreno', 'CUB*AreaConstruida', 'logArea',\n",
              "       'Vocacao_Comercial', 'Vocacao_Institucional', 'Vocacao_Misto',\n",
              "       'Vocacao_Residencial'],\n",
              "      dtype='object')"
            ]
          },
          "metadata": {},
          "execution_count": 117
        }
      ],
      "source": [
        "X_test_log_N1.columns"
      ]
    },
    {
      "cell_type": "code",
      "execution_count": null,
      "metadata": {
        "id": "IS-q0OtkTpsD"
      },
      "outputs": [],
      "source": [
        "# Valores Shapley - SHAP (SHapley Additive exPlanations)\n",
        "\n",
        "explainer = shap.KernelExplainer(ann_reg_A_N1.predict, X_train_log_N1)\n",
        "shap_values = explainer.shap_values(X_test_log_N1, nsamples=100)\n",
        "shap.summary_plot(shap_values, features=X_test_log_N1, feature_names=['Capital UF', 'IDHM', 'Terreno', 'CUB * Área Construída', 'Ln(Área do Terreno)',\n",
        "       'Vocação Comercial', 'Vocação Institucional', 'Vocação Misto',\n",
        "       'Vocação Residencial'],plot_size=(14.0,8.0),title=' Valores de Shapley Modelo ANN U1 (Cenário A)')"
      ]
    },
    {
      "cell_type": "markdown",
      "metadata": {
        "id": "GvCjiaPTUHDk"
      },
      "source": [
        "#### U2"
      ]
    },
    {
      "cell_type": "code",
      "execution_count": null,
      "metadata": {
        "colab": {
          "base_uri": "https://localhost:8080/"
        },
        "id": "rugMSoxvUJLc",
        "outputId": "f37ce0f3-42e6-41fa-aca5-99d28ec6c016"
      },
      "outputs": [
        {
          "output_type": "execute_result",
          "data": {
            "text/plain": [
              "Index(['CapitalUF', 'IDHM_2010', 'Terreno', 'IdadeAparenteCategorica',\n",
              "       'CUB*AreaConstruida', 'logArea', 'Vocacao_Comercial',\n",
              "       'Vocacao_Institucional', 'Vocacao_Misto', 'Vocacao_Residencial'],\n",
              "      dtype='object')"
            ]
          },
          "metadata": {},
          "execution_count": 119
        }
      ],
      "source": [
        "X_test_log_N2.columns"
      ]
    },
    {
      "cell_type": "code",
      "execution_count": null,
      "metadata": {
        "id": "etI4Dx3HULmT"
      },
      "outputs": [],
      "source": [
        "# Valores Shapley - SHAP (SHapley Additive exPlanations)\n",
        "\n",
        "explainer = shap.KernelExplainer(ann_reg_A_N2.predict, X_train_log_N2)\n",
        "shap_values = explainer.shap_values(X_test_log_N2, nsamples=100)\n",
        "shap.summary_plot(shap_values, features=X_test_log_N2, feature_names=['Capital UF', 'IDHM', 'Terreno', 'Idade Aparente', 'CUB * Área Construída', 'Ln(Área do Terreno)',\n",
        "       'Vocação Comercial', 'Vocação Institucional', 'Vocação Misto',\n",
        "       'Vocação Residencial'],plot_size=(14.0,8.0),title=' Valores de Shapley Modelo ANN U2 (Cenário A)')"
      ]
    },
    {
      "cell_type": "markdown",
      "metadata": {
        "id": "DwXL4Z2fTjNX"
      },
      "source": [
        "#### U3"
      ]
    },
    {
      "cell_type": "code",
      "execution_count": null,
      "metadata": {
        "colab": {
          "base_uri": "https://localhost:8080/"
        },
        "id": "uUDZ_eevWB90",
        "outputId": "46e43218-8816-44e7-9bf2-8b7436e7723d"
      },
      "outputs": [
        {
          "output_type": "execute_result",
          "data": {
            "text/plain": [
              "Index(['CapitalUF', 'IDHM_2010', 'Terreno', 'IdadeAparenteCategorica',\n",
              "       'Rendimento Domiciliar Medio', 'qtd_equipamento_semshopping',\n",
              "       'qtd_shopping', 'qtd_estabelecimento', 'CUB*AreaConstruida', 'logArea',\n",
              "       'Vocacao_Comercial', 'Vocacao_Institucional', 'Vocacao_Misto',\n",
              "       'Vocacao_Residencial'],\n",
              "      dtype='object')"
            ]
          },
          "metadata": {},
          "execution_count": 121
        }
      ],
      "source": [
        "X_test_log_N3.columns"
      ]
    },
    {
      "cell_type": "code",
      "execution_count": null,
      "metadata": {
        "id": "_4axJ5i76C-w"
      },
      "outputs": [],
      "source": [
        "# Valores Shapley - SHAP (SHapley Additive exPlanations)\n",
        "\n",
        "explainer = shap.KernelExplainer(ann_reg_A_N3.predict, X_train_log_N3)\n",
        "shap_values = explainer.shap_values(X_test_log_N3, nsamples=100)\n",
        "shap.summary_plot(shap_values, features=X_test_log_N3, feature_names=['Capital UF', 'IDHM', 'Terreno', 'Idade Aparente',\n",
        "       'Renda Domiciliar AP (IBGE)', 'Qtd Equipamentos (API Google)',\n",
        "       'Qtd Shopping Centers (API Google)', 'Qtd Estabelecimentos (API Google)', 'CUB * Área Construída', 'Ln(Área do Terreno)',\n",
        "       'Vocação Comercial', 'Vocação Institucional', 'Vocação Misto',\n",
        "       'Vocação Residencial'],plot_size=(14.0,8.0),title=' Valores de Shapley Modelo ANN U3 (Cenário A)')"
      ]
    },
    {
      "cell_type": "markdown",
      "metadata": {
        "id": "2ObhaULORSyM"
      },
      "source": [
        "### Cenário B"
      ]
    },
    {
      "cell_type": "markdown",
      "metadata": {
        "id": "n5pkGH15UfK8"
      },
      "source": [
        "#### U1"
      ]
    },
    {
      "cell_type": "code",
      "execution_count": null,
      "metadata": {
        "colab": {
          "base_uri": "https://localhost:8080/"
        },
        "id": "u-Z1W5ikUi88",
        "outputId": "cb3a87b4-c6a5-424e-b035-3a3102e810a3"
      },
      "outputs": [
        {
          "output_type": "execute_result",
          "data": {
            "text/plain": [
              "Index(['CapitalUF', 'IDHM_2010', 'Terreno', 'CUB*AreaConstruida', 'logArea',\n",
              "       'Vocacao_Comercial', 'Vocacao_Institucional', 'Vocacao_Misto',\n",
              "       'Vocacao_Residencial'],\n",
              "      dtype='object')"
            ]
          },
          "metadata": {},
          "execution_count": 123
        }
      ],
      "source": [
        "X_testeEB_N1.columns"
      ]
    },
    {
      "cell_type": "code",
      "execution_count": null,
      "metadata": {
        "id": "yh-Yb5mYUk3E"
      },
      "outputs": [],
      "source": [
        "# Valores Shapley - SHAP (SHapley Additive exPlanations)\n",
        "\n",
        "explainer = shap.KernelExplainer(ann_reg_B_N1.predict, X_trainB_N1)\n",
        "shap_values = explainer.shap_values(X_testeEB_N1, nsamples=100)\n",
        "shap.summary_plot(shap_values, features=X_testeEB_N1, feature_names=['Capital UF', 'IDHM', 'Terreno', 'CUB * Área Construída', 'Ln(Área do Terreno)',\n",
        "       'Vocação Comercial', 'Vocação Institucional', 'Vocação Misto',\n",
        "       'Vocação Residencial'],plot_size=(14.0,8.0),title=' Valores de Shapley Modelo ANN U1 (Cenário B)')"
      ]
    },
    {
      "cell_type": "markdown",
      "metadata": {
        "id": "HHzDM8pgUzuX"
      },
      "source": [
        "#### U2"
      ]
    },
    {
      "cell_type": "code",
      "execution_count": null,
      "metadata": {
        "colab": {
          "base_uri": "https://localhost:8080/"
        },
        "id": "81SrVPv2U1e9",
        "outputId": "e3631e09-14b8-48c1-e1e4-1a5841cba928"
      },
      "outputs": [
        {
          "output_type": "execute_result",
          "data": {
            "text/plain": [
              "Index(['CapitalUF', 'IDHM_2010', 'Terreno', 'IdadeAparenteCategorica',\n",
              "       'CUB*AreaConstruida', 'logArea', 'Vocacao_Comercial',\n",
              "       'Vocacao_Institucional', 'Vocacao_Misto', 'Vocacao_Residencial'],\n",
              "      dtype='object')"
            ]
          },
          "metadata": {},
          "execution_count": 125
        }
      ],
      "source": [
        "X_testeEB_N2.columns"
      ]
    },
    {
      "cell_type": "code",
      "execution_count": null,
      "metadata": {
        "id": "Tspw9opbU3dX"
      },
      "outputs": [],
      "source": [
        "# Valores Shapley - SHAP (SHapley Additive exPlanations)\n",
        "\n",
        "explainer = shap.KernelExplainer(ann_reg_B_N2.predict, X_trainB_N2)\n",
        "shap_values = explainer.shap_values(X_testeEB_N2, nsamples=100)\n",
        "shap.summary_plot(shap_values, features=X_testeEB_N2, feature_names=['Capital UF', 'IDHM', 'Terreno', 'Idade Aparente', 'CUB * Área Construída', 'Ln(Área do Terreno)',\n",
        "       'Vocação Comercial', 'Vocação Institucional', 'Vocação Misto',\n",
        "       'Vocação Residencial'],plot_size=(14.0,8.0),title=' Valores de Shapley Modelo ANN U2 (Cenário B)')"
      ]
    },
    {
      "cell_type": "markdown",
      "metadata": {
        "id": "qEVy6Hb7Udgh"
      },
      "source": [
        "#### U3"
      ]
    },
    {
      "cell_type": "code",
      "execution_count": null,
      "metadata": {
        "colab": {
          "base_uri": "https://localhost:8080/"
        },
        "id": "hpeQtyzIRFrm",
        "outputId": "9b276e85-44b8-4143-ab19-ec5005bcbfaf"
      },
      "outputs": [
        {
          "output_type": "execute_result",
          "data": {
            "text/plain": [
              "Index(['CapitalUF', 'IDHM_2010', 'Terreno', 'IdadeAparenteCategorica',\n",
              "       'Rendimento Domiciliar Medio', 'qtd_equipamento_semshopping',\n",
              "       'qtd_shopping', 'qtd_estabelecimento', 'CUB*AreaConstruida', 'logArea',\n",
              "       'Vocacao_Comercial', 'Vocacao_Institucional', 'Vocacao_Misto',\n",
              "       'Vocacao_Residencial'],\n",
              "      dtype='object')"
            ]
          },
          "metadata": {},
          "execution_count": 127
        }
      ],
      "source": [
        "X_testeEB_N3.columns"
      ]
    },
    {
      "cell_type": "code",
      "execution_count": null,
      "metadata": {
        "id": "snu8eFNqRiBK"
      },
      "outputs": [],
      "source": [
        "# Valores Shapley - SHAP (SHapley Additive exPlanations)\n",
        "\n",
        "explainer = shap.KernelExplainer(ann_reg_B_N3.predict, X_trainB_N3)\n",
        "shap_values = explainer.shap_values(X_testeEB_N3, nsamples=100)\n",
        "shap.summary_plot(shap_values, features=X_testeEB_N3, feature_names=['Capital UF', 'IDHM', 'Terreno', 'Idade Aparente',\n",
        "       'Renda Domiciliar AP (IBGE)', 'Qtd Equipamentos (API Google)',\n",
        "       'Qtd Shopping Centers (API Google)', 'Qtd Estabelecimentos (API Google)', 'CUB * Área Construída', 'Ln(Área do Terreno)',\n",
        "       'Vocação Comercial', 'Vocação Institucional', 'Vocação Misto',\n",
        "       'Vocação Residencial'],plot_size=(14.0,8.0),title=' Valores de Shapley Modelo ANN U3 (Cenário B)')"
      ]
    }
  ],
  "metadata": {
    "colab": {
      "collapsed_sections": [
        "2afgTF0BEdbH",
        "mRzuDBKTjpMX",
        "Cm_vM4US_5Ah",
        "hoLbYOBBJnNn",
        "p1SY8he_lKGl",
        "2Knfww-8pVaC",
        "IgbO_uumozqI",
        "1haowUvmdFGx",
        "jgw2cytNpB4b",
        "zEik7obIo8Qk",
        "dWlqjal4nVq0",
        "EX8xfU_io1we",
        "D-pcueFJ3hsC",
        "PNvfif_H6lll",
        "wKB9awakEDWn",
        "7sF0Vr9OdSwQ",
        "D6VNHZVHJnOQ",
        "DZKyBNh0xhvz",
        "Fs5zd6n5li5h",
        "jRXXwFIrGE6_",
        "C8obqin3hRZA",
        "ikXFhPH-sCBG",
        "RIddAXxVtTm5",
        "sZ9jfEfaoY_f",
        "NnyBc5ozsMU3",
        "6_akqVf20JRQ",
        "HklFnzlzQfgH",
        "XXWtajrSV7td",
        "soklK9F3dvYG",
        "LFaK0QQoggXk",
        "0_vqUru2vnQZ",
        "oOABa2d-9mRc",
        "p-5C7UXUHOfL",
        "dPufZ4cvCQ2m",
        "8-bTgxZ9Cfuz",
        "w-BIkbTK3EZT",
        "cwRSzph84LYX"
      ],
      "provenance": [],
      "toc_visible": true
    },
    "kernelspec": {
      "display_name": "Python 3",
      "language": "python",
      "name": "python3"
    },
    "language_info": {
      "codemirror_mode": {
        "name": "ipython",
        "version": 3
      },
      "file_extension": ".py",
      "mimetype": "text/x-python",
      "name": "python",
      "nbconvert_exporter": "python",
      "pygments_lexer": "ipython3",
      "version": "3.7.7"
    }
  },
  "nbformat": 4,
  "nbformat_minor": 0
}